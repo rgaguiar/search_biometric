{
  "cells": [
    {
      "cell_type": "markdown",
      "metadata": {
        "id": "view-in-github",
        "colab_type": "text"
      },
      "source": [
        "<a href=\"https://colab.research.google.com/github/rgaguiar/search_biometric/blob/main/Ultralytics_YOLO11.ipynb\" target=\"_parent\"><img src=\"https://colab.research.google.com/assets/colab-badge.svg\" alt=\"Open In Colab\"/></a>"
      ]
    },
    {
      "cell_type": "code",
      "source": [
        "!nvidia-smi"
      ],
      "metadata": {
        "colab": {
          "base_uri": "https://localhost:8080/"
        },
        "id": "czikI4ZNY5Ix",
        "outputId": "451d0fc9-fcb4-4f7a-d317-5b423f2025e3"
      },
      "execution_count": 1,
      "outputs": [
        {
          "output_type": "stream",
          "name": "stdout",
          "text": [
            "Wed Feb  5 04:35:07 2025       \n",
            "+-----------------------------------------------------------------------------------------+\n",
            "| NVIDIA-SMI 550.54.15              Driver Version: 550.54.15      CUDA Version: 12.4     |\n",
            "|-----------------------------------------+------------------------+----------------------+\n",
            "| GPU  Name                 Persistence-M | Bus-Id          Disp.A | Volatile Uncorr. ECC |\n",
            "| Fan  Temp   Perf          Pwr:Usage/Cap |           Memory-Usage | GPU-Util  Compute M. |\n",
            "|                                         |                        |               MIG M. |\n",
            "|=========================================+========================+======================|\n",
            "|   0  NVIDIA A100-SXM4-40GB          Off |   00000000:00:04.0 Off |                    0 |\n",
            "| N/A   31C    P0             46W /  400W |       0MiB /  40960MiB |      0%      Default |\n",
            "|                                         |                        |             Disabled |\n",
            "+-----------------------------------------+------------------------+----------------------+\n",
            "                                                                                         \n",
            "+-----------------------------------------------------------------------------------------+\n",
            "| Processes:                                                                              |\n",
            "|  GPU   GI   CI        PID   Type   Process name                              GPU Memory |\n",
            "|        ID   ID                                                               Usage      |\n",
            "|=========================================================================================|\n",
            "|  No running processes found                                                             |\n",
            "+-----------------------------------------------------------------------------------------+\n"
          ]
        }
      ]
    },
    {
      "cell_type": "code",
      "source": [
        "# !pip install roboflow\n",
        "\n",
        "# from roboflow import Roboflow\n",
        "# rf = Roboflow(api_key=\"TZj9GkBzWc1DNcUXrjtB\")\n",
        "# project = rf.workspace(\"palmprint\").project(\"palmprint\")\n",
        "# version = project.version(2)\n",
        "# dataset = version.download(\"yolov11\")"
      ],
      "metadata": {
        "id": "QPI0rmS7W0yu"
      },
      "execution_count": null,
      "outputs": []
    },
    {
      "cell_type": "code",
      "source": [
        "from google.colab import drive\n",
        "drive.mount('/content/drive')"
      ],
      "metadata": {
        "id": "aWFNa56dW0tv"
      },
      "execution_count": null,
      "outputs": []
    },
    {
      "cell_type": "code",
      "source": [
        "# import shutil\n",
        "\n",
        "# source_path = \"/content/Palmprint-2\"  # Caminho da pasta na área de arquivos\n",
        "# destination_path = \"/content/drive/MyDrive/003.Mestrado_UFU/projeto_pesquisa_palmprint/dados_pesquisa/Palmprint-2\"  # Pasta de destino no Google Drive\n",
        "\n",
        "# # Copiar a pasta inteira\n",
        "# shutil.copytree(source_path, destination_path)\n",
        "# print(\"Pasta copiada com sucesso!\")"
      ],
      "metadata": {
        "id": "bi2GzP5eW0j_"
      },
      "execution_count": null,
      "outputs": []
    },
    {
      "cell_type": "code",
      "source": [],
      "metadata": {
        "id": "GdODRn2EW7tt"
      },
      "execution_count": null,
      "outputs": []
    },
    {
      "cell_type": "code",
      "source": [],
      "metadata": {
        "id": "bPM_txFRW7hW"
      },
      "execution_count": null,
      "outputs": []
    },
    {
      "cell_type": "code",
      "source": [],
      "metadata": {
        "id": "3adK8D1XW7c8"
      },
      "execution_count": null,
      "outputs": []
    },
    {
      "cell_type": "code",
      "execution_count": 1,
      "metadata": {
        "colab": {
          "base_uri": "https://localhost:8080/"
        },
        "id": "jmhjI8Bh5Hrc",
        "outputId": "4bc88f7b-1709-42d6-829f-0f11b196abed"
      },
      "outputs": [
        {
          "output_type": "stream",
          "name": "stdout",
          "text": [
            "\u001b[2K   \u001b[90m━━━━━━━━━━━━━━━━━━━━━━━━━━━━━━━━━━━━━━━━\u001b[0m \u001b[32m914.9/914.9 kB\u001b[0m \u001b[31m15.6 MB/s\u001b[0m eta \u001b[36m0:00:00\u001b[0m\n",
            "\u001b[2K   \u001b[90m━━━━━━━━━━━━━━━━━━━━━━━━━━━━━━━━━━━━━━━━\u001b[0m \u001b[32m363.4/363.4 MB\u001b[0m \u001b[31m4.7 MB/s\u001b[0m eta \u001b[36m0:00:00\u001b[0m\n",
            "\u001b[2K   \u001b[90m━━━━━━━━━━━━━━━━━━━━━━━━━━━━━━━━━━━━━━━━\u001b[0m \u001b[32m13.8/13.8 MB\u001b[0m \u001b[31m93.4 MB/s\u001b[0m eta \u001b[36m0:00:00\u001b[0m\n",
            "\u001b[2K   \u001b[90m━━━━━━━━━━━━━━━━━━━━━━━━━━━━━━━━━━━━━━━━\u001b[0m \u001b[32m24.6/24.6 MB\u001b[0m \u001b[31m81.8 MB/s\u001b[0m eta \u001b[36m0:00:00\u001b[0m\n",
            "\u001b[2K   \u001b[90m━━━━━━━━━━━━━━━━━━━━━━━━━━━━━━━━━━━━━━━━\u001b[0m \u001b[32m883.7/883.7 kB\u001b[0m \u001b[31m41.1 MB/s\u001b[0m eta \u001b[36m0:00:00\u001b[0m\n",
            "\u001b[2K   \u001b[90m━━━━━━━━━━━━━━━━━━━━━━━━━━━━━━━━━━━━━━━━\u001b[0m \u001b[32m664.8/664.8 MB\u001b[0m \u001b[31m1.8 MB/s\u001b[0m eta \u001b[36m0:00:00\u001b[0m\n",
            "\u001b[2K   \u001b[90m━━━━━━━━━━━━━━━━━━━━━━━━━━━━━━━━━━━━━━━━\u001b[0m \u001b[32m211.5/211.5 MB\u001b[0m \u001b[31m10.5 MB/s\u001b[0m eta \u001b[36m0:00:00\u001b[0m\n",
            "\u001b[2K   \u001b[90m━━━━━━━━━━━━━━━━━━━━━━━━━━━━━━━━━━━━━━━━\u001b[0m \u001b[32m56.3/56.3 MB\u001b[0m \u001b[31m37.0 MB/s\u001b[0m eta \u001b[36m0:00:00\u001b[0m\n",
            "\u001b[2K   \u001b[90m━━━━━━━━━━━━━━━━━━━━━━━━━━━━━━━━━━━━━━━━\u001b[0m \u001b[32m127.9/127.9 MB\u001b[0m \u001b[31m17.8 MB/s\u001b[0m eta \u001b[36m0:00:00\u001b[0m\n",
            "\u001b[2K   \u001b[90m━━━━━━━━━━━━━━━━━━━━━━━━━━━━━━━━━━━━━━━━\u001b[0m \u001b[32m207.5/207.5 MB\u001b[0m \u001b[31m3.7 MB/s\u001b[0m eta \u001b[36m0:00:00\u001b[0m\n",
            "\u001b[2K   \u001b[90m━━━━━━━━━━━━━━━━━━━━━━━━━━━━━━━━━━━━━━━━\u001b[0m \u001b[32m21.1/21.1 MB\u001b[0m \u001b[31m70.3 MB/s\u001b[0m eta \u001b[36m0:00:00\u001b[0m\n",
            "\u001b[?25h"
          ]
        }
      ],
      "source": [
        "!pip install -q ultralytics"
      ]
    },
    {
      "cell_type": "code",
      "execution_count": 2,
      "metadata": {
        "colab": {
          "base_uri": "https://localhost:8080/"
        },
        "collapsed": true,
        "id": "H8FK6i2j5S_Z",
        "outputId": "cc4c5484-b8e9-4651-bb64-0c368e5047c4"
      },
      "outputs": [
        {
          "metadata": {
            "tags": null
          },
          "name": "stdout",
          "output_type": "stream",
          "text": [
            "Creating new Ultralytics Settings v0.0.6 file ✅ \n",
            "View Ultralytics Settings with 'yolo settings' or at '/root/.config/Ultralytics/settings.json'\n",
            "Update Settings with 'yolo settings key=value', i.e. 'yolo settings runs_dir=path/to/dir'. For help see https://docs.ultralytics.com/quickstart/#ultralytics-settings.\n",
            "Downloading https://github.com/ultralytics/assets/releases/download/v8.3.0/yolo11n-pose.pt to 'yolo11n-pose.pt'...\n"
          ]
        },
        {
          "metadata": {
            "tags": null
          },
          "name": "stderr",
          "output_type": "stream",
          "text": [
            "100%|██████████| 5.97M/5.97M [00:00<00:00, 69.7MB/s]\n"
          ]
        },
        {
          "metadata": {
            "tags": null
          },
          "name": "stdout",
          "output_type": "stream",
          "text": [
            "Ultralytics 8.3.70 🚀 Python-3.11.11 torch-2.5.1+cu124 CUDA:0 (NVIDIA A100-SXM4-40GB, 40507MiB)\n",
            "\u001b[34m\u001b[1mengine/trainer: \u001b[0mtask=pose, mode=train, model=yolo11n-pose.pt, data=hand-keypoints.yaml, epochs=30, time=None, patience=100, batch=16, imgsz=640, save=True, save_period=-1, cache=False, device=None, workers=8, project=None, name=train, exist_ok=False, pretrained=True, optimizer=auto, verbose=True, seed=0, deterministic=True, single_cls=False, rect=False, cos_lr=False, close_mosaic=10, resume=False, amp=True, fraction=1.0, profile=False, freeze=None, multi_scale=False, overlap_mask=True, mask_ratio=4, dropout=0.0, val=True, split=val, save_json=False, save_hybrid=False, conf=None, iou=0.7, max_det=300, half=False, dnn=False, plots=True, source=None, vid_stride=1, stream_buffer=False, visualize=False, augment=False, agnostic_nms=False, classes=None, retina_masks=False, embed=None, show=False, save_frames=False, save_txt=False, save_conf=False, save_crop=False, show_labels=True, show_conf=True, show_boxes=True, line_width=None, format=torchscript, keras=False, optimize=False, int8=False, dynamic=False, simplify=True, opset=None, workspace=None, nms=False, lr0=0.01, lrf=0.01, momentum=0.937, weight_decay=0.0005, warmup_epochs=3.0, warmup_momentum=0.8, warmup_bias_lr=0.1, box=7.5, cls=0.5, dfl=1.5, pose=12.0, kobj=1.0, nbs=64, hsv_h=0.015, hsv_s=0.7, hsv_v=0.4, degrees=0.0, translate=0.1, scale=0.5, shear=0.0, perspective=0.0, flipud=0.0, fliplr=0.5, bgr=0.0, mosaic=1.0, mixup=0.0, copy_paste=0.0, copy_paste_mode=flip, auto_augment=randaugment, erasing=0.4, crop_fraction=1.0, cfg=None, tracker=botsort.yaml, save_dir=runs/pose/train\n",
            "\n",
            "Dataset 'hand-keypoints.yaml' images not found ⚠️, missing path '/content/datasets/hand-keypoints/val'\n",
            "Downloading https://ultralytics.com/assets/hand-keypoints.zip to '/content/datasets/hand-keypoints.zip'...\n"
          ]
        },
        {
          "metadata": {
            "tags": null
          },
          "name": "stderr",
          "output_type": "stream",
          "text": [
            "100%|██████████| 369M/369M [00:03<00:00, 104MB/s]\n",
            "Unzipping /content/datasets/hand-keypoints.zip to /content/datasets/hand-keypoints...: 100%|██████████| 53544/53544 [00:08<00:00, 6127.51file/s]"
          ]
        },
        {
          "metadata": {
            "tags": null
          },
          "name": "stdout",
          "output_type": "stream",
          "text": [
            "Dataset download success ✅ (13.7s), saved to \u001b[1m/content/datasets\u001b[0m\n",
            "\n"
          ]
        },
        {
          "metadata": {
            "tags": null
          },
          "name": "stderr",
          "output_type": "stream",
          "text": [
            "\n"
          ]
        },
        {
          "metadata": {
            "tags": null
          },
          "name": "stdout",
          "output_type": "stream",
          "text": [
            "Downloading https://ultralytics.com/assets/Arial.ttf to '/root/.config/Ultralytics/Arial.ttf'...\n"
          ]
        },
        {
          "metadata": {
            "tags": null
          },
          "name": "stderr",
          "output_type": "stream",
          "text": [
            "100%|██████████| 755k/755k [00:00<00:00, 13.7MB/s]\n"
          ]
        },
        {
          "metadata": {
            "tags": null
          },
          "name": "stdout",
          "output_type": "stream",
          "text": [
            "Overriding model.yaml kpt_shape=[17, 3] with kpt_shape=[21, 3]\n",
            "Overriding model.yaml nc=80 with nc=1\n",
            "\n",
            "                   from  n    params  module                                       arguments                     \n",
            "  0                  -1  1       464  ultralytics.nn.modules.conv.Conv             [3, 16, 3, 2]                 \n",
            "  1                  -1  1      4672  ultralytics.nn.modules.conv.Conv             [16, 32, 3, 2]                \n",
            "  2                  -1  1      6640  ultralytics.nn.modules.block.C3k2            [32, 64, 1, False, 0.25]      \n",
            "  3                  -1  1     36992  ultralytics.nn.modules.conv.Conv             [64, 64, 3, 2]                \n",
            "  4                  -1  1     26080  ultralytics.nn.modules.block.C3k2            [64, 128, 1, False, 0.25]     \n",
            "  5                  -1  1    147712  ultralytics.nn.modules.conv.Conv             [128, 128, 3, 2]              \n",
            "  6                  -1  1     87040  ultralytics.nn.modules.block.C3k2            [128, 128, 1, True]           \n",
            "  7                  -1  1    295424  ultralytics.nn.modules.conv.Conv             [128, 256, 3, 2]              \n",
            "  8                  -1  1    346112  ultralytics.nn.modules.block.C3k2            [256, 256, 1, True]           \n",
            "  9                  -1  1    164608  ultralytics.nn.modules.block.SPPF            [256, 256, 5]                 \n",
            " 10                  -1  1    249728  ultralytics.nn.modules.block.C2PSA           [256, 256, 1]                 \n",
            " 11                  -1  1         0  torch.nn.modules.upsampling.Upsample         [None, 2, 'nearest']          \n",
            " 12             [-1, 6]  1         0  ultralytics.nn.modules.conv.Concat           [1]                           \n",
            " 13                  -1  1    111296  ultralytics.nn.modules.block.C3k2            [384, 128, 1, False]          \n",
            " 14                  -1  1         0  torch.nn.modules.upsampling.Upsample         [None, 2, 'nearest']          \n",
            " 15             [-1, 4]  1         0  ultralytics.nn.modules.conv.Concat           [1]                           \n",
            " 16                  -1  1     32096  ultralytics.nn.modules.block.C3k2            [256, 64, 1, False]           \n",
            " 17                  -1  1     36992  ultralytics.nn.modules.conv.Conv             [64, 64, 3, 2]                \n",
            " 18            [-1, 13]  1         0  ultralytics.nn.modules.conv.Concat           [1]                           \n",
            " 19                  -1  1     86720  ultralytics.nn.modules.block.C3k2            [192, 128, 1, False]          \n",
            " 20                  -1  1    147712  ultralytics.nn.modules.conv.Conv             [128, 128, 3, 2]              \n",
            " 21            [-1, 10]  1         0  ultralytics.nn.modules.conv.Concat           [1]                           \n",
            " 22                  -1  1    378880  ultralytics.nn.modules.block.C3k2            [384, 256, 1, True]           \n",
            " 23        [16, 19, 22]  1    804898  ultralytics.nn.modules.head.Pose             [1, [21, 3], [64, 128, 256]]  \n",
            "YOLO11n-pose summary: 344 layers, 2,964,066 parameters, 2,964,050 gradients, 7.9 GFLOPs\n",
            "\n",
            "Transferred 505/541 items from pretrained weights\n",
            "\u001b[34m\u001b[1mTensorBoard: \u001b[0mStart with 'tensorboard --logdir runs/pose/train', view at http://localhost:6006/\n",
            "Freezing layer 'model.23.dfl.conv.weight'\n",
            "\u001b[34m\u001b[1mAMP: \u001b[0mrunning Automatic Mixed Precision (AMP) checks...\n",
            "Downloading https://github.com/ultralytics/assets/releases/download/v8.3.0/yolo11n.pt to 'yolo11n.pt'...\n"
          ]
        },
        {
          "metadata": {
            "tags": null
          },
          "name": "stderr",
          "output_type": "stream",
          "text": [
            "100%|██████████| 5.35M/5.35M [00:00<00:00, 55.4MB/s]\n"
          ]
        },
        {
          "metadata": {
            "tags": null
          },
          "name": "stdout",
          "output_type": "stream",
          "text": [
            "\u001b[34m\u001b[1mAMP: \u001b[0mchecks passed ✅\n"
          ]
        },
        {
          "metadata": {
            "tags": null
          },
          "name": "stderr",
          "output_type": "stream",
          "text": [
            "\u001b[34m\u001b[1mtrain: \u001b[0mScanning /content/datasets/hand-keypoints/train/labels... 18776 images, 0 backgrounds, 491 corrupt: 100%|██████████| 18776/18776 [00:18<00:00, 1035.78it/s]"
          ]
        },
        {
          "metadata": {
            "tags": null
          },
          "name": "stdout",
          "output_type": "stream",
          "text": [
            "\u001b[34m\u001b[1mtrain: \u001b[0mWARNING ⚠️ /content/datasets/hand-keypoints/train/images/IMG_00001070.jpg: ignoring corrupt image/label: non-normalized or out of bounds coordinates [     1.0379]\n",
            "\u001b[34m\u001b[1mtrain: \u001b[0mWARNING ⚠️ /content/datasets/hand-keypoints/train/images/IMG_00001796.jpg: ignoring corrupt image/label: non-normalized or out of bounds coordinates [     1.0006]\n",
            "\u001b[34m\u001b[1mtrain: \u001b[0mWARNING ⚠️ /content/datasets/hand-keypoints/train/images/IMG_00001800.jpg: ignoring corrupt image/label: non-normalized or out of bounds coordinates [     1.0027]\n",
            "\u001b[34m\u001b[1mtrain: \u001b[0mWARNING ⚠️ /content/datasets/hand-keypoints/train/images/IMG_00001801.jpg: ignoring corrupt image/label: non-normalized or out of bounds coordinates [     1.0049]\n",
            "\u001b[34m\u001b[1mtrain: \u001b[0mWARNING ⚠️ /content/datasets/hand-keypoints/train/images/IMG_00001886.jpg: ignoring corrupt image/label: non-normalized or out of bounds coordinates [     1.0051      1.0038      1.0088      1.0114]\n",
            "\u001b[34m\u001b[1mtrain: \u001b[0mWARNING ⚠️ /content/datasets/hand-keypoints/train/images/IMG_00001887.jpg: ignoring corrupt image/label: non-normalized or out of bounds coordinates [     1.0048      1.0062      1.0099      1.0121]\n",
            "\u001b[34m\u001b[1mtrain: \u001b[0mWARNING ⚠️ /content/datasets/hand-keypoints/train/images/IMG_00001888.jpg: ignoring corrupt image/label: non-normalized or out of bounds coordinates [          1      1.0017]\n",
            "\u001b[34m\u001b[1mtrain: \u001b[0mWARNING ⚠️ /content/datasets/hand-keypoints/train/images/IMG_00001994.jpg: ignoring corrupt image/label: non-normalized or out of bounds coordinates [     1.0059]\n",
            "\u001b[34m\u001b[1mtrain: \u001b[0mWARNING ⚠️ /content/datasets/hand-keypoints/train/images/IMG_00001998.jpg: ignoring corrupt image/label: non-normalized or out of bounds coordinates [     1.0044]\n",
            "\u001b[34m\u001b[1mtrain: \u001b[0mWARNING ⚠️ /content/datasets/hand-keypoints/train/images/IMG_00001999.jpg: ignoring corrupt image/label: non-normalized or out of bounds coordinates [      1.007]\n",
            "\u001b[34m\u001b[1mtrain: \u001b[0mWARNING ⚠️ /content/datasets/hand-keypoints/train/images/IMG_00002000.jpg: ignoring corrupt image/label: non-normalized or out of bounds coordinates [     1.0083]\n",
            "\u001b[34m\u001b[1mtrain: \u001b[0mWARNING ⚠️ /content/datasets/hand-keypoints/train/images/IMG_00002001.jpg: ignoring corrupt image/label: non-normalized or out of bounds coordinates [     1.0146]\n",
            "\u001b[34m\u001b[1mtrain: \u001b[0mWARNING ⚠️ /content/datasets/hand-keypoints/train/images/IMG_00002002.jpg: ignoring corrupt image/label: non-normalized or out of bounds coordinates [     1.0178]\n",
            "\u001b[34m\u001b[1mtrain: \u001b[0mWARNING ⚠️ /content/datasets/hand-keypoints/train/images/IMG_00002003.jpg: ignoring corrupt image/label: non-normalized or out of bounds coordinates [     1.0178]\n",
            "\u001b[34m\u001b[1mtrain: \u001b[0mWARNING ⚠️ /content/datasets/hand-keypoints/train/images/IMG_00002143.jpg: ignoring corrupt image/label: non-normalized or out of bounds coordinates [     1.0582      1.0216]\n",
            "\u001b[34m\u001b[1mtrain: \u001b[0mWARNING ⚠️ /content/datasets/hand-keypoints/train/images/IMG_00002144.jpg: ignoring corrupt image/label: non-normalized or out of bounds coordinates [     1.0641      1.0333]\n",
            "\u001b[34m\u001b[1mtrain: \u001b[0mWARNING ⚠️ /content/datasets/hand-keypoints/train/images/IMG_00002202.jpg: ignoring corrupt image/label: non-normalized or out of bounds coordinates [     1.0041      1.0052       1.008      1.0093      1.0108      1.0112      1.0116]\n",
            "\u001b[34m\u001b[1mtrain: \u001b[0mWARNING ⚠️ /content/datasets/hand-keypoints/train/images/IMG_00002451.jpg: ignoring corrupt image/label: non-normalized or out of bounds coordinates [     1.0121]\n",
            "\u001b[34m\u001b[1mtrain: \u001b[0mWARNING ⚠️ /content/datasets/hand-keypoints/train/images/IMG_00002454.jpg: ignoring corrupt image/label: non-normalized or out of bounds coordinates [      1.023      1.0012]\n",
            "\u001b[34m\u001b[1mtrain: \u001b[0mWARNING ⚠️ /content/datasets/hand-keypoints/train/images/IMG_00002545.jpg: ignoring corrupt image/label: non-normalized or out of bounds coordinates [     1.0051]\n",
            "\u001b[34m\u001b[1mtrain: \u001b[0mWARNING ⚠️ /content/datasets/hand-keypoints/train/images/IMG_00002744.jpg: ignoring corrupt image/label: non-normalized or out of bounds coordinates [     1.0159]\n",
            "\u001b[34m\u001b[1mtrain: \u001b[0mWARNING ⚠️ /content/datasets/hand-keypoints/train/images/IMG_00002745.jpg: ignoring corrupt image/label: non-normalized or out of bounds coordinates [     1.0334]\n",
            "\u001b[34m\u001b[1mtrain: \u001b[0mWARNING ⚠️ /content/datasets/hand-keypoints/train/images/IMG_00002746.jpg: ignoring corrupt image/label: non-normalized or out of bounds coordinates [     1.0399]\n",
            "\u001b[34m\u001b[1mtrain: \u001b[0mWARNING ⚠️ /content/datasets/hand-keypoints/train/images/IMG_00002747.jpg: ignoring corrupt image/label: non-normalized or out of bounds coordinates [     1.0453      1.0009]\n",
            "\u001b[34m\u001b[1mtrain: \u001b[0mWARNING ⚠️ /content/datasets/hand-keypoints/train/images/IMG_00002749.jpg: ignoring corrupt image/label: non-normalized or out of bounds coordinates [     1.0701       1.011]\n",
            "\u001b[34m\u001b[1mtrain: \u001b[0mWARNING ⚠️ /content/datasets/hand-keypoints/train/images/IMG_00002751.jpg: ignoring corrupt image/label: non-normalized or out of bounds coordinates [     1.0658      1.0113]\n",
            "\u001b[34m\u001b[1mtrain: \u001b[0mWARNING ⚠️ /content/datasets/hand-keypoints/train/images/IMG_00002752.jpg: ignoring corrupt image/label: non-normalized or out of bounds coordinates [     1.0505]\n",
            "\u001b[34m\u001b[1mtrain: \u001b[0mWARNING ⚠️ /content/datasets/hand-keypoints/train/images/IMG_00002754.jpg: ignoring corrupt image/label: non-normalized or out of bounds coordinates [     1.0313]\n",
            "\u001b[34m\u001b[1mtrain: \u001b[0mWARNING ⚠️ /content/datasets/hand-keypoints/train/images/IMG_00002760.jpg: ignoring corrupt image/label: non-normalized or out of bounds coordinates [     1.0266]\n",
            "\u001b[34m\u001b[1mtrain: \u001b[0mWARNING ⚠️ /content/datasets/hand-keypoints/train/images/IMG_00002761.jpg: ignoring corrupt image/label: non-normalized or out of bounds coordinates [     1.0449]\n",
            "\u001b[34m\u001b[1mtrain: \u001b[0mWARNING ⚠️ /content/datasets/hand-keypoints/train/images/IMG_00002991.jpg: ignoring corrupt image/label: non-normalized or out of bounds coordinates [     1.0021      1.0099]\n",
            "\u001b[34m\u001b[1mtrain: \u001b[0mWARNING ⚠️ /content/datasets/hand-keypoints/train/images/IMG_00002996.jpg: ignoring corrupt image/label: non-normalized or out of bounds coordinates [      1.007]\n",
            "\u001b[34m\u001b[1mtrain: \u001b[0mWARNING ⚠️ /content/datasets/hand-keypoints/train/images/IMG_00003001.jpg: ignoring corrupt image/label: non-normalized or out of bounds coordinates [     1.0211      1.0371      1.0143      1.0292      1.0036      1.0175      1.0073]\n",
            "\u001b[34m\u001b[1mtrain: \u001b[0mWARNING ⚠️ /content/datasets/hand-keypoints/train/images/IMG_00003109.jpg: ignoring corrupt image/label: non-normalized or out of bounds coordinates [     1.0766      1.0215]\n",
            "\u001b[34m\u001b[1mtrain: \u001b[0mWARNING ⚠️ /content/datasets/hand-keypoints/train/images/IMG_00003111.jpg: ignoring corrupt image/label: non-normalized or out of bounds coordinates [     1.0615      1.0047]\n",
            "\u001b[34m\u001b[1mtrain: \u001b[0mWARNING ⚠️ /content/datasets/hand-keypoints/train/images/IMG_00003114.jpg: ignoring corrupt image/label: non-normalized or out of bounds coordinates [     1.0173]\n",
            "\u001b[34m\u001b[1mtrain: \u001b[0mWARNING ⚠️ /content/datasets/hand-keypoints/train/images/IMG_00003162.jpg: ignoring corrupt image/label: non-normalized or out of bounds coordinates [     1.0111      1.0368]\n",
            "\u001b[34m\u001b[1mtrain: \u001b[0mWARNING ⚠️ /content/datasets/hand-keypoints/train/images/IMG_00003164.jpg: ignoring corrupt image/label: non-normalized or out of bounds coordinates [     1.0071      1.0047      1.0238      1.0125      1.0397        1.01      1.0396      1.0152]\n",
            "\u001b[34m\u001b[1mtrain: \u001b[0mWARNING ⚠️ /content/datasets/hand-keypoints/train/images/IMG_00003372.jpg: ignoring corrupt image/label: non-normalized or out of bounds coordinates [      1.003      1.0101]\n",
            "\u001b[34m\u001b[1mtrain: \u001b[0mWARNING ⚠️ /content/datasets/hand-keypoints/train/images/IMG_00003385.jpg: ignoring corrupt image/label: non-normalized or out of bounds coordinates [     1.0125       1.027      1.0279      1.0451      1.0597]\n",
            "\u001b[34m\u001b[1mtrain: \u001b[0mWARNING ⚠️ /content/datasets/hand-keypoints/train/images/IMG_00003387.jpg: ignoring corrupt image/label: non-normalized or out of bounds coordinates [     1.0005      1.0227      1.0413      1.0243      1.0437      1.0603]\n",
            "\u001b[34m\u001b[1mtrain: \u001b[0mWARNING ⚠️ /content/datasets/hand-keypoints/train/images/IMG_00003388.jpg: ignoring corrupt image/label: non-normalized or out of bounds coordinates [     1.0187      1.0366      1.0213       1.039      1.0546]\n",
            "\u001b[34m\u001b[1mtrain: \u001b[0mWARNING ⚠️ /content/datasets/hand-keypoints/train/images/IMG_00003390.jpg: ignoring corrupt image/label: non-normalized or out of bounds coordinates [     1.0208      1.0405      1.0225      1.0423      1.0603]\n",
            "\u001b[34m\u001b[1mtrain: \u001b[0mWARNING ⚠️ /content/datasets/hand-keypoints/train/images/IMG_00003391.jpg: ignoring corrupt image/label: non-normalized or out of bounds coordinates [     1.0067      1.0217       1.012      1.0306      1.0467]\n",
            "\u001b[34m\u001b[1mtrain: \u001b[0mWARNING ⚠️ /content/datasets/hand-keypoints/train/images/IMG_00003392.jpg: ignoring corrupt image/label: non-normalized or out of bounds coordinates [      1.016      1.0059      1.0274      1.0465]\n",
            "\u001b[34m\u001b[1mtrain: \u001b[0mWARNING ⚠️ /content/datasets/hand-keypoints/train/images/IMG_00003393.jpg: ignoring corrupt image/label: non-normalized or out of bounds coordinates [      1.006      1.0067      1.0219]\n",
            "\u001b[34m\u001b[1mtrain: \u001b[0mWARNING ⚠️ /content/datasets/hand-keypoints/train/images/IMG_00003434.jpg: ignoring corrupt image/label: non-normalized or out of bounds coordinates [     1.0763      1.0129]\n",
            "\u001b[34m\u001b[1mtrain: \u001b[0mWARNING ⚠️ /content/datasets/hand-keypoints/train/images/IMG_00003438.jpg: ignoring corrupt image/label: non-normalized or out of bounds coordinates [     1.0473]\n",
            "\u001b[34m\u001b[1mtrain: \u001b[0mWARNING ⚠️ /content/datasets/hand-keypoints/train/images/IMG_00003439.jpg: ignoring corrupt image/label: non-normalized or out of bounds coordinates [     1.0106]\n",
            "\u001b[34m\u001b[1mtrain: \u001b[0mWARNING ⚠️ /content/datasets/hand-keypoints/train/images/IMG_00003440.jpg: ignoring corrupt image/label: non-normalized or out of bounds coordinates [     1.0347]\n",
            "\u001b[34m\u001b[1mtrain: \u001b[0mWARNING ⚠️ /content/datasets/hand-keypoints/train/images/IMG_00003442.jpg: ignoring corrupt image/label: non-normalized or out of bounds coordinates [      1.018]\n",
            "\u001b[34m\u001b[1mtrain: \u001b[0mWARNING ⚠️ /content/datasets/hand-keypoints/train/images/IMG_00003444.jpg: ignoring corrupt image/label: non-normalized or out of bounds coordinates [     1.0436      1.0107]\n",
            "\u001b[34m\u001b[1mtrain: \u001b[0mWARNING ⚠️ /content/datasets/hand-keypoints/train/images/IMG_00003491.jpg: ignoring corrupt image/label: non-normalized or out of bounds coordinates [     1.0061]\n",
            "\u001b[34m\u001b[1mtrain: \u001b[0mWARNING ⚠️ /content/datasets/hand-keypoints/train/images/IMG_00003492.jpg: ignoring corrupt image/label: non-normalized or out of bounds coordinates [      1.005]\n",
            "\u001b[34m\u001b[1mtrain: \u001b[0mWARNING ⚠️ /content/datasets/hand-keypoints/train/images/IMG_00003592.jpg: ignoring corrupt image/label: non-normalized or out of bounds coordinates [     1.0092      1.0162]\n",
            "\u001b[34m\u001b[1mtrain: \u001b[0mWARNING ⚠️ /content/datasets/hand-keypoints/train/images/IMG_00003593.jpg: ignoring corrupt image/label: non-normalized or out of bounds coordinates [     1.0013      1.0155      1.0172      1.0174]\n",
            "\u001b[34m\u001b[1mtrain: \u001b[0mWARNING ⚠️ /content/datasets/hand-keypoints/train/images/IMG_00003653.jpg: ignoring corrupt image/label: non-normalized or out of bounds coordinates [      1.016]\n",
            "\u001b[34m\u001b[1mtrain: \u001b[0mWARNING ⚠️ /content/datasets/hand-keypoints/train/images/IMG_00003654.jpg: ignoring corrupt image/label: non-normalized or out of bounds coordinates [     1.0179]\n",
            "\u001b[34m\u001b[1mtrain: \u001b[0mWARNING ⚠️ /content/datasets/hand-keypoints/train/images/IMG_00003737.jpg: ignoring corrupt image/label: non-normalized or out of bounds coordinates [     1.0062      1.0065]\n",
            "\u001b[34m\u001b[1mtrain: \u001b[0mWARNING ⚠️ /content/datasets/hand-keypoints/train/images/IMG_00003738.jpg: ignoring corrupt image/label: non-normalized or out of bounds coordinates [     1.0084      1.0016      1.0135      1.0192      1.0068]\n",
            "\u001b[34m\u001b[1mtrain: \u001b[0mWARNING ⚠️ /content/datasets/hand-keypoints/train/images/IMG_00003739.jpg: ignoring corrupt image/label: non-normalized or out of bounds coordinates [     1.0047      1.0169      1.0028      1.0193      1.0201      1.0166]\n",
            "\u001b[34m\u001b[1mtrain: \u001b[0mWARNING ⚠️ /content/datasets/hand-keypoints/train/images/IMG_00003852.jpg: ignoring corrupt image/label: non-normalized or out of bounds coordinates [     1.0196      1.0118      1.0018      1.0866      1.1344      1.1761]\n",
            "\u001b[34m\u001b[1mtrain: \u001b[0mWARNING ⚠️ /content/datasets/hand-keypoints/train/images/IMG_00003853.jpg: ignoring corrupt image/label: non-normalized or out of bounds coordinates [       1.05      1.0787      1.0921      1.0357      1.1215       1.152      1.1742]\n",
            "\u001b[34m\u001b[1mtrain: \u001b[0mWARNING ⚠️ /content/datasets/hand-keypoints/train/images/IMG_00003854.jpg: ignoring corrupt image/label: non-normalized or out of bounds coordinates [     1.0046      1.0566      1.0449      1.1035      1.1434      1.0066       1.097      1.1416      1.1766]\n",
            "\u001b[34m\u001b[1mtrain: \u001b[0mWARNING ⚠️ /content/datasets/hand-keypoints/train/images/IMG_00003855.jpg: ignoring corrupt image/label: non-normalized or out of bounds coordinates [     1.0037      1.0406      1.0541      1.1034      1.1365      1.0208      1.1089      1.1459      1.1759]\n",
            "\u001b[34m\u001b[1mtrain: \u001b[0mWARNING ⚠️ /content/datasets/hand-keypoints/train/images/IMG_00003856.jpg: ignoring corrupt image/label: non-normalized or out of bounds coordinates [     1.0458      1.0713      1.0808      1.0332      1.1149      1.1384      1.1528]\n",
            "\u001b[34m\u001b[1mtrain: \u001b[0mWARNING ⚠️ /content/datasets/hand-keypoints/train/images/IMG_00003857.jpg: ignoring corrupt image/label: non-normalized or out of bounds coordinates [      1.037      1.0274      1.0098      1.0259      1.1112      1.1186      1.1206]\n",
            "\u001b[34m\u001b[1mtrain: \u001b[0mWARNING ⚠️ /content/datasets/hand-keypoints/train/images/IMG_00003859.jpg: ignoring corrupt image/label: non-normalized or out of bounds coordinates [     1.0213        1.02      1.0135      1.0007      1.0944      1.1252      1.1529]\n",
            "\u001b[34m\u001b[1mtrain: \u001b[0mWARNING ⚠️ /content/datasets/hand-keypoints/train/images/IMG_00003861.jpg: ignoring corrupt image/label: non-normalized or out of bounds coordinates [     1.0086      1.0008      1.0833      1.1328      1.1802]\n",
            "\u001b[34m\u001b[1mtrain: \u001b[0mWARNING ⚠️ /content/datasets/hand-keypoints/train/images/IMG_00003862.jpg: ignoring corrupt image/label: non-normalized or out of bounds coordinates [     1.0045      1.0807      1.1331      1.1824]\n",
            "\u001b[34m\u001b[1mtrain: \u001b[0mWARNING ⚠️ /content/datasets/hand-keypoints/train/images/IMG_00003863.jpg: ignoring corrupt image/label: non-normalized or out of bounds coordinates [     1.0736      1.1287      1.1798]\n",
            "\u001b[34m\u001b[1mtrain: \u001b[0mWARNING ⚠️ /content/datasets/hand-keypoints/train/images/IMG_00003864.jpg: ignoring corrupt image/label: non-normalized or out of bounds coordinates [     1.0684      1.1227      1.1738]\n",
            "\u001b[34m\u001b[1mtrain: \u001b[0mWARNING ⚠️ /content/datasets/hand-keypoints/train/images/IMG_00003923.jpg: ignoring corrupt image/label: non-normalized or out of bounds coordinates [     1.0157]\n",
            "\u001b[34m\u001b[1mtrain: \u001b[0mWARNING ⚠️ /content/datasets/hand-keypoints/train/images/IMG_00003924.jpg: ignoring corrupt image/label: non-normalized or out of bounds coordinates [     1.0004]\n",
            "\u001b[34m\u001b[1mtrain: \u001b[0mWARNING ⚠️ /content/datasets/hand-keypoints/train/images/IMG_00004041.jpg: ignoring corrupt image/label: non-normalized or out of bounds coordinates [     1.0111]\n",
            "\u001b[34m\u001b[1mtrain: \u001b[0mWARNING ⚠️ /content/datasets/hand-keypoints/train/images/IMG_00004042.jpg: ignoring corrupt image/label: non-normalized or out of bounds coordinates [     1.0108]\n",
            "\u001b[34m\u001b[1mtrain: \u001b[0mWARNING ⚠️ /content/datasets/hand-keypoints/train/images/IMG_00004044.jpg: ignoring corrupt image/label: non-normalized or out of bounds coordinates [     1.0042]\n",
            "\u001b[34m\u001b[1mtrain: \u001b[0mWARNING ⚠️ /content/datasets/hand-keypoints/train/images/IMG_00004103.jpg: ignoring corrupt image/label: non-normalized or out of bounds coordinates [     1.0248]\n",
            "\u001b[34m\u001b[1mtrain: \u001b[0mWARNING ⚠️ /content/datasets/hand-keypoints/train/images/IMG_00004104.jpg: ignoring corrupt image/label: non-normalized or out of bounds coordinates [     1.0378]\n",
            "\u001b[34m\u001b[1mtrain: \u001b[0mWARNING ⚠️ /content/datasets/hand-keypoints/train/images/IMG_00004250.jpg: ignoring corrupt image/label: non-normalized or out of bounds coordinates [     1.0156]\n",
            "\u001b[34m\u001b[1mtrain: \u001b[0mWARNING ⚠️ /content/datasets/hand-keypoints/train/images/IMG_00004251.jpg: ignoring corrupt image/label: non-normalized or out of bounds coordinates [     1.0798      1.0169]\n",
            "\u001b[34m\u001b[1mtrain: \u001b[0mWARNING ⚠️ /content/datasets/hand-keypoints/train/images/IMG_00004253.jpg: ignoring corrupt image/label: non-normalized or out of bounds coordinates [     1.0711      1.0432      1.0118]\n",
            "\u001b[34m\u001b[1mtrain: \u001b[0mWARNING ⚠️ /content/datasets/hand-keypoints/train/images/IMG_00004367.jpg: ignoring corrupt image/label: non-normalized or out of bounds coordinates [     1.0024      1.0112      1.0186]\n",
            "\u001b[34m\u001b[1mtrain: \u001b[0mWARNING ⚠️ /content/datasets/hand-keypoints/train/images/IMG_00004427.jpg: ignoring corrupt image/label: non-normalized or out of bounds coordinates [     1.0477]\n",
            "\u001b[34m\u001b[1mtrain: \u001b[0mWARNING ⚠️ /content/datasets/hand-keypoints/train/images/IMG_00004429.jpg: ignoring corrupt image/label: non-normalized or out of bounds coordinates [     1.1353      1.0797]\n",
            "\u001b[34m\u001b[1mtrain: \u001b[0mWARNING ⚠️ /content/datasets/hand-keypoints/train/images/IMG_00004488.jpg: ignoring corrupt image/label: non-normalized or out of bounds coordinates [     1.0097]\n",
            "\u001b[34m\u001b[1mtrain: \u001b[0mWARNING ⚠️ /content/datasets/hand-keypoints/train/images/IMG_00004489.jpg: ignoring corrupt image/label: non-normalized or out of bounds coordinates [     1.0258]\n",
            "\u001b[34m\u001b[1mtrain: \u001b[0mWARNING ⚠️ /content/datasets/hand-keypoints/train/images/IMG_00004573.jpg: ignoring corrupt image/label: non-normalized or out of bounds coordinates [     1.0139]\n",
            "\u001b[34m\u001b[1mtrain: \u001b[0mWARNING ⚠️ /content/datasets/hand-keypoints/train/images/IMG_00004574.jpg: ignoring corrupt image/label: non-normalized or out of bounds coordinates [     1.0425      1.0094]\n",
            "\u001b[34m\u001b[1mtrain: \u001b[0mWARNING ⚠️ /content/datasets/hand-keypoints/train/images/IMG_00004575.jpg: ignoring corrupt image/label: non-normalized or out of bounds coordinates [     1.0578      1.0285]\n",
            "\u001b[34m\u001b[1mtrain: \u001b[0mWARNING ⚠️ /content/datasets/hand-keypoints/train/images/IMG_00004576.jpg: ignoring corrupt image/label: non-normalized or out of bounds coordinates [     1.0751      1.0412]\n",
            "\u001b[34m\u001b[1mtrain: \u001b[0mWARNING ⚠️ /content/datasets/hand-keypoints/train/images/IMG_00004577.jpg: ignoring corrupt image/label: non-normalized or out of bounds coordinates [     1.0616      1.0401]\n",
            "\u001b[34m\u001b[1mtrain: \u001b[0mWARNING ⚠️ /content/datasets/hand-keypoints/train/images/IMG_00004578.jpg: ignoring corrupt image/label: non-normalized or out of bounds coordinates [     1.0448      1.0286]\n",
            "\u001b[34m\u001b[1mtrain: \u001b[0mWARNING ⚠️ /content/datasets/hand-keypoints/train/images/IMG_00004579.jpg: ignoring corrupt image/label: non-normalized or out of bounds coordinates [     1.0554      1.0387]\n",
            "\u001b[34m\u001b[1mtrain: \u001b[0mWARNING ⚠️ /content/datasets/hand-keypoints/train/images/IMG_00004580.jpg: ignoring corrupt image/label: non-normalized or out of bounds coordinates [     1.0586      1.0493]\n",
            "\u001b[34m\u001b[1mtrain: \u001b[0mWARNING ⚠️ /content/datasets/hand-keypoints/train/images/IMG_00004582.jpg: ignoring corrupt image/label: non-normalized or out of bounds coordinates [     1.0443      1.0387]\n",
            "\u001b[34m\u001b[1mtrain: \u001b[0mWARNING ⚠️ /content/datasets/hand-keypoints/train/images/IMG_00004584.jpg: ignoring corrupt image/label: non-normalized or out of bounds coordinates [     1.0238      1.0153]\n",
            "\u001b[34m\u001b[1mtrain: \u001b[0mWARNING ⚠️ /content/datasets/hand-keypoints/train/images/IMG_00004612.jpg: ignoring corrupt image/label: non-normalized or out of bounds coordinates [     1.0043      1.0358      1.0635      1.0244      1.0636      1.0873      1.0512      1.0845      1.1043      1.0299       1.074      1.0998      1.1154]\n",
            "\u001b[34m\u001b[1mtrain: \u001b[0mWARNING ⚠️ /content/datasets/hand-keypoints/train/images/IMG_00004613.jpg: ignoring corrupt image/label: non-normalized or out of bounds coordinates [     1.0082      1.0013      1.0189      1.0272      1.0166      1.0422      1.0464      1.0348      1.0082      1.0573      1.0598      1.0499]\n",
            "\u001b[34m\u001b[1mtrain: \u001b[0mWARNING ⚠️ /content/datasets/hand-keypoints/train/images/IMG_00004704.jpg: ignoring corrupt image/label: non-normalized or out of bounds coordinates [     1.0265]\n",
            "\u001b[34m\u001b[1mtrain: \u001b[0mWARNING ⚠️ /content/datasets/hand-keypoints/train/images/IMG_00004934.jpg: ignoring corrupt image/label: non-normalized or out of bounds coordinates [     1.0033]\n",
            "\u001b[34m\u001b[1mtrain: \u001b[0mWARNING ⚠️ /content/datasets/hand-keypoints/train/images/IMG_00005350.jpg: ignoring corrupt image/label: non-normalized or out of bounds coordinates [     1.0067      1.0204      1.0464      1.0125       1.051      1.0788      1.0337      1.0643      1.0892]\n",
            "\u001b[34m\u001b[1mtrain: \u001b[0mWARNING ⚠️ /content/datasets/hand-keypoints/train/images/IMG_00005351.jpg: ignoring corrupt image/label: non-normalized or out of bounds coordinates [     1.0042      1.0251      1.0336      1.0223      1.0496      1.0583      1.0463      1.0081      1.0661      1.0757      1.0689]\n",
            "\u001b[34m\u001b[1mtrain: \u001b[0mWARNING ⚠️ /content/datasets/hand-keypoints/train/images/IMG_00005353.jpg: ignoring corrupt image/label: non-normalized or out of bounds coordinates [     1.0366      1.0631      1.0243      1.0618      1.0868      1.0452      1.0799      1.1035      1.0544      1.0836       1.106]\n",
            "\u001b[34m\u001b[1mtrain: \u001b[0mWARNING ⚠️ /content/datasets/hand-keypoints/train/images/IMG_00005355.jpg: ignoring corrupt image/label: non-normalized or out of bounds coordinates [     1.0007       1.006      1.0242      1.0139      1.0366]\n",
            "\u001b[34m\u001b[1mtrain: \u001b[0mWARNING ⚠️ /content/datasets/hand-keypoints/train/images/IMG_00005390.jpg: ignoring corrupt image/label: non-normalized or out of bounds coordinates [     1.0293]\n",
            "\u001b[34m\u001b[1mtrain: \u001b[0mWARNING ⚠️ /content/datasets/hand-keypoints/train/images/IMG_00005391.jpg: ignoring corrupt image/label: non-normalized or out of bounds coordinates [     1.0319]\n",
            "\u001b[34m\u001b[1mtrain: \u001b[0mWARNING ⚠️ /content/datasets/hand-keypoints/train/images/IMG_00005394.jpg: ignoring corrupt image/label: non-normalized or out of bounds coordinates [     1.0893      1.0028]\n",
            "\u001b[34m\u001b[1mtrain: \u001b[0mWARNING ⚠️ /content/datasets/hand-keypoints/train/images/IMG_00005628.jpg: ignoring corrupt image/label: non-normalized or out of bounds coordinates [     1.0205      1.0157      1.0363]\n",
            "\u001b[34m\u001b[1mtrain: \u001b[0mWARNING ⚠️ /content/datasets/hand-keypoints/train/images/IMG_00005720.jpg: ignoring corrupt image/label: non-normalized or out of bounds coordinates [     1.0182        1.02      1.0388       1.016      1.0375       1.046      1.0294      1.0445      1.0495]\n",
            "\u001b[34m\u001b[1mtrain: \u001b[0mWARNING ⚠️ /content/datasets/hand-keypoints/train/images/IMG_00005903.jpg: ignoring corrupt image/label: non-normalized or out of bounds coordinates [     1.0049      1.0068      1.0164      1.0244]\n",
            "\u001b[34m\u001b[1mtrain: \u001b[0mWARNING ⚠️ /content/datasets/hand-keypoints/train/images/IMG_00005904.jpg: ignoring corrupt image/label: non-normalized or out of bounds coordinates [      1.004      1.0135      1.0113      1.0197      1.0274]\n",
            "\u001b[34m\u001b[1mtrain: \u001b[0mWARNING ⚠️ /content/datasets/hand-keypoints/train/images/IMG_00006055.jpg: ignoring corrupt image/label: non-normalized or out of bounds coordinates [     1.0079      1.0118      1.0136]\n",
            "\u001b[34m\u001b[1mtrain: \u001b[0mWARNING ⚠️ /content/datasets/hand-keypoints/train/images/IMG_00006120.jpg: ignoring corrupt image/label: non-normalized or out of bounds coordinates [     1.0024      1.0263      1.0203      1.0449      1.0105      1.0348      1.0573]\n",
            "\u001b[34m\u001b[1mtrain: \u001b[0mWARNING ⚠️ /content/datasets/hand-keypoints/train/images/IMG_00006121.jpg: ignoring corrupt image/label: non-normalized or out of bounds coordinates [      1.018      1.0155      1.0328]\n",
            "\u001b[34m\u001b[1mtrain: \u001b[0mWARNING ⚠️ /content/datasets/hand-keypoints/train/images/IMG_00006122.jpg: ignoring corrupt image/label: non-normalized or out of bounds coordinates [     1.0042      1.0061      1.0249]\n",
            "\u001b[34m\u001b[1mtrain: \u001b[0mWARNING ⚠️ /content/datasets/hand-keypoints/train/images/IMG_00006196.jpg: ignoring corrupt image/label: non-normalized or out of bounds coordinates [     1.0073        1.02      1.0234      1.0347      1.0449]\n",
            "\u001b[34m\u001b[1mtrain: \u001b[0mWARNING ⚠️ /content/datasets/hand-keypoints/train/images/IMG_00006495.jpg: ignoring corrupt image/label: non-normalized or out of bounds coordinates [     1.0246]\n",
            "\u001b[34m\u001b[1mtrain: \u001b[0mWARNING ⚠️ /content/datasets/hand-keypoints/train/images/IMG_00006497.jpg: ignoring corrupt image/label: non-normalized or out of bounds coordinates [     1.0393      1.0091]\n",
            "\u001b[34m\u001b[1mtrain: \u001b[0mWARNING ⚠️ /content/datasets/hand-keypoints/train/images/IMG_00006498.jpg: ignoring corrupt image/label: non-normalized or out of bounds coordinates [     1.0589      1.0243]\n",
            "\u001b[34m\u001b[1mtrain: \u001b[0mWARNING ⚠️ /content/datasets/hand-keypoints/train/images/IMG_00006499.jpg: ignoring corrupt image/label: non-normalized or out of bounds coordinates [     1.0411      1.0177]\n",
            "\u001b[34m\u001b[1mtrain: \u001b[0mWARNING ⚠️ /content/datasets/hand-keypoints/train/images/IMG_00006620.jpg: ignoring corrupt image/label: non-normalized or out of bounds coordinates [     1.0022      1.0015]\n",
            "\u001b[34m\u001b[1mtrain: \u001b[0mWARNING ⚠️ /content/datasets/hand-keypoints/train/images/IMG_00006621.jpg: ignoring corrupt image/label: non-normalized or out of bounds coordinates [     1.0297      1.0197]\n",
            "\u001b[34m\u001b[1mtrain: \u001b[0mWARNING ⚠️ /content/datasets/hand-keypoints/train/images/IMG_00006650.jpg: ignoring corrupt image/label: non-normalized or out of bounds coordinates [     1.0145      1.0334      1.0252        1.05      1.0646      1.0104      1.0409      1.0528      1.0586]\n",
            "\u001b[34m\u001b[1mtrain: \u001b[0mWARNING ⚠️ /content/datasets/hand-keypoints/train/images/IMG_00006652.jpg: ignoring corrupt image/label: non-normalized or out of bounds coordinates [     1.0063      1.0186      1.0207       1.026      1.0223      1.0198      1.0484      1.0514      1.0466       1.049      1.0724      1.0741      1.0689]\n",
            "\u001b[34m\u001b[1mtrain: \u001b[0mWARNING ⚠️ /content/datasets/hand-keypoints/train/images/IMG_00006750.jpg: ignoring corrupt image/label: non-normalized or out of bounds coordinates [      1.019      1.0169      1.0473      1.0028      1.0281      1.0539]\n",
            "\u001b[34m\u001b[1mtrain: \u001b[0mWARNING ⚠️ /content/datasets/hand-keypoints/train/images/IMG_00006751.jpg: ignoring corrupt image/label: non-normalized or out of bounds coordinates [     1.0035      1.0167       1.017]\n",
            "\u001b[34m\u001b[1mtrain: \u001b[0mWARNING ⚠️ /content/datasets/hand-keypoints/train/images/IMG_00006752.jpg: ignoring corrupt image/label: non-normalized or out of bounds coordinates [     1.0205      1.0113      1.0364]\n",
            "\u001b[34m\u001b[1mtrain: \u001b[0mWARNING ⚠️ /content/datasets/hand-keypoints/train/images/IMG_00006753.jpg: ignoring corrupt image/label: non-normalized or out of bounds coordinates [     1.0203      1.0186      1.0545      1.0111      1.0447      1.0749]\n",
            "\u001b[34m\u001b[1mtrain: \u001b[0mWARNING ⚠️ /content/datasets/hand-keypoints/train/images/IMG_00006754.jpg: ignoring corrupt image/label: non-normalized or out of bounds coordinates [     1.0107      1.0062      1.0439      1.0003      1.0341      1.0667]\n",
            "\u001b[34m\u001b[1mtrain: \u001b[0mWARNING ⚠️ /content/datasets/hand-keypoints/train/images/IMG_00006825.jpg: ignoring corrupt image/label: non-normalized or out of bounds coordinates [     1.0036]\n",
            "\u001b[34m\u001b[1mtrain: \u001b[0mWARNING ⚠️ /content/datasets/hand-keypoints/train/images/IMG_00007035.jpg: ignoring corrupt image/label: non-normalized or out of bounds coordinates [     1.0023       1.015      1.0258]\n",
            "\u001b[34m\u001b[1mtrain: \u001b[0mWARNING ⚠️ /content/datasets/hand-keypoints/train/images/IMG_00007050.jpg: ignoring corrupt image/label: non-normalized or out of bounds coordinates [     1.0017      1.0028]\n",
            "\u001b[34m\u001b[1mtrain: \u001b[0mWARNING ⚠️ /content/datasets/hand-keypoints/train/images/IMG_00007185.jpg: ignoring corrupt image/label: non-normalized or out of bounds coordinates [     1.0028      1.0186]\n",
            "\u001b[34m\u001b[1mtrain: \u001b[0mWARNING ⚠️ /content/datasets/hand-keypoints/train/images/IMG_00007186.jpg: ignoring corrupt image/label: non-normalized or out of bounds coordinates [     1.0051      1.0267]\n",
            "\u001b[34m\u001b[1mtrain: \u001b[0mWARNING ⚠️ /content/datasets/hand-keypoints/train/images/IMG_00007188.jpg: ignoring corrupt image/label: non-normalized or out of bounds coordinates [     1.0231      1.0177]\n",
            "\u001b[34m\u001b[1mtrain: \u001b[0mWARNING ⚠️ /content/datasets/hand-keypoints/train/images/IMG_00007189.jpg: ignoring corrupt image/label: non-normalized or out of bounds coordinates [     1.0053]\n",
            "\u001b[34m\u001b[1mtrain: \u001b[0mWARNING ⚠️ /content/datasets/hand-keypoints/train/images/IMG_00007303.jpg: ignoring corrupt image/label: non-normalized or out of bounds coordinates [     1.0438      1.0056]\n",
            "\u001b[34m\u001b[1mtrain: \u001b[0mWARNING ⚠️ /content/datasets/hand-keypoints/train/images/IMG_00007304.jpg: ignoring corrupt image/label: non-normalized or out of bounds coordinates [     1.0917]\n",
            "\u001b[34m\u001b[1mtrain: \u001b[0mWARNING ⚠️ /content/datasets/hand-keypoints/train/images/IMG_00007313.jpg: ignoring corrupt image/label: non-normalized or out of bounds coordinates [     1.0424]\n",
            "\u001b[34m\u001b[1mtrain: \u001b[0mWARNING ⚠️ /content/datasets/hand-keypoints/train/images/IMG_00007338.jpg: ignoring corrupt image/label: non-normalized or out of bounds coordinates [     1.0039      1.0134      1.0214]\n",
            "\u001b[34m\u001b[1mtrain: \u001b[0mWARNING ⚠️ /content/datasets/hand-keypoints/train/images/IMG_00007339.jpg: ignoring corrupt image/label: non-normalized or out of bounds coordinates [     1.0024      1.0076      1.0118      1.0101      1.0268       1.034      1.0397]\n",
            "\u001b[34m\u001b[1mtrain: \u001b[0mWARNING ⚠️ /content/datasets/hand-keypoints/train/images/IMG_00007382.jpg: ignoring corrupt image/label: non-normalized or out of bounds coordinates [     1.0048      1.0151      1.0221      1.0183      1.0417      1.0506      1.0583       1.043      1.0697       1.082      1.0919]\n",
            "\u001b[34m\u001b[1mtrain: \u001b[0mWARNING ⚠️ /content/datasets/hand-keypoints/train/images/IMG_00007500.jpg: ignoring corrupt image/label: non-normalized or out of bounds coordinates [     1.0144]\n",
            "\u001b[34m\u001b[1mtrain: \u001b[0mWARNING ⚠️ /content/datasets/hand-keypoints/train/images/IMG_00007626.jpg: ignoring corrupt image/label: non-normalized or out of bounds coordinates [     1.0013       1.013      1.0269      1.0162       1.026      1.0344]\n",
            "\u001b[34m\u001b[1mtrain: \u001b[0mWARNING ⚠️ /content/datasets/hand-keypoints/train/images/IMG_00007778.jpg: ignoring corrupt image/label: non-normalized or out of bounds coordinates [     1.0042      1.0074]\n",
            "\u001b[34m\u001b[1mtrain: \u001b[0mWARNING ⚠️ /content/datasets/hand-keypoints/train/images/IMG_00007808.jpg: ignoring corrupt image/label: non-normalized or out of bounds coordinates [     1.0058      1.0024]\n",
            "\u001b[34m\u001b[1mtrain: \u001b[0mWARNING ⚠️ /content/datasets/hand-keypoints/train/images/IMG_00007810.jpg: ignoring corrupt image/label: non-normalized or out of bounds coordinates [     1.0079        1.03      1.0229       1.046      1.0042      1.0238      1.0352]\n",
            "\u001b[34m\u001b[1mtrain: \u001b[0mWARNING ⚠️ /content/datasets/hand-keypoints/train/images/IMG_00007868.jpg: ignoring corrupt image/label: non-normalized or out of bounds coordinates [     1.0044      1.0028      1.0167]\n",
            "\u001b[34m\u001b[1mtrain: \u001b[0mWARNING ⚠️ /content/datasets/hand-keypoints/train/images/IMG_00007869.jpg: ignoring corrupt image/label: non-normalized or out of bounds coordinates [     1.0033      1.0023      1.0049       1.017      1.0293      1.0338]\n",
            "\u001b[34m\u001b[1mtrain: \u001b[0mWARNING ⚠️ /content/datasets/hand-keypoints/train/images/IMG_00007870.jpg: ignoring corrupt image/label: non-normalized or out of bounds coordinates [     1.0049      1.0237      1.0139      1.0351      1.0465       1.005      1.0383      1.0548      1.0643]\n",
            "\u001b[34m\u001b[1mtrain: \u001b[0mWARNING ⚠️ /content/datasets/hand-keypoints/train/images/IMG_00007918.jpg: ignoring corrupt image/label: non-normalized or out of bounds coordinates [     1.0029      1.0092]\n",
            "\u001b[34m\u001b[1mtrain: \u001b[0mWARNING ⚠️ /content/datasets/hand-keypoints/train/images/IMG_00007919.jpg: ignoring corrupt image/label: non-normalized or out of bounds coordinates [     1.0066      1.0197      1.0177      1.0338       1.047      1.0481]\n",
            "\u001b[34m\u001b[1mtrain: \u001b[0mWARNING ⚠️ /content/datasets/hand-keypoints/train/images/IMG_00007920.jpg: ignoring corrupt image/label: non-normalized or out of bounds coordinates [     1.0109      1.0184      1.0113      1.0393      1.0473      1.0449      1.0258      1.0667       1.074      1.0697      1.0507      1.0883      1.0999      1.1011]\n",
            "\u001b[34m\u001b[1mtrain: \u001b[0mWARNING ⚠️ /content/datasets/hand-keypoints/train/images/IMG_00008071.jpg: ignoring corrupt image/label: non-normalized or out of bounds coordinates [     1.0155      1.0095      1.0343      1.0552      1.0278      1.0499      1.0681]\n",
            "\u001b[34m\u001b[1mtrain: \u001b[0mWARNING ⚠️ /content/datasets/hand-keypoints/train/images/IMG_00008072.jpg: ignoring corrupt image/label: non-normalized or out of bounds coordinates [      1.008      1.0221      1.0416      1.0591      1.0205      1.0596      1.0803      1.0997      1.0481      1.0835      1.1004      1.1151]\n",
            "\u001b[34m\u001b[1mtrain: \u001b[0mWARNING ⚠️ /content/datasets/hand-keypoints/train/images/IMG_00008190.jpg: ignoring corrupt image/label: non-normalized or out of bounds coordinates [     1.0018       1.023      1.0046      1.0249      1.0385]\n",
            "\u001b[34m\u001b[1mtrain: \u001b[0mWARNING ⚠️ /content/datasets/hand-keypoints/train/images/IMG_00008191.jpg: ignoring corrupt image/label: non-normalized or out of bounds coordinates [     1.0091      1.0258       1.017        1.04      1.0482      1.0396      1.0599      1.0682]\n",
            "\u001b[34m\u001b[1mtrain: \u001b[0mWARNING ⚠️ /content/datasets/hand-keypoints/train/images/IMG_00008208.jpg: ignoring corrupt image/label: non-normalized or out of bounds coordinates [     1.0234      1.0228      1.0479      1.0155      1.0423      1.0646]\n",
            "\u001b[34m\u001b[1mtrain: \u001b[0mWARNING ⚠️ /content/datasets/hand-keypoints/train/images/IMG_00008209.jpg: ignoring corrupt image/label: non-normalized or out of bounds coordinates [     1.0117]\n",
            "\u001b[34m\u001b[1mtrain: \u001b[0mWARNING ⚠️ /content/datasets/hand-keypoints/train/images/IMG_00008210.jpg: ignoring corrupt image/label: non-normalized or out of bounds coordinates [     1.0008]\n",
            "\u001b[34m\u001b[1mtrain: \u001b[0mWARNING ⚠️ /content/datasets/hand-keypoints/train/images/IMG_00008313.jpg: ignoring corrupt image/label: non-normalized or out of bounds coordinates [     1.0047]\n",
            "\u001b[34m\u001b[1mtrain: \u001b[0mWARNING ⚠️ /content/datasets/hand-keypoints/train/images/IMG_00008314.jpg: ignoring corrupt image/label: non-normalized or out of bounds coordinates [     1.0108]\n",
            "\u001b[34m\u001b[1mtrain: \u001b[0mWARNING ⚠️ /content/datasets/hand-keypoints/train/images/IMG_00008367.jpg: ignoring corrupt image/label: non-normalized or out of bounds coordinates [     1.0044]\n",
            "\u001b[34m\u001b[1mtrain: \u001b[0mWARNING ⚠️ /content/datasets/hand-keypoints/train/images/IMG_00008369.jpg: ignoring corrupt image/label: non-normalized or out of bounds coordinates [     1.0555]\n",
            "\u001b[34m\u001b[1mtrain: \u001b[0mWARNING ⚠️ /content/datasets/hand-keypoints/train/images/IMG_00008371.jpg: ignoring corrupt image/label: non-normalized or out of bounds coordinates [     1.0667      1.0074]\n",
            "\u001b[34m\u001b[1mtrain: \u001b[0mWARNING ⚠️ /content/datasets/hand-keypoints/train/images/IMG_00008372.jpg: ignoring corrupt image/label: non-normalized or out of bounds coordinates [     1.0688      1.0106]\n",
            "\u001b[34m\u001b[1mtrain: \u001b[0mWARNING ⚠️ /content/datasets/hand-keypoints/train/images/IMG_00008373.jpg: ignoring corrupt image/label: non-normalized or out of bounds coordinates [     1.0607      1.0133]\n",
            "\u001b[34m\u001b[1mtrain: \u001b[0mWARNING ⚠️ /content/datasets/hand-keypoints/train/images/IMG_00008374.jpg: ignoring corrupt image/label: non-normalized or out of bounds coordinates [     1.0663      1.0187]\n",
            "\u001b[34m\u001b[1mtrain: \u001b[0mWARNING ⚠️ /content/datasets/hand-keypoints/train/images/IMG_00008376.jpg: ignoring corrupt image/label: non-normalized or out of bounds coordinates [     1.0446      1.0036]\n",
            "\u001b[34m\u001b[1mtrain: \u001b[0mWARNING ⚠️ /content/datasets/hand-keypoints/train/images/IMG_00008380.jpg: ignoring corrupt image/label: non-normalized or out of bounds coordinates [     1.0435      1.0048]\n",
            "\u001b[34m\u001b[1mtrain: \u001b[0mWARNING ⚠️ /content/datasets/hand-keypoints/train/images/IMG_00008420.jpg: ignoring corrupt image/label: non-normalized or out of bounds coordinates [     1.0194      1.0398      1.0273      1.0504      1.0707]\n",
            "\u001b[34m\u001b[1mtrain: \u001b[0mWARNING ⚠️ /content/datasets/hand-keypoints/train/images/IMG_00008463.jpg: ignoring corrupt image/label: non-normalized or out of bounds coordinates [     1.0132      1.0155]\n",
            "\u001b[34m\u001b[1mtrain: \u001b[0mWARNING ⚠️ /content/datasets/hand-keypoints/train/images/IMG_00008464.jpg: ignoring corrupt image/label: non-normalized or out of bounds coordinates [     1.0057      1.0108]\n",
            "\u001b[34m\u001b[1mtrain: \u001b[0mWARNING ⚠️ /content/datasets/hand-keypoints/train/images/IMG_00008465.jpg: ignoring corrupt image/label: non-normalized or out of bounds coordinates [     1.0066      1.0168      1.0021      1.0171]\n",
            "\u001b[34m\u001b[1mtrain: \u001b[0mWARNING ⚠️ /content/datasets/hand-keypoints/train/images/IMG_00008466.jpg: ignoring corrupt image/label: non-normalized or out of bounds coordinates [     1.0065      1.0163      1.0027      1.0193]\n",
            "\u001b[34m\u001b[1mtrain: \u001b[0mWARNING ⚠️ /content/datasets/hand-keypoints/train/images/IMG_00008467.jpg: ignoring corrupt image/label: non-normalized or out of bounds coordinates [     1.0085]\n",
            "\u001b[34m\u001b[1mtrain: \u001b[0mWARNING ⚠️ /content/datasets/hand-keypoints/train/images/IMG_00008850.jpg: ignoring corrupt image/label: non-normalized or out of bounds coordinates [      1.027      1.0092]\n",
            "\u001b[34m\u001b[1mtrain: \u001b[0mWARNING ⚠️ /content/datasets/hand-keypoints/train/images/IMG_00008884.jpg: ignoring corrupt image/label: non-normalized or out of bounds coordinates [     1.0089]\n",
            "\u001b[34m\u001b[1mtrain: \u001b[0mWARNING ⚠️ /content/datasets/hand-keypoints/train/images/IMG_00008885.jpg: ignoring corrupt image/label: non-normalized or out of bounds coordinates [     1.0212]\n",
            "\u001b[34m\u001b[1mtrain: \u001b[0mWARNING ⚠️ /content/datasets/hand-keypoints/train/images/IMG_00008886.jpg: ignoring corrupt image/label: non-normalized or out of bounds coordinates [     1.0271]\n",
            "\u001b[34m\u001b[1mtrain: \u001b[0mWARNING ⚠️ /content/datasets/hand-keypoints/train/images/IMG_00009187.jpg: ignoring corrupt image/label: non-normalized or out of bounds coordinates [     1.0079]\n",
            "\u001b[34m\u001b[1mtrain: \u001b[0mWARNING ⚠️ /content/datasets/hand-keypoints/train/images/IMG_00009188.jpg: ignoring corrupt image/label: non-normalized or out of bounds coordinates [     1.0102]\n",
            "\u001b[34m\u001b[1mtrain: \u001b[0mWARNING ⚠️ /content/datasets/hand-keypoints/train/images/IMG_00009189.jpg: ignoring corrupt image/label: non-normalized or out of bounds coordinates [     1.0079]\n",
            "\u001b[34m\u001b[1mtrain: \u001b[0mWARNING ⚠️ /content/datasets/hand-keypoints/train/images/IMG_00009394.jpg: ignoring corrupt image/label: non-normalized or out of bounds coordinates [     1.0322      1.0412      1.0513]\n",
            "\u001b[34m\u001b[1mtrain: \u001b[0mWARNING ⚠️ /content/datasets/hand-keypoints/train/images/IMG_00009646.jpg: ignoring corrupt image/label: non-normalized or out of bounds coordinates [     1.0109]\n",
            "\u001b[34m\u001b[1mtrain: \u001b[0mWARNING ⚠️ /content/datasets/hand-keypoints/train/images/IMG_00009667.jpg: ignoring corrupt image/label: non-normalized or out of bounds coordinates [     1.0036      1.0255      1.0113      1.0275      1.0127      1.0264      1.0079      1.0227]\n",
            "\u001b[34m\u001b[1mtrain: \u001b[0mWARNING ⚠️ /content/datasets/hand-keypoints/train/images/IMG_00009670.jpg: ignoring corrupt image/label: non-normalized or out of bounds coordinates [     1.0056      1.0283      1.0173      1.0327      1.0196      1.0312      1.0153      1.0277]\n",
            "\u001b[34m\u001b[1mtrain: \u001b[0mWARNING ⚠️ /content/datasets/hand-keypoints/train/images/IMG_00009785.jpg: ignoring corrupt image/label: non-normalized or out of bounds coordinates [     1.0412]\n",
            "\u001b[34m\u001b[1mtrain: \u001b[0mWARNING ⚠️ /content/datasets/hand-keypoints/train/images/IMG_00009786.jpg: ignoring corrupt image/label: non-normalized or out of bounds coordinates [     1.0351]\n",
            "\u001b[34m\u001b[1mtrain: \u001b[0mWARNING ⚠️ /content/datasets/hand-keypoints/train/images/IMG_00009787.jpg: ignoring corrupt image/label: non-normalized or out of bounds coordinates [     1.0073]\n",
            "\u001b[34m\u001b[1mtrain: \u001b[0mWARNING ⚠️ /content/datasets/hand-keypoints/train/images/IMG_00010179.jpg: ignoring corrupt image/label: non-normalized or out of bounds coordinates [     1.0031]\n",
            "\u001b[34m\u001b[1mtrain: \u001b[0mWARNING ⚠️ /content/datasets/hand-keypoints/train/images/IMG_00010180.jpg: ignoring corrupt image/label: non-normalized or out of bounds coordinates [     1.0053      1.0135      1.0295      1.0419]\n",
            "\u001b[34m\u001b[1mtrain: \u001b[0mWARNING ⚠️ /content/datasets/hand-keypoints/train/images/IMG_00010205.jpg: ignoring corrupt image/label: non-normalized or out of bounds coordinates [     1.0317      1.0137]\n",
            "\u001b[34m\u001b[1mtrain: \u001b[0mWARNING ⚠️ /content/datasets/hand-keypoints/train/images/IMG_00010206.jpg: ignoring corrupt image/label: non-normalized or out of bounds coordinates [     1.0187      1.0007]\n",
            "\u001b[34m\u001b[1mtrain: \u001b[0mWARNING ⚠️ /content/datasets/hand-keypoints/train/images/IMG_00010207.jpg: ignoring corrupt image/label: non-normalized or out of bounds coordinates [     1.0231]\n",
            "\u001b[34m\u001b[1mtrain: \u001b[0mWARNING ⚠️ /content/datasets/hand-keypoints/train/images/IMG_00010209.jpg: ignoring corrupt image/label: non-normalized or out of bounds coordinates [     1.0299]\n",
            "\u001b[34m\u001b[1mtrain: \u001b[0mWARNING ⚠️ /content/datasets/hand-keypoints/train/images/IMG_00010210.jpg: ignoring corrupt image/label: non-normalized or out of bounds coordinates [      1.038]\n",
            "\u001b[34m\u001b[1mtrain: \u001b[0mWARNING ⚠️ /content/datasets/hand-keypoints/train/images/IMG_00010623.jpg: ignoring corrupt image/label: non-normalized or out of bounds coordinates [     1.0247]\n",
            "\u001b[34m\u001b[1mtrain: \u001b[0mWARNING ⚠️ /content/datasets/hand-keypoints/train/images/IMG_00010626.jpg: ignoring corrupt image/label: non-normalized or out of bounds coordinates [     1.0391      1.0119]\n",
            "\u001b[34m\u001b[1mtrain: \u001b[0mWARNING ⚠️ /content/datasets/hand-keypoints/train/images/IMG_00010627.jpg: ignoring corrupt image/label: non-normalized or out of bounds coordinates [     1.0586      1.0358]\n",
            "\u001b[34m\u001b[1mtrain: \u001b[0mWARNING ⚠️ /content/datasets/hand-keypoints/train/images/IMG_00010628.jpg: ignoring corrupt image/label: non-normalized or out of bounds coordinates [     1.0488      1.0325]\n",
            "\u001b[34m\u001b[1mtrain: \u001b[0mWARNING ⚠️ /content/datasets/hand-keypoints/train/images/IMG_00010833.jpg: ignoring corrupt image/label: non-normalized or out of bounds coordinates [     1.0085      1.0138]\n",
            "\u001b[34m\u001b[1mtrain: \u001b[0mWARNING ⚠️ /content/datasets/hand-keypoints/train/images/IMG_00010834.jpg: ignoring corrupt image/label: non-normalized or out of bounds coordinates [     1.0132      1.0727      1.0885      1.1053]\n",
            "\u001b[34m\u001b[1mtrain: \u001b[0mWARNING ⚠️ /content/datasets/hand-keypoints/train/images/IMG_00010835.jpg: ignoring corrupt image/label: non-normalized or out of bounds coordinates [     1.0166      1.0725      1.0811       1.092]\n",
            "\u001b[34m\u001b[1mtrain: \u001b[0mWARNING ⚠️ /content/datasets/hand-keypoints/train/images/IMG_00010837.jpg: ignoring corrupt image/label: non-normalized or out of bounds coordinates [     1.0267      1.0489      1.0689]\n",
            "\u001b[34m\u001b[1mtrain: \u001b[0mWARNING ⚠️ /content/datasets/hand-keypoints/train/images/IMG_00011258.jpg: ignoring corrupt image/label: non-normalized or out of bounds coordinates [     1.0012]\n",
            "\u001b[34m\u001b[1mtrain: \u001b[0mWARNING ⚠️ /content/datasets/hand-keypoints/train/images/IMG_00011259.jpg: ignoring corrupt image/label: non-normalized or out of bounds coordinates [     1.0121]\n",
            "\u001b[34m\u001b[1mtrain: \u001b[0mWARNING ⚠️ /content/datasets/hand-keypoints/train/images/IMG_00011260.jpg: ignoring corrupt image/label: non-normalized or out of bounds coordinates [     1.0154      1.0269      1.0051]\n",
            "\u001b[34m\u001b[1mtrain: \u001b[0mWARNING ⚠️ /content/datasets/hand-keypoints/train/images/IMG_00011378.jpg: ignoring corrupt image/label: non-normalized or out of bounds coordinates [     1.0033       1.004      1.0015]\n",
            "\u001b[34m\u001b[1mtrain: \u001b[0mWARNING ⚠️ /content/datasets/hand-keypoints/train/images/IMG_00011379.jpg: ignoring corrupt image/label: non-normalized or out of bounds coordinates [     1.0064      1.0066       1.005]\n",
            "\u001b[34m\u001b[1mtrain: \u001b[0mWARNING ⚠️ /content/datasets/hand-keypoints/train/images/IMG_00011444.jpg: ignoring corrupt image/label: non-normalized or out of bounds coordinates [     1.0417]\n",
            "\u001b[34m\u001b[1mtrain: \u001b[0mWARNING ⚠️ /content/datasets/hand-keypoints/train/images/IMG_00011445.jpg: ignoring corrupt image/label: non-normalized or out of bounds coordinates [      1.063      1.0218]\n",
            "\u001b[34m\u001b[1mtrain: \u001b[0mWARNING ⚠️ /content/datasets/hand-keypoints/train/images/IMG_00011715.jpg: ignoring corrupt image/label: non-normalized or out of bounds coordinates [     1.0022]\n",
            "\u001b[34m\u001b[1mtrain: \u001b[0mWARNING ⚠️ /content/datasets/hand-keypoints/train/images/IMG_00011883.jpg: ignoring corrupt image/label: non-normalized or out of bounds coordinates [     1.0248]\n",
            "\u001b[34m\u001b[1mtrain: \u001b[0mWARNING ⚠️ /content/datasets/hand-keypoints/train/images/IMG_00011885.jpg: ignoring corrupt image/label: non-normalized or out of bounds coordinates [       1.03       1.009]\n",
            "\u001b[34m\u001b[1mtrain: \u001b[0mWARNING ⚠️ /content/datasets/hand-keypoints/train/images/IMG_00011887.jpg: ignoring corrupt image/label: non-normalized or out of bounds coordinates [     1.0377      1.0223]\n",
            "\u001b[34m\u001b[1mtrain: \u001b[0mWARNING ⚠️ /content/datasets/hand-keypoints/train/images/IMG_00011889.jpg: ignoring corrupt image/label: non-normalized or out of bounds coordinates [     1.0479      1.0256]\n",
            "\u001b[34m\u001b[1mtrain: \u001b[0mWARNING ⚠️ /content/datasets/hand-keypoints/train/images/IMG_00011891.jpg: ignoring corrupt image/label: non-normalized or out of bounds coordinates [     1.0394      1.0315]\n",
            "\u001b[34m\u001b[1mtrain: \u001b[0mWARNING ⚠️ /content/datasets/hand-keypoints/train/images/IMG_00011893.jpg: ignoring corrupt image/label: non-normalized or out of bounds coordinates [     1.0388      1.0324]\n",
            "\u001b[34m\u001b[1mtrain: \u001b[0mWARNING ⚠️ /content/datasets/hand-keypoints/train/images/IMG_00011979.jpg: ignoring corrupt image/label: non-normalized or out of bounds coordinates [     1.0025]\n",
            "\u001b[34m\u001b[1mtrain: \u001b[0mWARNING ⚠️ /content/datasets/hand-keypoints/train/images/IMG_00011980.jpg: ignoring corrupt image/label: non-normalized or out of bounds coordinates [     1.0132]\n",
            "\u001b[34m\u001b[1mtrain: \u001b[0mWARNING ⚠️ /content/datasets/hand-keypoints/train/images/IMG_00012097.jpg: ignoring corrupt image/label: non-normalized or out of bounds coordinates [     1.0217]\n",
            "\u001b[34m\u001b[1mtrain: \u001b[0mWARNING ⚠️ /content/datasets/hand-keypoints/train/images/IMG_00012098.jpg: ignoring corrupt image/label: non-normalized or out of bounds coordinates [     1.0388]\n",
            "\u001b[34m\u001b[1mtrain: \u001b[0mWARNING ⚠️ /content/datasets/hand-keypoints/train/images/IMG_00012103.jpg: ignoring corrupt image/label: non-normalized or out of bounds coordinates [     1.0019]\n",
            "\u001b[34m\u001b[1mtrain: \u001b[0mWARNING ⚠️ /content/datasets/hand-keypoints/train/images/IMG_00012104.jpg: ignoring corrupt image/label: non-normalized or out of bounds coordinates [     1.0392]\n",
            "\u001b[34m\u001b[1mtrain: \u001b[0mWARNING ⚠️ /content/datasets/hand-keypoints/train/images/IMG_00012105.jpg: ignoring corrupt image/label: non-normalized or out of bounds coordinates [     1.0198]\n",
            "\u001b[34m\u001b[1mtrain: \u001b[0mWARNING ⚠️ /content/datasets/hand-keypoints/train/images/IMG_00013289.jpg: ignoring corrupt image/label: non-normalized or out of bounds coordinates [     1.0028]\n",
            "\u001b[34m\u001b[1mtrain: \u001b[0mWARNING ⚠️ /content/datasets/hand-keypoints/train/images/IMG_00013290.jpg: ignoring corrupt image/label: non-normalized or out of bounds coordinates [     1.0002      1.0047      1.0085]\n",
            "\u001b[34m\u001b[1mtrain: \u001b[0mWARNING ⚠️ /content/datasets/hand-keypoints/train/images/IMG_00013295.jpg: ignoring corrupt image/label: non-normalized or out of bounds coordinates [      1.001]\n",
            "\u001b[34m\u001b[1mtrain: \u001b[0mWARNING ⚠️ /content/datasets/hand-keypoints/train/images/IMG_00013336.jpg: ignoring corrupt image/label: non-normalized or out of bounds coordinates [     1.0028]\n",
            "\u001b[34m\u001b[1mtrain: \u001b[0mWARNING ⚠️ /content/datasets/hand-keypoints/train/images/IMG_00013339.jpg: ignoring corrupt image/label: non-normalized or out of bounds coordinates [     1.0089]\n",
            "\u001b[34m\u001b[1mtrain: \u001b[0mWARNING ⚠️ /content/datasets/hand-keypoints/train/images/IMG_00013340.jpg: ignoring corrupt image/label: non-normalized or out of bounds coordinates [     1.0092]\n",
            "\u001b[34m\u001b[1mtrain: \u001b[0mWARNING ⚠️ /content/datasets/hand-keypoints/train/images/IMG_00013341.jpg: ignoring corrupt image/label: non-normalized or out of bounds coordinates [     1.0009]\n",
            "\u001b[34m\u001b[1mtrain: \u001b[0mWARNING ⚠️ /content/datasets/hand-keypoints/train/images/IMG_00013454.jpg: ignoring corrupt image/label: non-normalized or out of bounds coordinates [     1.0082]\n",
            "\u001b[34m\u001b[1mtrain: \u001b[0mWARNING ⚠️ /content/datasets/hand-keypoints/train/images/IMG_00013455.jpg: ignoring corrupt image/label: non-normalized or out of bounds coordinates [     1.0409      1.0048]\n",
            "\u001b[34m\u001b[1mtrain: \u001b[0mWARNING ⚠️ /content/datasets/hand-keypoints/train/images/IMG_00013505.jpg: ignoring corrupt image/label: non-normalized or out of bounds coordinates [     1.0105]\n",
            "\u001b[34m\u001b[1mtrain: \u001b[0mWARNING ⚠️ /content/datasets/hand-keypoints/train/images/IMG_00013506.jpg: ignoring corrupt image/label: non-normalized or out of bounds coordinates [     1.0162]\n",
            "\u001b[34m\u001b[1mtrain: \u001b[0mWARNING ⚠️ /content/datasets/hand-keypoints/train/images/IMG_00013508.jpg: ignoring corrupt image/label: non-normalized or out of bounds coordinates [     1.0285]\n",
            "\u001b[34m\u001b[1mtrain: \u001b[0mWARNING ⚠️ /content/datasets/hand-keypoints/train/images/IMG_00013509.jpg: ignoring corrupt image/label: non-normalized or out of bounds coordinates [     1.0313]\n",
            "\u001b[34m\u001b[1mtrain: \u001b[0mWARNING ⚠️ /content/datasets/hand-keypoints/train/images/IMG_00013510.jpg: ignoring corrupt image/label: non-normalized or out of bounds coordinates [     1.0256]\n",
            "\u001b[34m\u001b[1mtrain: \u001b[0mWARNING ⚠️ /content/datasets/hand-keypoints/train/images/IMG_00013512.jpg: ignoring corrupt image/label: non-normalized or out of bounds coordinates [     1.0209]\n",
            "\u001b[34m\u001b[1mtrain: \u001b[0mWARNING ⚠️ /content/datasets/hand-keypoints/train/images/IMG_00013514.jpg: ignoring corrupt image/label: non-normalized or out of bounds coordinates [     1.0106]\n",
            "\u001b[34m\u001b[1mtrain: \u001b[0mWARNING ⚠️ /content/datasets/hand-keypoints/train/images/IMG_00014527.jpg: ignoring corrupt image/label: non-normalized or out of bounds coordinates [     1.0054      1.0258      1.0177      1.0275      1.0286      1.0134      1.0204      1.0184      1.0068      1.0139      1.0131      1.0029      1.0046]\n",
            "\u001b[34m\u001b[1mtrain: \u001b[0mWARNING ⚠️ /content/datasets/hand-keypoints/train/images/IMG_00014528.jpg: ignoring corrupt image/label: non-normalized or out of bounds coordinates [      1.002      1.0205      1.0106      1.0059      1.0076      1.0025      1.0016]\n",
            "\u001b[34m\u001b[1mtrain: \u001b[0mWARNING ⚠️ /content/datasets/hand-keypoints/train/images/IMG_00014531.jpg: ignoring corrupt image/label: non-normalized or out of bounds coordinates [     1.0165      1.0192       1.013      1.0139      1.0075      1.0061      1.0008]\n",
            "\u001b[34m\u001b[1mtrain: \u001b[0mWARNING ⚠️ /content/datasets/hand-keypoints/train/images/IMG_00014533.jpg: ignoring corrupt image/label: non-normalized or out of bounds coordinates [     1.0083      1.0133      1.0047       1.017      1.0078      1.0168      1.0083      1.0108      1.0038]\n",
            "\u001b[34m\u001b[1mtrain: \u001b[0mWARNING ⚠️ /content/datasets/hand-keypoints/train/images/IMG_00014537.jpg: ignoring corrupt image/label: non-normalized or out of bounds coordinates [     1.0039      1.0105      1.0051      1.0159      1.0084      1.0171      1.0103      1.0124      1.0085]\n",
            "\u001b[34m\u001b[1mtrain: \u001b[0mWARNING ⚠️ /content/datasets/hand-keypoints/train/images/IMG_00014542.jpg: ignoring corrupt image/label: non-normalized or out of bounds coordinates [     1.0069      1.0109      1.0036      1.0082      1.0018       1.001]\n",
            "\u001b[34m\u001b[1mtrain: \u001b[0mWARNING ⚠️ /content/datasets/hand-keypoints/train/images/IMG_00014543.jpg: ignoring corrupt image/label: non-normalized or out of bounds coordinates [     1.0008      1.0125      1.0145       1.006      1.0104      1.0023      1.0018]\n",
            "\u001b[34m\u001b[1mtrain: \u001b[0mWARNING ⚠️ /content/datasets/hand-keypoints/train/images/IMG_00014545.jpg: ignoring corrupt image/label: non-normalized or out of bounds coordinates [      1.001      1.0114       1.015      1.0061      1.0126      1.0038      1.0068]\n",
            "\u001b[34m\u001b[1mtrain: \u001b[0mWARNING ⚠️ /content/datasets/hand-keypoints/train/images/IMG_00014546.jpg: ignoring corrupt image/label: non-normalized or out of bounds coordinates [     1.0057      1.0119      1.0042      1.0139      1.0039      1.0124      1.0033      1.0078]\n",
            "\u001b[34m\u001b[1mtrain: \u001b[0mWARNING ⚠️ /content/datasets/hand-keypoints/train/images/IMG_00014548.jpg: ignoring corrupt image/label: non-normalized or out of bounds coordinates [     1.0036      1.0127      1.0021      1.0148      1.0041      1.0124      1.0033      1.0065]\n",
            "\u001b[34m\u001b[1mtrain: \u001b[0mWARNING ⚠️ /content/datasets/hand-keypoints/train/images/IMG_00015178.jpg: ignoring corrupt image/label: non-normalized or out of bounds coordinates [     1.0058]\n",
            "\u001b[34m\u001b[1mtrain: \u001b[0mWARNING ⚠️ /content/datasets/hand-keypoints/train/images/IMG_00016227.jpg: ignoring corrupt image/label: non-normalized or out of bounds coordinates [     1.0017]\n",
            "\u001b[34m\u001b[1mtrain: \u001b[0mWARNING ⚠️ /content/datasets/hand-keypoints/train/images/IMG_00016342.jpg: ignoring corrupt image/label: non-normalized or out of bounds coordinates [     1.0046]\n",
            "\u001b[34m\u001b[1mtrain: \u001b[0mWARNING ⚠️ /content/datasets/hand-keypoints/train/images/IMG_00016499.jpg: ignoring corrupt image/label: non-normalized or out of bounds coordinates [     1.0009      1.0119]\n",
            "\u001b[34m\u001b[1mtrain: \u001b[0mWARNING ⚠️ /content/datasets/hand-keypoints/train/images/IMG_00016500.jpg: ignoring corrupt image/label: non-normalized or out of bounds coordinates [     1.0002      1.0181      1.0366]\n",
            "\u001b[34m\u001b[1mtrain: \u001b[0mWARNING ⚠️ /content/datasets/hand-keypoints/train/images/IMG_00016735.jpg: ignoring corrupt image/label: non-normalized or out of bounds coordinates [     1.0016]\n",
            "\u001b[34m\u001b[1mtrain: \u001b[0mWARNING ⚠️ /content/datasets/hand-keypoints/train/images/IMG_00016740.jpg: ignoring corrupt image/label: non-normalized or out of bounds coordinates [     1.0438      1.0135]\n",
            "\u001b[34m\u001b[1mtrain: \u001b[0mWARNING ⚠️ /content/datasets/hand-keypoints/train/images/IMG_00016756.jpg: ignoring corrupt image/label: non-normalized or out of bounds coordinates [     1.0037]\n",
            "\u001b[34m\u001b[1mtrain: \u001b[0mWARNING ⚠️ /content/datasets/hand-keypoints/train/images/IMG_00016854.jpg: ignoring corrupt image/label: non-normalized or out of bounds coordinates [     1.0247      1.0072]\n",
            "\u001b[34m\u001b[1mtrain: \u001b[0mWARNING ⚠️ /content/datasets/hand-keypoints/train/images/IMG_00016856.jpg: ignoring corrupt image/label: non-normalized or out of bounds coordinates [     1.0501      1.0296]\n",
            "\u001b[34m\u001b[1mtrain: \u001b[0mWARNING ⚠️ /content/datasets/hand-keypoints/train/images/IMG_00016857.jpg: ignoring corrupt image/label: non-normalized or out of bounds coordinates [     1.0589      1.0131]\n",
            "\u001b[34m\u001b[1mtrain: \u001b[0mWARNING ⚠️ /content/datasets/hand-keypoints/train/images/IMG_00016858.jpg: ignoring corrupt image/label: non-normalized or out of bounds coordinates [      1.048]\n",
            "\u001b[34m\u001b[1mtrain: \u001b[0mWARNING ⚠️ /content/datasets/hand-keypoints/train/images/IMG_00016860.jpg: ignoring corrupt image/label: non-normalized or out of bounds coordinates [     1.0587      1.0094]\n",
            "\u001b[34m\u001b[1mtrain: \u001b[0mWARNING ⚠️ /content/datasets/hand-keypoints/train/images/IMG_00017302.jpg: ignoring corrupt image/label: non-normalized or out of bounds coordinates [     1.0045]\n",
            "\u001b[34m\u001b[1mtrain: \u001b[0mWARNING ⚠️ /content/datasets/hand-keypoints/train/images/IMG_00017303.jpg: ignoring corrupt image/label: non-normalized or out of bounds coordinates [     1.0552      1.0024]\n",
            "\u001b[34m\u001b[1mtrain: \u001b[0mWARNING ⚠️ /content/datasets/hand-keypoints/train/images/IMG_00017304.jpg: ignoring corrupt image/label: non-normalized or out of bounds coordinates [     1.0732      1.0227]\n",
            "\u001b[34m\u001b[1mtrain: \u001b[0mWARNING ⚠️ /content/datasets/hand-keypoints/train/images/IMG_00017305.jpg: ignoring corrupt image/label: non-normalized or out of bounds coordinates [     1.0613      1.0105]\n",
            "\u001b[34m\u001b[1mtrain: \u001b[0mWARNING ⚠️ /content/datasets/hand-keypoints/train/images/IMG_00017307.jpg: ignoring corrupt image/label: non-normalized or out of bounds coordinates [     1.0627      1.0211]\n",
            "\u001b[34m\u001b[1mtrain: \u001b[0mWARNING ⚠️ /content/datasets/hand-keypoints/train/images/IMG_00017308.jpg: ignoring corrupt image/label: non-normalized or out of bounds coordinates [     1.0563      1.0204]\n",
            "\u001b[34m\u001b[1mtrain: \u001b[0mWARNING ⚠️ /content/datasets/hand-keypoints/train/images/IMG_00017309.jpg: ignoring corrupt image/label: non-normalized or out of bounds coordinates [     1.0723      1.0346]\n",
            "\u001b[34m\u001b[1mtrain: \u001b[0mWARNING ⚠️ /content/datasets/hand-keypoints/train/images/IMG_00017310.jpg: ignoring corrupt image/label: non-normalized or out of bounds coordinates [     1.0717      1.0325]\n",
            "\u001b[34m\u001b[1mtrain: \u001b[0mWARNING ⚠️ /content/datasets/hand-keypoints/train/images/IMG_00017370.jpg: ignoring corrupt image/label: non-normalized or out of bounds coordinates [     1.0042]\n",
            "\u001b[34m\u001b[1mtrain: \u001b[0mWARNING ⚠️ /content/datasets/hand-keypoints/train/images/IMG_00017756.jpg: ignoring corrupt image/label: non-normalized or out of bounds coordinates [     1.0059      1.0104]\n",
            "\u001b[34m\u001b[1mtrain: \u001b[0mWARNING ⚠️ /content/datasets/hand-keypoints/train/images/IMG_00018086.jpg: ignoring corrupt image/label: non-normalized or out of bounds coordinates [     1.0191]\n",
            "\u001b[34m\u001b[1mtrain: \u001b[0mWARNING ⚠️ /content/datasets/hand-keypoints/train/images/IMG_00018509.jpg: ignoring corrupt image/label: non-normalized or out of bounds coordinates [     1.0036]\n",
            "\u001b[34m\u001b[1mtrain: \u001b[0mWARNING ⚠️ /content/datasets/hand-keypoints/train/images/IMG_00018539.jpg: ignoring corrupt image/label: non-normalized or out of bounds coordinates [     1.0086]\n",
            "\u001b[34m\u001b[1mtrain: \u001b[0mWARNING ⚠️ /content/datasets/hand-keypoints/train/images/IMG_00018540.jpg: ignoring corrupt image/label: non-normalized or out of bounds coordinates [     1.0054]\n",
            "\u001b[34m\u001b[1mtrain: \u001b[0mWARNING ⚠️ /content/datasets/hand-keypoints/train/images/IMG_00018647.jpg: ignoring corrupt image/label: non-normalized or out of bounds coordinates [     1.0362]\n",
            "\u001b[34m\u001b[1mtrain: \u001b[0mWARNING ⚠️ /content/datasets/hand-keypoints/train/images/IMG_00018648.jpg: ignoring corrupt image/label: non-normalized or out of bounds coordinates [     1.0479      1.0033]\n",
            "\u001b[34m\u001b[1mtrain: \u001b[0mWARNING ⚠️ /content/datasets/hand-keypoints/train/images/IMG_00018649.jpg: ignoring corrupt image/label: non-normalized or out of bounds coordinates [     1.0437      1.0106]\n",
            "\u001b[34m\u001b[1mtrain: \u001b[0mWARNING ⚠️ /content/datasets/hand-keypoints/train/images/IMG_00018651.jpg: ignoring corrupt image/label: non-normalized or out of bounds coordinates [      1.014]\n",
            "\u001b[34m\u001b[1mtrain: \u001b[0mWARNING ⚠️ /content/datasets/hand-keypoints/train/images/IMG_00018653.jpg: ignoring corrupt image/label: non-normalized or out of bounds coordinates [     1.0099]\n",
            "\u001b[34m\u001b[1mtrain: \u001b[0mWARNING ⚠️ /content/datasets/hand-keypoints/train/images/IMG_00018654.jpg: ignoring corrupt image/label: non-normalized or out of bounds coordinates [     1.0025]\n",
            "\u001b[34m\u001b[1mtrain: \u001b[0mWARNING ⚠️ /content/datasets/hand-keypoints/train/images/IMG_00018655.jpg: ignoring corrupt image/label: non-normalized or out of bounds coordinates [     1.0164]\n",
            "\u001b[34m\u001b[1mtrain: \u001b[0mWARNING ⚠️ /content/datasets/hand-keypoints/train/images/IMG_00018657.jpg: ignoring corrupt image/label: non-normalized or out of bounds coordinates [     1.0113]\n",
            "\u001b[34m\u001b[1mtrain: \u001b[0mWARNING ⚠️ /content/datasets/hand-keypoints/train/images/IMG_00018658.jpg: ignoring corrupt image/label: non-normalized or out of bounds coordinates [     1.0252]\n",
            "\u001b[34m\u001b[1mtrain: \u001b[0mWARNING ⚠️ /content/datasets/hand-keypoints/train/images/IMG_00018740.jpg: ignoring corrupt image/label: non-normalized or out of bounds coordinates [     1.0212]\n",
            "\u001b[34m\u001b[1mtrain: \u001b[0mWARNING ⚠️ /content/datasets/hand-keypoints/train/images/IMG_00018741.jpg: ignoring corrupt image/label: non-normalized or out of bounds coordinates [     1.0447]\n",
            "\u001b[34m\u001b[1mtrain: \u001b[0mWARNING ⚠️ /content/datasets/hand-keypoints/train/images/IMG_00018742.jpg: ignoring corrupt image/label: non-normalized or out of bounds coordinates [     1.0442      1.0027]\n",
            "\u001b[34m\u001b[1mtrain: \u001b[0mWARNING ⚠️ /content/datasets/hand-keypoints/train/images/IMG_00018744.jpg: ignoring corrupt image/label: non-normalized or out of bounds coordinates [      1.072      1.0168]\n",
            "\u001b[34m\u001b[1mtrain: \u001b[0mWARNING ⚠️ /content/datasets/hand-keypoints/train/images/IMG_00018942.jpg: ignoring corrupt image/label: non-normalized or out of bounds coordinates [     1.0205]\n",
            "\u001b[34m\u001b[1mtrain: \u001b[0mWARNING ⚠️ /content/datasets/hand-keypoints/train/images/IMG_00018950.jpg: ignoring corrupt image/label: non-normalized or out of bounds coordinates [     1.0269      1.0001]\n",
            "\u001b[34m\u001b[1mtrain: \u001b[0mWARNING ⚠️ /content/datasets/hand-keypoints/train/images/IMG_00019282.jpg: ignoring corrupt image/label: non-normalized or out of bounds coordinates [     1.0018]\n",
            "\u001b[34m\u001b[1mtrain: \u001b[0mWARNING ⚠️ /content/datasets/hand-keypoints/train/images/IMG_00019283.jpg: ignoring corrupt image/label: non-normalized or out of bounds coordinates [      1.009]\n",
            "\u001b[34m\u001b[1mtrain: \u001b[0mWARNING ⚠️ /content/datasets/hand-keypoints/train/images/IMG_00019284.jpg: ignoring corrupt image/label: non-normalized or out of bounds coordinates [     1.0245]\n",
            "\u001b[34m\u001b[1mtrain: \u001b[0mWARNING ⚠️ /content/datasets/hand-keypoints/train/images/IMG_00019289.jpg: ignoring corrupt image/label: non-normalized or out of bounds coordinates [     1.0144]\n",
            "\u001b[34m\u001b[1mtrain: \u001b[0mWARNING ⚠️ /content/datasets/hand-keypoints/train/images/IMG_00019466.jpg: ignoring corrupt image/label: non-normalized or out of bounds coordinates [     1.0342      1.0474       1.041]\n",
            "\u001b[34m\u001b[1mtrain: \u001b[0mWARNING ⚠️ /content/datasets/hand-keypoints/train/images/IMG_00020013.jpg: ignoring corrupt image/label: non-normalized or out of bounds coordinates [     1.0322      1.0069]\n",
            "\u001b[34m\u001b[1mtrain: \u001b[0mWARNING ⚠️ /content/datasets/hand-keypoints/train/images/IMG_00020014.jpg: ignoring corrupt image/label: non-normalized or out of bounds coordinates [     1.0325      1.0104]\n",
            "\u001b[34m\u001b[1mtrain: \u001b[0mWARNING ⚠️ /content/datasets/hand-keypoints/train/images/IMG_00020223.jpg: ignoring corrupt image/label: non-normalized or out of bounds coordinates [     1.0202]\n",
            "\u001b[34m\u001b[1mtrain: \u001b[0mWARNING ⚠️ /content/datasets/hand-keypoints/train/images/IMG_00020314.jpg: ignoring corrupt image/label: non-normalized or out of bounds coordinates [     1.0155       1.032]\n",
            "\u001b[34m\u001b[1mtrain: \u001b[0mWARNING ⚠️ /content/datasets/hand-keypoints/train/images/IMG_00020611.jpg: ignoring corrupt image/label: non-normalized or out of bounds coordinates [     1.0633      1.0177]\n",
            "\u001b[34m\u001b[1mtrain: \u001b[0mWARNING ⚠️ /content/datasets/hand-keypoints/train/images/IMG_00020612.jpg: ignoring corrupt image/label: non-normalized or out of bounds coordinates [      1.137      1.0874]\n",
            "\u001b[34m\u001b[1mtrain: \u001b[0mWARNING ⚠️ /content/datasets/hand-keypoints/train/images/IMG_00020838.jpg: ignoring corrupt image/label: non-normalized or out of bounds coordinates [     1.0728      1.0069      1.0807      1.0579]\n",
            "\u001b[34m\u001b[1mtrain: \u001b[0mWARNING ⚠️ /content/datasets/hand-keypoints/train/images/IMG_00021091.jpg: ignoring corrupt image/label: non-normalized or out of bounds coordinates [     1.0198]\n",
            "\u001b[34m\u001b[1mtrain: \u001b[0mWARNING ⚠️ /content/datasets/hand-keypoints/train/images/IMG_00021092.jpg: ignoring corrupt image/label: non-normalized or out of bounds coordinates [     1.0236]\n",
            "\u001b[34m\u001b[1mtrain: \u001b[0mWARNING ⚠️ /content/datasets/hand-keypoints/train/images/IMG_00021093.jpg: ignoring corrupt image/label: non-normalized or out of bounds coordinates [     1.0235]\n",
            "\u001b[34m\u001b[1mtrain: \u001b[0mWARNING ⚠️ /content/datasets/hand-keypoints/train/images/IMG_00021094.jpg: ignoring corrupt image/label: non-normalized or out of bounds coordinates [     1.0152]\n",
            "\u001b[34m\u001b[1mtrain: \u001b[0mWARNING ⚠️ /content/datasets/hand-keypoints/train/images/IMG_00021303.jpg: ignoring corrupt image/label: non-normalized or out of bounds coordinates [     1.0576      1.0243]\n",
            "\u001b[34m\u001b[1mtrain: \u001b[0mWARNING ⚠️ /content/datasets/hand-keypoints/train/images/IMG_00021661.jpg: ignoring corrupt image/label: non-normalized or out of bounds coordinates [     1.0526]\n",
            "\u001b[34m\u001b[1mtrain: \u001b[0mWARNING ⚠️ /content/datasets/hand-keypoints/train/images/IMG_00022077.jpg: ignoring corrupt image/label: non-normalized or out of bounds coordinates [     1.0069]\n",
            "\u001b[34m\u001b[1mtrain: \u001b[0mWARNING ⚠️ /content/datasets/hand-keypoints/train/images/IMG_00022170.jpg: ignoring corrupt image/label: non-normalized or out of bounds coordinates [     1.0257]\n",
            "\u001b[34m\u001b[1mtrain: \u001b[0mWARNING ⚠️ /content/datasets/hand-keypoints/train/images/IMG_00022172.jpg: ignoring corrupt image/label: non-normalized or out of bounds coordinates [     1.0291      1.0134]\n",
            "\u001b[34m\u001b[1mtrain: \u001b[0mWARNING ⚠️ /content/datasets/hand-keypoints/train/images/IMG_00022173.jpg: ignoring corrupt image/label: non-normalized or out of bounds coordinates [      1.023      1.0108]\n",
            "\u001b[34m\u001b[1mtrain: \u001b[0mWARNING ⚠️ /content/datasets/hand-keypoints/train/images/IMG_00022174.jpg: ignoring corrupt image/label: non-normalized or out of bounds coordinates [     1.0086]\n",
            "\u001b[34m\u001b[1mtrain: \u001b[0mWARNING ⚠️ /content/datasets/hand-keypoints/train/images/IMG_00022317.jpg: ignoring corrupt image/label: non-normalized or out of bounds coordinates [     1.0897      1.0576]\n",
            "\u001b[34m\u001b[1mtrain: \u001b[0mWARNING ⚠️ /content/datasets/hand-keypoints/train/images/IMG_00022318.jpg: ignoring corrupt image/label: non-normalized or out of bounds coordinates [     1.0912      1.0579]\n",
            "\u001b[34m\u001b[1mtrain: \u001b[0mWARNING ⚠️ /content/datasets/hand-keypoints/train/images/IMG_00022321.jpg: ignoring corrupt image/label: non-normalized or out of bounds coordinates [     1.0915      1.0506]\n",
            "\u001b[34m\u001b[1mtrain: \u001b[0mWARNING ⚠️ /content/datasets/hand-keypoints/train/images/IMG_00022322.jpg: ignoring corrupt image/label: non-normalized or out of bounds coordinates [     1.0756      1.0411]\n",
            "\u001b[34m\u001b[1mtrain: \u001b[0mWARNING ⚠️ /content/datasets/hand-keypoints/train/images/IMG_00022323.jpg: ignoring corrupt image/label: non-normalized or out of bounds coordinates [      1.075      1.0387]\n",
            "\u001b[34m\u001b[1mtrain: \u001b[0mWARNING ⚠️ /content/datasets/hand-keypoints/train/images/IMG_00022324.jpg: ignoring corrupt image/label: non-normalized or out of bounds coordinates [     1.0963      1.0595]\n",
            "\u001b[34m\u001b[1mtrain: \u001b[0mWARNING ⚠️ /content/datasets/hand-keypoints/train/images/IMG_00022384.jpg: ignoring corrupt image/label: non-normalized or out of bounds coordinates [     1.0297      1.0027]\n",
            "\u001b[34m\u001b[1mtrain: \u001b[0mWARNING ⚠️ /content/datasets/hand-keypoints/train/images/IMG_00022385.jpg: ignoring corrupt image/label: non-normalized or out of bounds coordinates [     1.0126]\n",
            "\u001b[34m\u001b[1mtrain: \u001b[0mWARNING ⚠️ /content/datasets/hand-keypoints/train/images/IMG_00022386.jpg: ignoring corrupt image/label: non-normalized or out of bounds coordinates [     1.0144]\n",
            "\u001b[34m\u001b[1mtrain: \u001b[0mWARNING ⚠️ /content/datasets/hand-keypoints/train/images/IMG_00022387.jpg: ignoring corrupt image/label: non-normalized or out of bounds coordinates [     1.0219      1.0043]\n",
            "\u001b[34m\u001b[1mtrain: \u001b[0mWARNING ⚠️ /content/datasets/hand-keypoints/train/images/IMG_00023745.jpg: ignoring corrupt image/label: non-normalized or out of bounds coordinates [     1.0004]\n",
            "\u001b[34m\u001b[1mtrain: \u001b[0mWARNING ⚠️ /content/datasets/hand-keypoints/train/images/IMG_00023747.jpg: ignoring corrupt image/label: non-normalized or out of bounds coordinates [     1.0001]\n",
            "\u001b[34m\u001b[1mtrain: \u001b[0mWARNING ⚠️ /content/datasets/hand-keypoints/train/images/IMG_00023750.jpg: ignoring corrupt image/label: non-normalized or out of bounds coordinates [     1.0042      1.0074]\n",
            "\u001b[34m\u001b[1mtrain: \u001b[0mWARNING ⚠️ /content/datasets/hand-keypoints/train/images/IMG_00023751.jpg: ignoring corrupt image/label: non-normalized or out of bounds coordinates [     1.0005      1.0063]\n",
            "\u001b[34m\u001b[1mtrain: \u001b[0mWARNING ⚠️ /content/datasets/hand-keypoints/train/images/IMG_00023752.jpg: ignoring corrupt image/label: non-normalized or out of bounds coordinates [     1.0017      1.0083]\n",
            "\u001b[34m\u001b[1mtrain: \u001b[0mWARNING ⚠️ /content/datasets/hand-keypoints/train/images/IMG_00023754.jpg: ignoring corrupt image/label: non-normalized or out of bounds coordinates [     1.0004]\n",
            "\u001b[34m\u001b[1mtrain: \u001b[0mWARNING ⚠️ /content/datasets/hand-keypoints/train/images/IMG_00023755.jpg: ignoring corrupt image/label: non-normalized or out of bounds coordinates [     1.0032      1.0107]\n",
            "\u001b[34m\u001b[1mtrain: \u001b[0mWARNING ⚠️ /content/datasets/hand-keypoints/train/images/IMG_00023756.jpg: ignoring corrupt image/label: non-normalized or out of bounds coordinates [      1.004      1.0071]\n",
            "\u001b[34m\u001b[1mtrain: \u001b[0mWARNING ⚠️ /content/datasets/hand-keypoints/train/images/IMG_00023758.jpg: ignoring corrupt image/label: non-normalized or out of bounds coordinates [     1.0031]\n",
            "\u001b[34m\u001b[1mtrain: \u001b[0mWARNING ⚠️ /content/datasets/hand-keypoints/train/images/IMG_00024072.jpg: ignoring corrupt image/label: non-normalized or out of bounds coordinates [     1.0004]\n",
            "\u001b[34m\u001b[1mtrain: \u001b[0mWARNING ⚠️ /content/datasets/hand-keypoints/train/images/IMG_00024483.jpg: ignoring corrupt image/label: non-normalized or out of bounds coordinates [     1.0033]\n",
            "\u001b[34m\u001b[1mtrain: \u001b[0mWARNING ⚠️ /content/datasets/hand-keypoints/train/images/IMG_00024526.jpg: ignoring corrupt image/label: non-normalized or out of bounds coordinates [     1.0012]\n",
            "\u001b[34m\u001b[1mtrain: \u001b[0mWARNING ⚠️ /content/datasets/hand-keypoints/train/images/IMG_00024527.jpg: ignoring corrupt image/label: non-normalized or out of bounds coordinates [     1.0167]\n",
            "\u001b[34m\u001b[1mtrain: \u001b[0mWARNING ⚠️ /content/datasets/hand-keypoints/train/images/IMG_00024530.jpg: ignoring corrupt image/label: non-normalized or out of bounds coordinates [     1.0037      1.0012]\n",
            "\u001b[34m\u001b[1mtrain: \u001b[0mWARNING ⚠️ /content/datasets/hand-keypoints/train/images/IMG_00024531.jpg: ignoring corrupt image/label: non-normalized or out of bounds coordinates [     1.0406]\n",
            "\u001b[34m\u001b[1mtrain: \u001b[0mWARNING ⚠️ /content/datasets/hand-keypoints/train/images/IMG_00024558.jpg: ignoring corrupt image/label: non-normalized or out of bounds coordinates [      1.011      1.0785]\n",
            "\u001b[34m\u001b[1mtrain: \u001b[0mWARNING ⚠️ /content/datasets/hand-keypoints/train/images/IMG_00024569.jpg: ignoring corrupt image/label: non-normalized or out of bounds coordinates [     1.0049]\n",
            "\u001b[34m\u001b[1mtrain: \u001b[0mWARNING ⚠️ /content/datasets/hand-keypoints/train/images/IMG_00024648.jpg: ignoring corrupt image/label: non-normalized or out of bounds coordinates [      1.012]\n",
            "\u001b[34m\u001b[1mtrain: \u001b[0mWARNING ⚠️ /content/datasets/hand-keypoints/train/images/IMG_00024671.jpg: ignoring corrupt image/label: non-normalized or out of bounds coordinates [      1.025      1.0413      1.0504]\n",
            "\u001b[34m\u001b[1mtrain: \u001b[0mWARNING ⚠️ /content/datasets/hand-keypoints/train/images/IMG_00024672.jpg: ignoring corrupt image/label: non-normalized or out of bounds coordinates [     1.0461      1.0958]\n",
            "\u001b[34m\u001b[1mtrain: \u001b[0mWARNING ⚠️ /content/datasets/hand-keypoints/train/images/IMG_00024673.jpg: ignoring corrupt image/label: non-normalized or out of bounds coordinates [     1.0305      1.0921      1.1508]\n",
            "\u001b[34m\u001b[1mtrain: \u001b[0mWARNING ⚠️ /content/datasets/hand-keypoints/train/images/IMG_00024716.jpg: ignoring corrupt image/label: non-normalized or out of bounds coordinates [     1.0119      1.0612]\n",
            "\u001b[34m\u001b[1mtrain: \u001b[0mWARNING ⚠️ /content/datasets/hand-keypoints/train/images/IMG_00024718.jpg: ignoring corrupt image/label: non-normalized or out of bounds coordinates [     1.0204]\n",
            "\u001b[34m\u001b[1mtrain: \u001b[0mWARNING ⚠️ /content/datasets/hand-keypoints/train/images/IMG_00024723.jpg: ignoring corrupt image/label: non-normalized or out of bounds coordinates [     1.0195]\n",
            "\u001b[34m\u001b[1mtrain: \u001b[0mWARNING ⚠️ /content/datasets/hand-keypoints/train/images/IMG_00024724.jpg: ignoring corrupt image/label: non-normalized or out of bounds coordinates [     1.0008      1.0306]\n",
            "\u001b[34m\u001b[1mtrain: \u001b[0mWARNING ⚠️ /content/datasets/hand-keypoints/train/images/IMG_00024734.jpg: ignoring corrupt image/label: non-normalized or out of bounds coordinates [     1.0241]\n",
            "\u001b[34m\u001b[1mtrain: \u001b[0mWARNING ⚠️ /content/datasets/hand-keypoints/train/images/IMG_00024735.jpg: ignoring corrupt image/label: non-normalized or out of bounds coordinates [     1.0358]\n",
            "\u001b[34m\u001b[1mtrain: \u001b[0mWARNING ⚠️ /content/datasets/hand-keypoints/train/images/IMG_00024736.jpg: ignoring corrupt image/label: non-normalized or out of bounds coordinates [     1.0153      1.0684]\n",
            "\u001b[34m\u001b[1mtrain: \u001b[0mWARNING ⚠️ /content/datasets/hand-keypoints/train/images/IMG_00024737.jpg: ignoring corrupt image/label: non-normalized or out of bounds coordinates [     1.0329      1.0938]\n",
            "\u001b[34m\u001b[1mtrain: \u001b[0mWARNING ⚠️ /content/datasets/hand-keypoints/train/images/IMG_00024820.jpg: ignoring corrupt image/label: non-normalized or out of bounds coordinates [     1.0053      1.0129       1.045]\n",
            "\u001b[34m\u001b[1mtrain: \u001b[0mWARNING ⚠️ /content/datasets/hand-keypoints/train/images/IMG_00024835.jpg: ignoring corrupt image/label: non-normalized or out of bounds coordinates [     1.0082      1.0256]\n",
            "\u001b[34m\u001b[1mtrain: \u001b[0mWARNING ⚠️ /content/datasets/hand-keypoints/train/images/IMG_00024836.jpg: ignoring corrupt image/label: non-normalized or out of bounds coordinates [     1.0037      1.0252      1.0554]\n",
            "\u001b[34m\u001b[1mtrain: \u001b[0mWARNING ⚠️ /content/datasets/hand-keypoints/train/images/IMG_00024845.jpg: ignoring corrupt image/label: non-normalized or out of bounds coordinates [     1.0197]\n",
            "\u001b[34m\u001b[1mtrain: \u001b[0mWARNING ⚠️ /content/datasets/hand-keypoints/train/images/IMG_00024914.jpg: ignoring corrupt image/label: non-normalized or out of bounds coordinates [     1.0287]\n",
            "\u001b[34m\u001b[1mtrain: \u001b[0mWARNING ⚠️ /content/datasets/hand-keypoints/train/images/IMG_00024967.jpg: ignoring corrupt image/label: non-normalized or out of bounds coordinates [     1.0084]\n",
            "\u001b[34m\u001b[1mtrain: \u001b[0mWARNING ⚠️ /content/datasets/hand-keypoints/train/images/IMG_00025039.jpg: ignoring corrupt image/label: non-normalized or out of bounds coordinates [     1.0232]\n",
            "\u001b[34m\u001b[1mtrain: \u001b[0mWARNING ⚠️ /content/datasets/hand-keypoints/train/images/IMG_00025040.jpg: ignoring corrupt image/label: non-normalized or out of bounds coordinates [     1.0114      1.0376]\n",
            "\u001b[34m\u001b[1mtrain: \u001b[0mWARNING ⚠️ /content/datasets/hand-keypoints/train/images/IMG_00025043.jpg: ignoring corrupt image/label: non-normalized or out of bounds coordinates [     1.0045      1.0132      1.0304]\n",
            "\u001b[34m\u001b[1mtrain: \u001b[0mWARNING ⚠️ /content/datasets/hand-keypoints/train/images/IMG_00025157.jpg: ignoring corrupt image/label: non-normalized or out of bounds coordinates [     1.0133]\n",
            "\u001b[34m\u001b[1mtrain: \u001b[0mWARNING ⚠️ /content/datasets/hand-keypoints/train/images/IMG_00025159.jpg: ignoring corrupt image/label: non-normalized or out of bounds coordinates [      1.006]\n",
            "\u001b[34m\u001b[1mtrain: \u001b[0mWARNING ⚠️ /content/datasets/hand-keypoints/train/images/IMG_00025160.jpg: ignoring corrupt image/label: non-normalized or out of bounds coordinates [     1.0125]\n",
            "\u001b[34m\u001b[1mtrain: \u001b[0mWARNING ⚠️ /content/datasets/hand-keypoints/train/images/IMG_00025163.jpg: ignoring corrupt image/label: non-normalized or out of bounds coordinates [     1.0229]\n",
            "\u001b[34m\u001b[1mtrain: \u001b[0mWARNING ⚠️ /content/datasets/hand-keypoints/train/images/IMG_00025164.jpg: ignoring corrupt image/label: non-normalized or out of bounds coordinates [     1.0247]\n",
            "\u001b[34m\u001b[1mtrain: \u001b[0mWARNING ⚠️ /content/datasets/hand-keypoints/train/images/IMG_00025228.jpg: ignoring corrupt image/label: non-normalized or out of bounds coordinates [     1.0149]\n",
            "\u001b[34m\u001b[1mtrain: \u001b[0mWARNING ⚠️ /content/datasets/hand-keypoints/train/images/IMG_00025237.jpg: ignoring corrupt image/label: non-normalized or out of bounds coordinates [     1.0436]\n",
            "\u001b[34m\u001b[1mtrain: \u001b[0mWARNING ⚠️ /content/datasets/hand-keypoints/train/images/IMG_00025241.jpg: ignoring corrupt image/label: non-normalized or out of bounds coordinates [     1.0159]\n",
            "\u001b[34m\u001b[1mtrain: \u001b[0mWARNING ⚠️ /content/datasets/hand-keypoints/train/images/IMG_00025242.jpg: ignoring corrupt image/label: non-normalized or out of bounds coordinates [     1.0131]\n",
            "\u001b[34m\u001b[1mtrain: \u001b[0mWARNING ⚠️ /content/datasets/hand-keypoints/train/images/IMG_00025244.jpg: ignoring corrupt image/label: non-normalized or out of bounds coordinates [     1.0122]\n",
            "\u001b[34m\u001b[1mtrain: \u001b[0mWARNING ⚠️ /content/datasets/hand-keypoints/train/images/IMG_00025246.jpg: ignoring corrupt image/label: non-normalized or out of bounds coordinates [     1.0086]\n",
            "\u001b[34m\u001b[1mtrain: \u001b[0mWARNING ⚠️ /content/datasets/hand-keypoints/train/images/IMG_00025331.jpg: ignoring corrupt image/label: non-normalized or out of bounds coordinates [     1.0633]\n",
            "\u001b[34m\u001b[1mtrain: \u001b[0mWARNING ⚠️ /content/datasets/hand-keypoints/train/images/IMG_00025366.jpg: ignoring corrupt image/label: non-normalized or out of bounds coordinates [     1.0299      1.0779]\n",
            "\u001b[34m\u001b[1mtrain: \u001b[0mWARNING ⚠️ /content/datasets/hand-keypoints/train/images/IMG_00025412.jpg: ignoring corrupt image/label: non-normalized or out of bounds coordinates [     1.0096]\n",
            "\u001b[34m\u001b[1mtrain: \u001b[0mWARNING ⚠️ /content/datasets/hand-keypoints/train/images/IMG_00025474.jpg: ignoring corrupt image/label: non-normalized or out of bounds coordinates [     1.0096]\n",
            "\u001b[34m\u001b[1mtrain: \u001b[0mWARNING ⚠️ /content/datasets/hand-keypoints/train/images/IMG_00025478.jpg: ignoring corrupt image/label: non-normalized or out of bounds coordinates [     1.0048]\n",
            "\u001b[34m\u001b[1mtrain: \u001b[0mWARNING ⚠️ /content/datasets/hand-keypoints/train/images/IMG_00025502.jpg: ignoring corrupt image/label: non-normalized or out of bounds coordinates [     1.0183]\n",
            "\u001b[34m\u001b[1mtrain: \u001b[0mWARNING ⚠️ /content/datasets/hand-keypoints/train/images/IMG_00025572.jpg: ignoring corrupt image/label: non-normalized or out of bounds coordinates [     1.0598      1.1242]\n",
            "\u001b[34m\u001b[1mtrain: \u001b[0mWARNING ⚠️ /content/datasets/hand-keypoints/train/images/IMG_00025573.jpg: ignoring corrupt image/label: non-normalized or out of bounds coordinates [     1.0869]\n",
            "\u001b[34m\u001b[1mtrain: \u001b[0mWARNING ⚠️ /content/datasets/hand-keypoints/train/images/IMG_00025574.jpg: ignoring corrupt image/label: non-normalized or out of bounds coordinates [     1.0636]\n",
            "\u001b[34m\u001b[1mtrain: \u001b[0mWARNING ⚠️ /content/datasets/hand-keypoints/train/images/IMG_00025604.jpg: ignoring corrupt image/label: non-normalized or out of bounds coordinates [       1.04      1.1085      1.0055]\n",
            "\u001b[34m\u001b[1mtrain: \u001b[0mWARNING ⚠️ /content/datasets/hand-keypoints/train/images/IMG_00025605.jpg: ignoring corrupt image/label: non-normalized or out of bounds coordinates [     1.0718]\n",
            "\u001b[34m\u001b[1mtrain: \u001b[0mWARNING ⚠️ /content/datasets/hand-keypoints/train/images/IMG_00025606.jpg: ignoring corrupt image/label: non-normalized or out of bounds coordinates [     1.0708]\n",
            "\u001b[34m\u001b[1mtrain: \u001b[0mWARNING ⚠️ /content/datasets/hand-keypoints/train/images/IMG_00025607.jpg: ignoring corrupt image/label: non-normalized or out of bounds coordinates [     1.0058      1.0856]\n",
            "\u001b[34m\u001b[1mtrain: \u001b[0mWARNING ⚠️ /content/datasets/hand-keypoints/train/images/IMG_00025611.jpg: ignoring corrupt image/label: non-normalized or out of bounds coordinates [     1.0818       1.178]\n",
            "\u001b[34m\u001b[1mtrain: \u001b[0mWARNING ⚠️ /content/datasets/hand-keypoints/train/images/IMG_00025612.jpg: ignoring corrupt image/label: non-normalized or out of bounds coordinates [     1.0596       1.146]\n",
            "\u001b[34m\u001b[1mtrain: \u001b[0mWARNING ⚠️ /content/datasets/hand-keypoints/train/images/IMG_00025613.jpg: ignoring corrupt image/label: non-normalized or out of bounds coordinates [     1.0002      1.0586]\n",
            "\u001b[34m\u001b[1mtrain: \u001b[0mWARNING ⚠️ /content/datasets/hand-keypoints/train/images/IMG_00025640.jpg: ignoring corrupt image/label: non-normalized or out of bounds coordinates [     1.0112]\n",
            "\u001b[34m\u001b[1mtrain: \u001b[0mWARNING ⚠️ /content/datasets/hand-keypoints/train/images/IMG_00025641.jpg: ignoring corrupt image/label: non-normalized or out of bounds coordinates [     1.0109]\n",
            "\u001b[34m\u001b[1mtrain: \u001b[0mWARNING ⚠️ /content/datasets/hand-keypoints/train/images/IMG_00025643.jpg: ignoring corrupt image/label: non-normalized or out of bounds coordinates [     1.0228]\n",
            "\u001b[34m\u001b[1mtrain: \u001b[0mWARNING ⚠️ /content/datasets/hand-keypoints/train/images/IMG_00025644.jpg: ignoring corrupt image/label: non-normalized or out of bounds coordinates [     1.0092]\n",
            "\u001b[34m\u001b[1mtrain: \u001b[0mWARNING ⚠️ /content/datasets/hand-keypoints/train/images/IMG_00025648.jpg: ignoring corrupt image/label: non-normalized or out of bounds coordinates [     1.0087]\n",
            "\u001b[34m\u001b[1mtrain: \u001b[0mWARNING ⚠️ /content/datasets/hand-keypoints/train/images/IMG_00025649.jpg: ignoring corrupt image/label: non-normalized or out of bounds coordinates [     1.0011]\n",
            "\u001b[34m\u001b[1mtrain: \u001b[0mWARNING ⚠️ /content/datasets/hand-keypoints/train/images/IMG_00025665.jpg: ignoring corrupt image/label: non-normalized or out of bounds coordinates [       1.02      1.0116       1.025]\n",
            "\u001b[34m\u001b[1mtrain: \u001b[0mWARNING ⚠️ /content/datasets/hand-keypoints/train/images/IMG_00025666.jpg: ignoring corrupt image/label: non-normalized or out of bounds coordinates [     1.0228      1.0089       1.032]\n",
            "\u001b[34m\u001b[1mtrain: \u001b[0mWARNING ⚠️ /content/datasets/hand-keypoints/train/images/IMG_00025670.jpg: ignoring corrupt image/label: non-normalized or out of bounds coordinates [     1.0047      1.0165]\n",
            "\u001b[34m\u001b[1mtrain: \u001b[0mWARNING ⚠️ /content/datasets/hand-keypoints/train/images/IMG_00025671.jpg: ignoring corrupt image/label: non-normalized or out of bounds coordinates [     1.0084      1.0434]\n",
            "\u001b[34m\u001b[1mtrain: \u001b[0mWARNING ⚠️ /content/datasets/hand-keypoints/train/images/IMG_00025672.jpg: ignoring corrupt image/label: non-normalized or out of bounds coordinates [      1.044      1.1133      1.0034]\n",
            "\u001b[34m\u001b[1mtrain: \u001b[0mWARNING ⚠️ /content/datasets/hand-keypoints/train/images/IMG_00025761.jpg: ignoring corrupt image/label: non-normalized or out of bounds coordinates [     1.0342]\n",
            "\u001b[34m\u001b[1mtrain: \u001b[0mWARNING ⚠️ /content/datasets/hand-keypoints/train/images/IMG_00025772.jpg: ignoring corrupt image/label: non-normalized or out of bounds coordinates [     1.0084]\n",
            "\u001b[34m\u001b[1mtrain: \u001b[0mWARNING ⚠️ /content/datasets/hand-keypoints/train/images/IMG_00025825.jpg: ignoring corrupt image/label: non-normalized or out of bounds coordinates [     1.0084]\n",
            "\u001b[34m\u001b[1mtrain: \u001b[0mWARNING ⚠️ /content/datasets/hand-keypoints/train/images/IMG_00025856.jpg: ignoring corrupt image/label: non-normalized or out of bounds coordinates [      1.031]\n",
            "\u001b[34m\u001b[1mtrain: \u001b[0mWARNING ⚠️ /content/datasets/hand-keypoints/train/images/IMG_00025857.jpg: ignoring corrupt image/label: non-normalized or out of bounds coordinates [     1.0112]\n",
            "\u001b[34m\u001b[1mtrain: \u001b[0mWARNING ⚠️ /content/datasets/hand-keypoints/train/images/IMG_00025858.jpg: ignoring corrupt image/label: non-normalized or out of bounds coordinates [     1.0077]\n",
            "\u001b[34m\u001b[1mtrain: \u001b[0mWARNING ⚠️ /content/datasets/hand-keypoints/train/images/IMG_00025958.jpg: ignoring corrupt image/label: non-normalized or out of bounds coordinates [     1.0749]\n",
            "\u001b[34m\u001b[1mtrain: \u001b[0mWARNING ⚠️ /content/datasets/hand-keypoints/train/images/IMG_00025959.jpg: ignoring corrupt image/label: non-normalized or out of bounds coordinates [     1.0956]\n",
            "\u001b[34m\u001b[1mtrain: \u001b[0mWARNING ⚠️ /content/datasets/hand-keypoints/train/images/IMG_00025960.jpg: ignoring corrupt image/label: non-normalized or out of bounds coordinates [     1.0855]\n",
            "\u001b[34m\u001b[1mtrain: \u001b[0mWARNING ⚠️ /content/datasets/hand-keypoints/train/images/IMG_00025961.jpg: ignoring corrupt image/label: non-normalized or out of bounds coordinates [     1.0899]\n",
            "\u001b[34m\u001b[1mtrain: \u001b[0mWARNING ⚠️ /content/datasets/hand-keypoints/train/images/IMG_00025963.jpg: ignoring corrupt image/label: non-normalized or out of bounds coordinates [     1.0745]\n",
            "\u001b[34m\u001b[1mtrain: \u001b[0mWARNING ⚠️ /content/datasets/hand-keypoints/train/images/IMG_00025964.jpg: ignoring corrupt image/label: non-normalized or out of bounds coordinates [     1.0881]\n",
            "\u001b[34m\u001b[1mtrain: \u001b[0mWARNING ⚠️ /content/datasets/hand-keypoints/train/images/IMG_00026048.jpg: ignoring corrupt image/label: non-normalized or out of bounds coordinates [     1.0179]\n",
            "\u001b[34m\u001b[1mtrain: \u001b[0mWARNING ⚠️ /content/datasets/hand-keypoints/train/images/IMG_00026217.jpg: ignoring corrupt image/label: non-normalized or out of bounds coordinates [     1.0078]\n",
            "\u001b[34m\u001b[1mtrain: \u001b[0mWARNING ⚠️ /content/datasets/hand-keypoints/train/images/IMG_00026218.jpg: ignoring corrupt image/label: non-normalized or out of bounds coordinates [     1.0046]\n",
            "\u001b[34m\u001b[1mtrain: \u001b[0mWARNING ⚠️ /content/datasets/hand-keypoints/train/images/IMG_00026253.jpg: ignoring corrupt image/label: non-normalized or out of bounds coordinates [     1.0193]\n",
            "\u001b[34m\u001b[1mtrain: \u001b[0mWARNING ⚠️ /content/datasets/hand-keypoints/train/images/IMG_00026505.jpg: ignoring corrupt image/label: non-normalized or out of bounds coordinates [     1.0128]\n",
            "\u001b[34m\u001b[1mtrain: \u001b[0mWARNING ⚠️ /content/datasets/hand-keypoints/train/images/IMG_00026820.jpg: ignoring corrupt image/label: non-normalized or out of bounds coordinates [     1.0009      1.0329]\n",
            "\u001b[34m\u001b[1mtrain: \u001b[0mWARNING ⚠️ /content/datasets/hand-keypoints/train/images/IMG_00026822.jpg: ignoring corrupt image/label: non-normalized or out of bounds coordinates [      1.009      1.0411]\n",
            "\u001b[34m\u001b[1mtrain: \u001b[0mWARNING ⚠️ /content/datasets/hand-keypoints/train/images/IMG_00026824.jpg: ignoring corrupt image/label: non-normalized or out of bounds coordinates [      1.001      1.0314]\n",
            "\u001b[34m\u001b[1mtrain: \u001b[0mWARNING ⚠️ /content/datasets/hand-keypoints/train/images/IMG_00026825.jpg: ignoring corrupt image/label: non-normalized or out of bounds coordinates [     1.0227]\n",
            "\u001b[34m\u001b[1mtrain: \u001b[0mWARNING ⚠️ /content/datasets/hand-keypoints/train/images/IMG_00026826.jpg: ignoring corrupt image/label: non-normalized or out of bounds coordinates [     1.0049      1.0298]\n",
            "\u001b[34m\u001b[1mtrain: \u001b[0mWARNING ⚠️ /content/datasets/hand-keypoints/train/images/IMG_00026827.jpg: ignoring corrupt image/label: non-normalized or out of bounds coordinates [     1.0047      1.0323]\n",
            "\u001b[34m\u001b[1mtrain: \u001b[0mWARNING ⚠️ /content/datasets/hand-keypoints/train/images/IMG_00027074.jpg: ignoring corrupt image/label: non-normalized or out of bounds coordinates [     1.0105]\n",
            "\u001b[34m\u001b[1mtrain: \u001b[0mWARNING ⚠️ /content/datasets/hand-keypoints/train/images/IMG_00027076.jpg: ignoring corrupt image/label: non-normalized or out of bounds coordinates [     1.0232]\n",
            "\u001b[34m\u001b[1mtrain: \u001b[0mWARNING ⚠️ /content/datasets/hand-keypoints/train/images/IMG_00027077.jpg: ignoring corrupt image/label: non-normalized or out of bounds coordinates [     1.0185]\n",
            "\u001b[34m\u001b[1mtrain: \u001b[0mWARNING ⚠️ /content/datasets/hand-keypoints/train/images/IMG_00027078.jpg: ignoring corrupt image/label: non-normalized or out of bounds coordinates [     1.0162]\n",
            "\u001b[34m\u001b[1mtrain: \u001b[0mWARNING ⚠️ /content/datasets/hand-keypoints/train/images/IMG_00027079.jpg: ignoring corrupt image/label: non-normalized or out of bounds coordinates [     1.0139]\n",
            "\u001b[34m\u001b[1mtrain: \u001b[0mWARNING ⚠️ /content/datasets/hand-keypoints/train/images/IMG_00027346.jpg: ignoring corrupt image/label: non-normalized or out of bounds coordinates [     1.0005]\n",
            "\u001b[34m\u001b[1mtrain: \u001b[0mWARNING ⚠️ /content/datasets/hand-keypoints/train/images/IMG_00027347.jpg: ignoring corrupt image/label: non-normalized or out of bounds coordinates [     1.0046]\n",
            "\u001b[34m\u001b[1mtrain: \u001b[0mWARNING ⚠️ /content/datasets/hand-keypoints/train/images/IMG_00027348.jpg: ignoring corrupt image/label: non-normalized or out of bounds coordinates [     1.0063]\n",
            "\u001b[34m\u001b[1mtrain: \u001b[0mWARNING ⚠️ /content/datasets/hand-keypoints/train/images/IMG_00027702.jpg: ignoring corrupt image/label: non-normalized or out of bounds coordinates [     1.0055]\n",
            "\u001b[34m\u001b[1mtrain: \u001b[0mWARNING ⚠️ /content/datasets/hand-keypoints/train/images/IMG_00027706.jpg: ignoring corrupt image/label: non-normalized or out of bounds coordinates [     1.0057]\n",
            "\u001b[34m\u001b[1mtrain: \u001b[0mWARNING ⚠️ /content/datasets/hand-keypoints/train/images/IMG_00027707.jpg: ignoring corrupt image/label: non-normalized or out of bounds coordinates [          1]\n",
            "\u001b[34m\u001b[1mtrain: \u001b[0mWARNING ⚠️ /content/datasets/hand-keypoints/train/images/IMG_00027708.jpg: ignoring corrupt image/label: non-normalized or out of bounds coordinates [     1.0128]\n",
            "\u001b[34m\u001b[1mtrain: \u001b[0mWARNING ⚠️ /content/datasets/hand-keypoints/train/images/IMG_00027709.jpg: ignoring corrupt image/label: non-normalized or out of bounds coordinates [     1.0131]\n",
            "\u001b[34m\u001b[1mtrain: \u001b[0mWARNING ⚠️ /content/datasets/hand-keypoints/train/images/IMG_00027710.jpg: ignoring corrupt image/label: non-normalized or out of bounds coordinates [     1.0128]\n",
            "\u001b[34m\u001b[1mtrain: \u001b[0mWARNING ⚠️ /content/datasets/hand-keypoints/train/images/IMG_00027711.jpg: ignoring corrupt image/label: non-normalized or out of bounds coordinates [     1.0141]\n",
            "\u001b[34m\u001b[1mtrain: \u001b[0mWARNING ⚠️ /content/datasets/hand-keypoints/train/images/IMG_00027712.jpg: ignoring corrupt image/label: non-normalized or out of bounds coordinates [     1.0175]\n",
            "\u001b[34m\u001b[1mtrain: \u001b[0mWARNING ⚠️ /content/datasets/hand-keypoints/train/images/IMG_00027713.jpg: ignoring corrupt image/label: non-normalized or out of bounds coordinates [     1.0136]\n",
            "\u001b[34m\u001b[1mtrain: \u001b[0mWARNING ⚠️ /content/datasets/hand-keypoints/train/images/IMG_00027714.jpg: ignoring corrupt image/label: non-normalized or out of bounds coordinates [     1.0076]\n",
            "\u001b[34m\u001b[1mtrain: \u001b[0mWARNING ⚠️ /content/datasets/hand-keypoints/train/images/IMG_00027715.jpg: ignoring corrupt image/label: non-normalized or out of bounds coordinates [      1.021]\n",
            "\u001b[34m\u001b[1mtrain: \u001b[0mWARNING ⚠️ /content/datasets/hand-keypoints/train/images/IMG_00027716.jpg: ignoring corrupt image/label: non-normalized or out of bounds coordinates [     1.0143]\n",
            "\u001b[34m\u001b[1mtrain: \u001b[0mWARNING ⚠️ /content/datasets/hand-keypoints/train/images/IMG_00027717.jpg: ignoring corrupt image/label: non-normalized or out of bounds coordinates [     1.0125]\n",
            "\u001b[34m\u001b[1mtrain: \u001b[0mWARNING ⚠️ /content/datasets/hand-keypoints/train/images/IMG_00027718.jpg: ignoring corrupt image/label: non-normalized or out of bounds coordinates [     1.0119]\n",
            "\u001b[34m\u001b[1mtrain: \u001b[0mWARNING ⚠️ /content/datasets/hand-keypoints/train/images/IMG_00027974.jpg: ignoring corrupt image/label: non-normalized or out of bounds coordinates [      1.013]\n",
            "\u001b[34m\u001b[1mtrain: \u001b[0mWARNING ⚠️ /content/datasets/hand-keypoints/train/images/IMG_00027975.jpg: ignoring corrupt image/label: non-normalized or out of bounds coordinates [      1.001      1.0322]\n",
            "\u001b[34m\u001b[1mtrain: \u001b[0mWARNING ⚠️ /content/datasets/hand-keypoints/train/images/IMG_00027977.jpg: ignoring corrupt image/label: non-normalized or out of bounds coordinates [     1.0041      1.0484       1.095]\n",
            "\u001b[34m\u001b[1mtrain: \u001b[0mWARNING ⚠️ /content/datasets/hand-keypoints/train/images/IMG_00027978.jpg: ignoring corrupt image/label: non-normalized or out of bounds coordinates [     1.0109      1.0981      1.1791]\n",
            "\u001b[34m\u001b[1mtrain: \u001b[0mWARNING ⚠️ /content/datasets/hand-keypoints/train/images/IMG_00027979.jpg: ignoring corrupt image/label: non-normalized or out of bounds coordinates [     1.0122]\n",
            "\u001b[34m\u001b[1mtrain: \u001b[0mWARNING ⚠️ /content/datasets/hand-keypoints/train/images/IMG_00027995.jpg: ignoring corrupt image/label: non-normalized or out of bounds coordinates [     1.0035      1.0399]\n",
            "\u001b[34m\u001b[1mtrain: \u001b[0mWARNING ⚠️ /content/datasets/hand-keypoints/train/images/IMG_00027996.jpg: ignoring corrupt image/label: non-normalized or out of bounds coordinates [     1.0057       1.047]\n",
            "\u001b[34m\u001b[1mtrain: \u001b[0mWARNING ⚠️ /content/datasets/hand-keypoints/train/images/IMG_00033677.jpg: ignoring corrupt image/label: non-normalized or out of bounds coordinates [     1.0025]\n",
            "\u001b[34m\u001b[1mtrain: \u001b[0mWARNING ⚠️ /content/datasets/hand-keypoints/train/images/IMG_00034297.jpg: ignoring corrupt image/label: non-normalized or out of bounds coordinates [     1.0166]\n",
            "\u001b[34m\u001b[1mtrain: \u001b[0mWARNING ⚠️ /content/datasets/hand-keypoints/train/images/IMG_00034298.jpg: ignoring corrupt image/label: non-normalized or out of bounds coordinates [      1.031]\n",
            "\u001b[34m\u001b[1mtrain: \u001b[0mWARNING ⚠️ /content/datasets/hand-keypoints/train/images/IMG_00034299.jpg: ignoring corrupt image/label: non-normalized or out of bounds coordinates [     1.0378]\n",
            "\u001b[34m\u001b[1mtrain: \u001b[0mWARNING ⚠️ /content/datasets/hand-keypoints/train/images/IMG_00034300.jpg: ignoring corrupt image/label: non-normalized or out of bounds coordinates [     1.0359]\n",
            "\u001b[34m\u001b[1mtrain: \u001b[0mWARNING ⚠️ /content/datasets/hand-keypoints/train/images/IMG_00034301.jpg: ignoring corrupt image/label: non-normalized or out of bounds coordinates [     1.0384]\n",
            "\u001b[34m\u001b[1mtrain: \u001b[0mWARNING ⚠️ /content/datasets/hand-keypoints/train/images/IMG_00034348.jpg: ignoring corrupt image/label: non-normalized or out of bounds coordinates [     1.0159]\n",
            "\u001b[34m\u001b[1mtrain: \u001b[0mWARNING ⚠️ /content/datasets/hand-keypoints/train/images/IMG_00034416.jpg: ignoring corrupt image/label: non-normalized or out of bounds coordinates [     1.0078]\n",
            "\u001b[34m\u001b[1mtrain: \u001b[0mWARNING ⚠️ /content/datasets/hand-keypoints/train/images/IMG_00034417.jpg: ignoring corrupt image/label: non-normalized or out of bounds coordinates [      1.007]\n",
            "\u001b[34m\u001b[1mtrain: \u001b[0mWARNING ⚠️ /content/datasets/hand-keypoints/train/images/IMG_00034418.jpg: ignoring corrupt image/label: non-normalized or out of bounds coordinates [     1.0102]\n",
            "\u001b[34m\u001b[1mtrain: \u001b[0mWARNING ⚠️ /content/datasets/hand-keypoints/train/images/IMG_00034419.jpg: ignoring corrupt image/label: non-normalized or out of bounds coordinates [     1.0104]\n",
            "\u001b[34m\u001b[1mtrain: \u001b[0mWARNING ⚠️ /content/datasets/hand-keypoints/train/images/IMG_00034422.jpg: ignoring corrupt image/label: non-normalized or out of bounds coordinates [     1.0028]\n",
            "\u001b[34m\u001b[1mtrain: \u001b[0mWARNING ⚠️ /content/datasets/hand-keypoints/train/images/IMG_00034469.jpg: ignoring corrupt image/label: non-normalized or out of bounds coordinates [     1.0086]\n",
            "\u001b[34m\u001b[1mtrain: \u001b[0mWARNING ⚠️ /content/datasets/hand-keypoints/train/images/IMG_00034526.jpg: ignoring corrupt image/label: non-normalized or out of bounds coordinates [     1.0112]\n",
            "\u001b[34m\u001b[1mtrain: \u001b[0mWARNING ⚠️ /content/datasets/hand-keypoints/train/images/IMG_00034528.jpg: ignoring corrupt image/label: non-normalized or out of bounds coordinates [     1.0069]\n",
            "\u001b[34m\u001b[1mtrain: \u001b[0mWARNING ⚠️ /content/datasets/hand-keypoints/train/images/IMG_00034529.jpg: ignoring corrupt image/label: non-normalized or out of bounds coordinates [     1.0068]\n",
            "\u001b[34m\u001b[1mtrain: \u001b[0mWARNING ⚠️ /content/datasets/hand-keypoints/train/images/IMG_00034829.jpg: ignoring corrupt image/label: non-normalized or out of bounds coordinates [     1.0088]\n",
            "\u001b[34m\u001b[1mtrain: \u001b[0mWARNING ⚠️ /content/datasets/hand-keypoints/train/images/IMG_00034947.jpg: ignoring corrupt image/label: non-normalized or out of bounds coordinates [     1.0169]\n",
            "\u001b[34m\u001b[1mtrain: \u001b[0mWARNING ⚠️ /content/datasets/hand-keypoints/train/images/IMG_00034948.jpg: ignoring corrupt image/label: non-normalized or out of bounds coordinates [     1.0249]\n",
            "\u001b[34m\u001b[1mtrain: \u001b[0mWARNING ⚠️ /content/datasets/hand-keypoints/train/images/IMG_00034949.jpg: ignoring corrupt image/label: non-normalized or out of bounds coordinates [     1.0464]\n",
            "\u001b[34m\u001b[1mtrain: \u001b[0mWARNING ⚠️ /content/datasets/hand-keypoints/train/images/IMG_00034950.jpg: ignoring corrupt image/label: non-normalized or out of bounds coordinates [     1.0261]\n",
            "\u001b[34m\u001b[1mtrain: \u001b[0mWARNING ⚠️ /content/datasets/hand-keypoints/train/images/IMG_00034951.jpg: ignoring corrupt image/label: non-normalized or out of bounds coordinates [     1.0258]\n",
            "\u001b[34m\u001b[1mtrain: \u001b[0mWARNING ⚠️ /content/datasets/hand-keypoints/train/images/IMG_00034952.jpg: ignoring corrupt image/label: non-normalized or out of bounds coordinates [     1.0128]\n",
            "\u001b[34m\u001b[1mtrain: \u001b[0mWARNING ⚠️ /content/datasets/hand-keypoints/train/images/IMG_00034960.jpg: ignoring corrupt image/label: non-normalized or out of bounds coordinates [     1.0245]\n",
            "\u001b[34m\u001b[1mtrain: \u001b[0mWARNING ⚠️ /content/datasets/hand-keypoints/train/images/IMG_00034961.jpg: ignoring corrupt image/label: non-normalized or out of bounds coordinates [     1.0343]\n",
            "\u001b[34m\u001b[1mtrain: \u001b[0mWARNING ⚠️ /content/datasets/hand-keypoints/train/images/IMG_00035026.jpg: ignoring corrupt image/label: non-normalized or out of bounds coordinates [     1.0054]\n",
            "\u001b[34m\u001b[1mtrain: \u001b[0mWARNING ⚠️ /content/datasets/hand-keypoints/train/images/IMG_00035029.jpg: ignoring corrupt image/label: non-normalized or out of bounds coordinates [     1.0136]\n",
            "\u001b[34m\u001b[1mtrain: \u001b[0mWARNING ⚠️ /content/datasets/hand-keypoints/train/images/IMG_00035056.jpg: ignoring corrupt image/label: non-normalized or out of bounds coordinates [     1.0351]\n",
            "\u001b[34m\u001b[1mtrain: \u001b[0mWARNING ⚠️ /content/datasets/hand-keypoints/train/images/IMG_00035058.jpg: ignoring corrupt image/label: non-normalized or out of bounds coordinates [     1.0384]\n",
            "\u001b[34m\u001b[1mtrain: \u001b[0mWARNING ⚠️ /content/datasets/hand-keypoints/train/images/IMG_00035121.jpg: ignoring corrupt image/label: non-normalized or out of bounds coordinates [       1.08]\n",
            "\u001b[34m\u001b[1mtrain: \u001b[0mWARNING ⚠️ /content/datasets/hand-keypoints/train/images/IMG_00035122.jpg: ignoring corrupt image/label: non-normalized or out of bounds coordinates [     1.0694]\n",
            "\u001b[34m\u001b[1mtrain: \u001b[0mWARNING ⚠️ /content/datasets/hand-keypoints/train/images/IMG_00035124.jpg: ignoring corrupt image/label: non-normalized or out of bounds coordinates [      1.041]\n",
            "\u001b[34m\u001b[1mtrain: \u001b[0mWARNING ⚠️ /content/datasets/hand-keypoints/train/images/IMG_00035126.jpg: ignoring corrupt image/label: non-normalized or out of bounds coordinates [     1.0521]\n",
            "\u001b[34m\u001b[1mtrain: \u001b[0mWARNING ⚠️ /content/datasets/hand-keypoints/train/images/IMG_00035440.jpg: ignoring corrupt image/label: non-normalized or out of bounds coordinates [     1.0165]\n",
            "\u001b[34m\u001b[1mtrain: \u001b[0mWARNING ⚠️ /content/datasets/hand-keypoints/train/images/IMG_00035442.jpg: ignoring corrupt image/label: non-normalized or out of bounds coordinates [     1.0132]\n"
          ]
        },
        {
          "metadata": {
            "tags": null
          },
          "name": "stderr",
          "output_type": "stream",
          "text": [
            "\n"
          ]
        },
        {
          "metadata": {
            "tags": null
          },
          "name": "stdout",
          "output_type": "stream",
          "text": [
            "\u001b[34m\u001b[1mtrain: \u001b[0mNew cache created: /content/datasets/hand-keypoints/train/labels.cache\n",
            "\u001b[34m\u001b[1malbumentations: \u001b[0mBlur(p=0.01, blur_limit=(3, 7)), MedianBlur(p=0.01, blur_limit=(3, 7)), ToGray(p=0.01, num_output_channels=3, method='weighted_average'), CLAHE(p=0.01, clip_limit=(1.0, 4.0), tile_grid_size=(8, 8))\n"
          ]
        },
        {
          "metadata": {
            "tags": null
          },
          "name": "stderr",
          "output_type": "stream",
          "text": [
            "/usr/local/lib/python3.11/dist-packages/albumentations/__init__.py:24: UserWarning: A new version of Albumentations is available: 2.0.2 (you have 1.4.20). Upgrade using: pip install -U albumentations. To disable automatic update checks, set the environment variable NO_ALBUMENTATIONS_UPDATE to 1.\n",
            "  check_for_updates()\n",
            "\u001b[34m\u001b[1mval: \u001b[0mScanning /content/datasets/hand-keypoints/val/labels... 7992 images, 0 backgrounds, 184 corrupt: 100%|██████████| 7992/7992 [00:08<00:00, 981.55it/s] "
          ]
        },
        {
          "metadata": {
            "tags": null
          },
          "name": "stdout",
          "output_type": "stream",
          "text": [
            "\u001b[34m\u001b[1mval: \u001b[0mWARNING ⚠️ /content/datasets/hand-keypoints/val/images/IMG_00001798.jpg: ignoring corrupt image/label: non-normalized or out of bounds coordinates [     1.0001]\n",
            "\u001b[34m\u001b[1mval: \u001b[0mWARNING ⚠️ /content/datasets/hand-keypoints/val/images/IMG_00001884.jpg: ignoring corrupt image/label: non-normalized or out of bounds coordinates [     1.0002      1.0106      1.0375       1.046      1.0307       1.016      1.0683      1.0766      1.0667]\n",
            "\u001b[34m\u001b[1mval: \u001b[0mWARNING ⚠️ /content/datasets/hand-keypoints/val/images/IMG_00001885.jpg: ignoring corrupt image/label: non-normalized or out of bounds coordinates [     1.0049      1.0064      1.0104      1.0126]\n",
            "\u001b[34m\u001b[1mval: \u001b[0mWARNING ⚠️ /content/datasets/hand-keypoints/val/images/IMG_00001996.jpg: ignoring corrupt image/label: non-normalized or out of bounds coordinates [     1.0029]\n",
            "\u001b[34m\u001b[1mval: \u001b[0mWARNING ⚠️ /content/datasets/hand-keypoints/val/images/IMG_00001997.jpg: ignoring corrupt image/label: non-normalized or out of bounds coordinates [     1.0053]\n",
            "\u001b[34m\u001b[1mval: \u001b[0mWARNING ⚠️ /content/datasets/hand-keypoints/val/images/IMG_00002004.jpg: ignoring corrupt image/label: non-normalized or out of bounds coordinates [     1.0202]\n",
            "\u001b[34m\u001b[1mval: \u001b[0mWARNING ⚠️ /content/datasets/hand-keypoints/val/images/IMG_00002142.jpg: ignoring corrupt image/label: non-normalized or out of bounds coordinates [     1.0163]\n",
            "\u001b[34m\u001b[1mval: \u001b[0mWARNING ⚠️ /content/datasets/hand-keypoints/val/images/IMG_00002145.jpg: ignoring corrupt image/label: non-normalized or out of bounds coordinates [     1.0362      1.0124]\n",
            "\u001b[34m\u001b[1mval: \u001b[0mWARNING ⚠️ /content/datasets/hand-keypoints/val/images/IMG_00002452.jpg: ignoring corrupt image/label: non-normalized or out of bounds coordinates [      1.014]\n",
            "\u001b[34m\u001b[1mval: \u001b[0mWARNING ⚠️ /content/datasets/hand-keypoints/val/images/IMG_00002743.jpg: ignoring corrupt image/label: non-normalized or out of bounds coordinates [     1.0082]\n",
            "\u001b[34m\u001b[1mval: \u001b[0mWARNING ⚠️ /content/datasets/hand-keypoints/val/images/IMG_00002748.jpg: ignoring corrupt image/label: non-normalized or out of bounds coordinates [     1.0652       1.014]\n",
            "\u001b[34m\u001b[1mval: \u001b[0mWARNING ⚠️ /content/datasets/hand-keypoints/val/images/IMG_00002750.jpg: ignoring corrupt image/label: non-normalized or out of bounds coordinates [     1.0621      1.0135]\n",
            "\u001b[34m\u001b[1mval: \u001b[0mWARNING ⚠️ /content/datasets/hand-keypoints/val/images/IMG_00002753.jpg: ignoring corrupt image/label: non-normalized or out of bounds coordinates [     1.0538      1.0036]\n",
            "\u001b[34m\u001b[1mval: \u001b[0mWARNING ⚠️ /content/datasets/hand-keypoints/val/images/IMG_00002759.jpg: ignoring corrupt image/label: non-normalized or out of bounds coordinates [      1.004      1.0955]\n",
            "\u001b[34m\u001b[1mval: \u001b[0mWARNING ⚠️ /content/datasets/hand-keypoints/val/images/IMG_00002990.jpg: ignoring corrupt image/label: non-normalized or out of bounds coordinates [     1.0018       1.005      1.0057       1.006]\n",
            "\u001b[34m\u001b[1mval: \u001b[0mWARNING ⚠️ /content/datasets/hand-keypoints/val/images/IMG_00002995.jpg: ignoring corrupt image/label: non-normalized or out of bounds coordinates [     1.0131      1.0258]\n",
            "\u001b[34m\u001b[1mval: \u001b[0mWARNING ⚠️ /content/datasets/hand-keypoints/val/images/IMG_00003003.jpg: ignoring corrupt image/label: non-normalized or out of bounds coordinates [     1.0256      1.0387      1.0251      1.0392      1.0155      1.0286      1.0047      1.0172]\n",
            "\u001b[34m\u001b[1mval: \u001b[0mWARNING ⚠️ /content/datasets/hand-keypoints/val/images/IMG_00003107.jpg: ignoring corrupt image/label: non-normalized or out of bounds coordinates [     1.0463]\n",
            "\u001b[34m\u001b[1mval: \u001b[0mWARNING ⚠️ /content/datasets/hand-keypoints/val/images/IMG_00003110.jpg: ignoring corrupt image/label: non-normalized or out of bounds coordinates [      1.077      1.0252]\n",
            "\u001b[34m\u001b[1mval: \u001b[0mWARNING ⚠️ /content/datasets/hand-keypoints/val/images/IMG_00003112.jpg: ignoring corrupt image/label: non-normalized or out of bounds coordinates [     1.0607      1.0144]\n",
            "\u001b[34m\u001b[1mval: \u001b[0mWARNING ⚠️ /content/datasets/hand-keypoints/val/images/IMG_00003113.jpg: ignoring corrupt image/label: non-normalized or out of bounds coordinates [     1.0215]\n",
            "\u001b[34m\u001b[1mval: \u001b[0mWARNING ⚠️ /content/datasets/hand-keypoints/val/images/IMG_00003165.jpg: ignoring corrupt image/label: non-normalized or out of bounds coordinates [     1.0131      1.0007       1.019      1.0084]\n",
            "\u001b[34m\u001b[1mval: \u001b[0mWARNING ⚠️ /content/datasets/hand-keypoints/val/images/IMG_00003267.jpg: ignoring corrupt image/label: non-normalized or out of bounds coordinates [     1.0011]\n",
            "\u001b[34m\u001b[1mval: \u001b[0mWARNING ⚠️ /content/datasets/hand-keypoints/val/images/IMG_00003373.jpg: ignoring corrupt image/label: non-normalized or out of bounds coordinates [     1.0044      1.0104      1.0154      1.0422      1.0528      1.0594]\n",
            "\u001b[34m\u001b[1mval: \u001b[0mWARNING ⚠️ /content/datasets/hand-keypoints/val/images/IMG_00003374.jpg: ignoring corrupt image/label: non-normalized or out of bounds coordinates [      1.003      1.0119      1.0218      1.0031      1.0215      1.0294      1.0369      1.0232      1.0379      1.0464      1.0533]\n",
            "\u001b[34m\u001b[1mval: \u001b[0mWARNING ⚠️ /content/datasets/hand-keypoints/val/images/IMG_00003386.jpg: ignoring corrupt image/label: non-normalized or out of bounds coordinates [     1.0196      1.0371      1.0255      1.0436      1.0596]\n",
            "\u001b[34m\u001b[1mval: \u001b[0mWARNING ⚠️ /content/datasets/hand-keypoints/val/images/IMG_00003389.jpg: ignoring corrupt image/label: non-normalized or out of bounds coordinates [     1.0003      1.0206       1.038      1.0248      1.0428      1.0588]\n",
            "\u001b[34m\u001b[1mval: \u001b[0mWARNING ⚠️ /content/datasets/hand-keypoints/val/images/IMG_00003432.jpg: ignoring corrupt image/label: non-normalized or out of bounds coordinates [     1.0285]\n",
            "\u001b[34m\u001b[1mval: \u001b[0mWARNING ⚠️ /content/datasets/hand-keypoints/val/images/IMG_00003433.jpg: ignoring corrupt image/label: non-normalized or out of bounds coordinates [     1.0516]\n",
            "\u001b[34m\u001b[1mval: \u001b[0mWARNING ⚠️ /content/datasets/hand-keypoints/val/images/IMG_00003435.jpg: ignoring corrupt image/label: non-normalized or out of bounds coordinates [     1.0782      1.0305]\n",
            "\u001b[34m\u001b[1mval: \u001b[0mWARNING ⚠️ /content/datasets/hand-keypoints/val/images/IMG_00003436.jpg: ignoring corrupt image/label: non-normalized or out of bounds coordinates [     1.0658      1.0146]\n",
            "\u001b[34m\u001b[1mval: \u001b[0mWARNING ⚠️ /content/datasets/hand-keypoints/val/images/IMG_00003437.jpg: ignoring corrupt image/label: non-normalized or out of bounds coordinates [     1.0717      1.0134]\n",
            "\u001b[34m\u001b[1mval: \u001b[0mWARNING ⚠️ /content/datasets/hand-keypoints/val/images/IMG_00003441.jpg: ignoring corrupt image/label: non-normalized or out of bounds coordinates [     1.0714      1.0012]\n",
            "\u001b[34m\u001b[1mval: \u001b[0mWARNING ⚠️ /content/datasets/hand-keypoints/val/images/IMG_00003493.jpg: ignoring corrupt image/label: non-normalized or out of bounds coordinates [     1.0193]\n",
            "\u001b[34m\u001b[1mval: \u001b[0mWARNING ⚠️ /content/datasets/hand-keypoints/val/images/IMG_00003594.jpg: ignoring corrupt image/label: non-normalized or out of bounds coordinates [     1.0035      1.0087       1.022      1.0271      1.0303]\n",
            "\u001b[34m\u001b[1mval: \u001b[0mWARNING ⚠️ /content/datasets/hand-keypoints/val/images/IMG_00003851.jpg: ignoring corrupt image/label: non-normalized or out of bounds coordinates [     1.0404      1.0673       1.088]\n",
            "\u001b[34m\u001b[1mval: \u001b[0mWARNING ⚠️ /content/datasets/hand-keypoints/val/images/IMG_00003858.jpg: ignoring corrupt image/label: non-normalized or out of bounds coordinates [     1.0223      1.0134      1.0017      1.0087      1.0974      1.1178      1.1361]\n",
            "\u001b[34m\u001b[1mval: \u001b[0mWARNING ⚠️ /content/datasets/hand-keypoints/val/images/IMG_00003860.jpg: ignoring corrupt image/label: non-normalized or out of bounds coordinates [     1.0141      1.0102      1.0026      1.0888      1.1266      1.1606]\n",
            "\u001b[34m\u001b[1mval: \u001b[0mWARNING ⚠️ /content/datasets/hand-keypoints/val/images/IMG_00004039.jpg: ignoring corrupt image/label: non-normalized or out of bounds coordinates [     1.0094]\n",
            "\u001b[34m\u001b[1mval: \u001b[0mWARNING ⚠️ /content/datasets/hand-keypoints/val/images/IMG_00004040.jpg: ignoring corrupt image/label: non-normalized or out of bounds coordinates [     1.0068]\n",
            "\u001b[34m\u001b[1mval: \u001b[0mWARNING ⚠️ /content/datasets/hand-keypoints/val/images/IMG_00004043.jpg: ignoring corrupt image/label: non-normalized or out of bounds coordinates [     1.0093]\n",
            "\u001b[34m\u001b[1mval: \u001b[0mWARNING ⚠️ /content/datasets/hand-keypoints/val/images/IMG_00004252.jpg: ignoring corrupt image/label: non-normalized or out of bounds coordinates [     1.0922      1.0439]\n",
            "\u001b[34m\u001b[1mval: \u001b[0mWARNING ⚠️ /content/datasets/hand-keypoints/val/images/IMG_00004368.jpg: ignoring corrupt image/label: non-normalized or out of bounds coordinates [     1.0078      1.0154      1.0229]\n",
            "\u001b[34m\u001b[1mval: \u001b[0mWARNING ⚠️ /content/datasets/hand-keypoints/val/images/IMG_00004426.jpg: ignoring corrupt image/label: non-normalized or out of bounds coordinates [     1.0044]\n",
            "\u001b[34m\u001b[1mval: \u001b[0mWARNING ⚠️ /content/datasets/hand-keypoints/val/images/IMG_00004428.jpg: ignoring corrupt image/label: non-normalized or out of bounds coordinates [     1.1128      1.0317]\n",
            "\u001b[34m\u001b[1mval: \u001b[0mWARNING ⚠️ /content/datasets/hand-keypoints/val/images/IMG_00004490.jpg: ignoring corrupt image/label: non-normalized or out of bounds coordinates [     1.0538      1.0044]\n",
            "\u001b[34m\u001b[1mval: \u001b[0mWARNING ⚠️ /content/datasets/hand-keypoints/val/images/IMG_00004581.jpg: ignoring corrupt image/label: non-normalized or out of bounds coordinates [     1.0584      1.0504]\n",
            "\u001b[34m\u001b[1mval: \u001b[0mWARNING ⚠️ /content/datasets/hand-keypoints/val/images/IMG_00004583.jpg: ignoring corrupt image/label: non-normalized or out of bounds coordinates [     1.0345      1.0199]\n",
            "\u001b[34m\u001b[1mval: \u001b[0mWARNING ⚠️ /content/datasets/hand-keypoints/val/images/IMG_00004937.jpg: ignoring corrupt image/label: non-normalized or out of bounds coordinates [     1.0006]\n",
            "\u001b[34m\u001b[1mval: \u001b[0mWARNING ⚠️ /content/datasets/hand-keypoints/val/images/IMG_00005124.jpg: ignoring corrupt image/label: non-normalized or out of bounds coordinates [     1.0298]\n",
            "\u001b[34m\u001b[1mval: \u001b[0mWARNING ⚠️ /content/datasets/hand-keypoints/val/images/IMG_00005349.jpg: ignoring corrupt image/label: non-normalized or out of bounds coordinates [     1.0054      1.0004      1.0198]\n",
            "\u001b[34m\u001b[1mval: \u001b[0mWARNING ⚠️ /content/datasets/hand-keypoints/val/images/IMG_00005352.jpg: ignoring corrupt image/label: non-normalized or out of bounds coordinates [     1.0392      1.0602      1.0339      1.0683      1.0882       1.057      1.0888      1.1079      1.0137      1.0693      1.0982      1.1184]\n",
            "\u001b[34m\u001b[1mval: \u001b[0mWARNING ⚠️ /content/datasets/hand-keypoints/val/images/IMG_00005354.jpg: ignoring corrupt image/label: non-normalized or out of bounds coordinates [     1.0106      1.0268      1.0253      1.0371      1.0186      1.0437      1.0569      1.0254      1.0497      1.0663]\n",
            "\u001b[34m\u001b[1mval: \u001b[0mWARNING ⚠️ /content/datasets/hand-keypoints/val/images/IMG_00005361.jpg: ignoring corrupt image/label: non-normalized or out of bounds coordinates [     1.0127      1.0003]\n",
            "\u001b[34m\u001b[1mval: \u001b[0mWARNING ⚠️ /content/datasets/hand-keypoints/val/images/IMG_00005362.jpg: ignoring corrupt image/label: non-normalized or out of bounds coordinates [     1.0033      1.0088      1.0046]\n",
            "\u001b[34m\u001b[1mval: \u001b[0mWARNING ⚠️ /content/datasets/hand-keypoints/val/images/IMG_00005364.jpg: ignoring corrupt image/label: non-normalized or out of bounds coordinates [     1.0199      1.0003      1.0104]\n",
            "\u001b[34m\u001b[1mval: \u001b[0mWARNING ⚠️ /content/datasets/hand-keypoints/val/images/IMG_00005629.jpg: ignoring corrupt image/label: non-normalized or out of bounds coordinates [     1.0035       1.022      1.0165      1.0367       1.053      1.0132      1.0399      1.0563      1.0694]\n",
            "\u001b[34m\u001b[1mval: \u001b[0mWARNING ⚠️ /content/datasets/hand-keypoints/val/images/IMG_00006056.jpg: ignoring corrupt image/label: non-normalized or out of bounds coordinates [     1.0038      1.0051       1.004]\n",
            "\u001b[34m\u001b[1mval: \u001b[0mWARNING ⚠️ /content/datasets/hand-keypoints/val/images/IMG_00006197.jpg: ignoring corrupt image/label: non-normalized or out of bounds coordinates [      1.005      1.0113      1.0171      1.0191       1.021      1.0207      1.0188]\n",
            "\u001b[34m\u001b[1mval: \u001b[0mWARNING ⚠️ /content/datasets/hand-keypoints/val/images/IMG_00006367.jpg: ignoring corrupt image/label: non-normalized or out of bounds coordinates [     1.0201      1.0404       1.009      1.0365      1.0573      1.0741]\n",
            "\u001b[34m\u001b[1mval: \u001b[0mWARNING ⚠️ /content/datasets/hand-keypoints/val/images/IMG_00006368.jpg: ignoring corrupt image/label: non-normalized or out of bounds coordinates [     1.0059      1.0126      1.0335]\n",
            "\u001b[34m\u001b[1mval: \u001b[0mWARNING ⚠️ /content/datasets/hand-keypoints/val/images/IMG_00006496.jpg: ignoring corrupt image/label: non-normalized or out of bounds coordinates [     1.0309]\n",
            "\u001b[34m\u001b[1mval: \u001b[0mWARNING ⚠️ /content/datasets/hand-keypoints/val/images/IMG_00006500.jpg: ignoring corrupt image/label: non-normalized or out of bounds coordinates [     1.0097      1.0048]\n",
            "\u001b[34m\u001b[1mval: \u001b[0mWARNING ⚠️ /content/datasets/hand-keypoints/val/images/IMG_00006502.jpg: ignoring corrupt image/label: non-normalized or out of bounds coordinates [       1.02      1.0133]\n",
            "\u001b[34m\u001b[1mval: \u001b[0mWARNING ⚠️ /content/datasets/hand-keypoints/val/images/IMG_00006504.jpg: ignoring corrupt image/label: non-normalized or out of bounds coordinates [      1.031      1.0228]\n",
            "\u001b[34m\u001b[1mval: \u001b[0mWARNING ⚠️ /content/datasets/hand-keypoints/val/images/IMG_00006546.jpg: ignoring corrupt image/label: non-normalized or out of bounds coordinates [     1.0158]\n",
            "\u001b[34m\u001b[1mval: \u001b[0mWARNING ⚠️ /content/datasets/hand-keypoints/val/images/IMG_00006622.jpg: ignoring corrupt image/label: non-normalized or out of bounds coordinates [     1.0235       1.013]\n",
            "\u001b[34m\u001b[1mval: \u001b[0mWARNING ⚠️ /content/datasets/hand-keypoints/val/images/IMG_00006623.jpg: ignoring corrupt image/label: non-normalized or out of bounds coordinates [     1.0254      1.0144]\n",
            "\u001b[34m\u001b[1mval: \u001b[0mWARNING ⚠️ /content/datasets/hand-keypoints/val/images/IMG_00006624.jpg: ignoring corrupt image/label: non-normalized or out of bounds coordinates [     1.0404      1.0188]\n",
            "\u001b[34m\u001b[1mval: \u001b[0mWARNING ⚠️ /content/datasets/hand-keypoints/val/images/IMG_00006649.jpg: ignoring corrupt image/label: non-normalized or out of bounds coordinates [     1.0006      1.0099]\n",
            "\u001b[34m\u001b[1mval: \u001b[0mWARNING ⚠️ /content/datasets/hand-keypoints/val/images/IMG_00006651.jpg: ignoring corrupt image/label: non-normalized or out of bounds coordinates [     1.0264      1.0289      1.0207      1.0305      1.0575      1.0579      1.0489]\n",
            "\u001b[34m\u001b[1mval: \u001b[0mWARNING ⚠️ /content/datasets/hand-keypoints/val/images/IMG_00006755.jpg: ignoring corrupt image/label: non-normalized or out of bounds coordinates [     1.0122]\n",
            "\u001b[34m\u001b[1mval: \u001b[0mWARNING ⚠️ /content/datasets/hand-keypoints/val/images/IMG_00007187.jpg: ignoring corrupt image/label: non-normalized or out of bounds coordinates [     1.0129      1.0238]\n",
            "\u001b[34m\u001b[1mval: \u001b[0mWARNING ⚠️ /content/datasets/hand-keypoints/val/images/IMG_00007302.jpg: ignoring corrupt image/label: non-normalized or out of bounds coordinates [     1.0099]\n",
            "\u001b[34m\u001b[1mval: \u001b[0mWARNING ⚠️ /content/datasets/hand-keypoints/val/images/IMG_00007809.jpg: ignoring corrupt image/label: non-normalized or out of bounds coordinates [     1.0001      1.0027]\n",
            "\u001b[34m\u001b[1mval: \u001b[0mWARNING ⚠️ /content/datasets/hand-keypoints/val/images/IMG_00008070.jpg: ignoring corrupt image/label: non-normalized or out of bounds coordinates [     1.0078      1.0316]\n",
            "\u001b[34m\u001b[1mval: \u001b[0mWARNING ⚠️ /content/datasets/hand-keypoints/val/images/IMG_00008073.jpg: ignoring corrupt image/label: non-normalized or out of bounds coordinates [     1.0025      1.0269      1.0338      1.0357      1.0405      1.0645      1.0713      1.0779      1.0698      1.0974      1.1056      1.1133       1.093      1.1204      1.1296      1.1378]\n",
            "\u001b[34m\u001b[1mval: \u001b[0mWARNING ⚠️ /content/datasets/hand-keypoints/val/images/IMG_00008192.jpg: ignoring corrupt image/label: non-normalized or out of bounds coordinates [     1.0039      1.0157      1.0046      1.0179]\n",
            "\u001b[34m\u001b[1mval: \u001b[0mWARNING ⚠️ /content/datasets/hand-keypoints/val/images/IMG_00008315.jpg: ignoring corrupt image/label: non-normalized or out of bounds coordinates [     1.0045]\n",
            "\u001b[34m\u001b[1mval: \u001b[0mWARNING ⚠️ /content/datasets/hand-keypoints/val/images/IMG_00008368.jpg: ignoring corrupt image/label: non-normalized or out of bounds coordinates [     1.0381]\n",
            "\u001b[34m\u001b[1mval: \u001b[0mWARNING ⚠️ /content/datasets/hand-keypoints/val/images/IMG_00008370.jpg: ignoring corrupt image/label: non-normalized or out of bounds coordinates [     1.0526]\n",
            "\u001b[34m\u001b[1mval: \u001b[0mWARNING ⚠️ /content/datasets/hand-keypoints/val/images/IMG_00008375.jpg: ignoring corrupt image/label: non-normalized or out of bounds coordinates [     1.0563      1.0126]\n",
            "\u001b[34m\u001b[1mval: \u001b[0mWARNING ⚠️ /content/datasets/hand-keypoints/val/images/IMG_00008377.jpg: ignoring corrupt image/label: non-normalized or out of bounds coordinates [     1.0441      1.0021]\n",
            "\u001b[34m\u001b[1mval: \u001b[0mWARNING ⚠️ /content/datasets/hand-keypoints/val/images/IMG_00008378.jpg: ignoring corrupt image/label: non-normalized or out of bounds coordinates [     1.0419      1.0024]\n",
            "\u001b[34m\u001b[1mval: \u001b[0mWARNING ⚠️ /content/datasets/hand-keypoints/val/images/IMG_00008379.jpg: ignoring corrupt image/label: non-normalized or out of bounds coordinates [     1.0399       1.005]\n",
            "\u001b[34m\u001b[1mval: \u001b[0mWARNING ⚠️ /content/datasets/hand-keypoints/val/images/IMG_00009392.jpg: ignoring corrupt image/label: non-normalized or out of bounds coordinates [     1.0607       1.078      1.1002]\n",
            "\u001b[34m\u001b[1mval: \u001b[0mWARNING ⚠️ /content/datasets/hand-keypoints/val/images/IMG_00009641.jpg: ignoring corrupt image/label: non-normalized or out of bounds coordinates [      1.009]\n",
            "\u001b[34m\u001b[1mval: \u001b[0mWARNING ⚠️ /content/datasets/hand-keypoints/val/images/IMG_00009648.jpg: ignoring corrupt image/label: non-normalized or out of bounds coordinates [      1.001]\n",
            "\u001b[34m\u001b[1mval: \u001b[0mWARNING ⚠️ /content/datasets/hand-keypoints/val/images/IMG_00009668.jpg: ignoring corrupt image/label: non-normalized or out of bounds coordinates [     1.0021      1.0087      1.0294      1.0165      1.0311      1.0186      1.0306      1.0136      1.0266]\n",
            "\u001b[34m\u001b[1mval: \u001b[0mWARNING ⚠️ /content/datasets/hand-keypoints/val/images/IMG_00009669.jpg: ignoring corrupt image/label: non-normalized or out of bounds coordinates [     1.0038      1.0081      1.0304      1.0184      1.0352      1.0219      1.0358      1.0184       1.033]\n",
            "\u001b[34m\u001b[1mval: \u001b[0mWARNING ⚠️ /content/datasets/hand-keypoints/val/images/IMG_00009783.jpg: ignoring corrupt image/label: non-normalized or out of bounds coordinates [     1.0052]\n",
            "\u001b[34m\u001b[1mval: \u001b[0mWARNING ⚠️ /content/datasets/hand-keypoints/val/images/IMG_00009784.jpg: ignoring corrupt image/label: non-normalized or out of bounds coordinates [     1.0433]\n",
            "\u001b[34m\u001b[1mval: \u001b[0mWARNING ⚠️ /content/datasets/hand-keypoints/val/images/IMG_00010145.jpg: ignoring corrupt image/label: non-normalized or out of bounds coordinates [     1.0383]\n",
            "\u001b[34m\u001b[1mval: \u001b[0mWARNING ⚠️ /content/datasets/hand-keypoints/val/images/IMG_00010208.jpg: ignoring corrupt image/label: non-normalized or out of bounds coordinates [     1.0278]\n",
            "\u001b[34m\u001b[1mval: \u001b[0mWARNING ⚠️ /content/datasets/hand-keypoints/val/images/IMG_00010622.jpg: ignoring corrupt image/label: non-normalized or out of bounds coordinates [     1.0089]\n",
            "\u001b[34m\u001b[1mval: \u001b[0mWARNING ⚠️ /content/datasets/hand-keypoints/val/images/IMG_00010624.jpg: ignoring corrupt image/label: non-normalized or out of bounds coordinates [     1.0416      1.0044]\n",
            "\u001b[34m\u001b[1mval: \u001b[0mWARNING ⚠️ /content/datasets/hand-keypoints/val/images/IMG_00010625.jpg: ignoring corrupt image/label: non-normalized or out of bounds coordinates [     1.0426      1.0087]\n",
            "\u001b[34m\u001b[1mval: \u001b[0mWARNING ⚠️ /content/datasets/hand-keypoints/val/images/IMG_00010629.jpg: ignoring corrupt image/label: non-normalized or out of bounds coordinates [     1.0776      1.0449]\n",
            "\u001b[34m\u001b[1mval: \u001b[0mWARNING ⚠️ /content/datasets/hand-keypoints/val/images/IMG_00010630.jpg: ignoring corrupt image/label: non-normalized or out of bounds coordinates [     1.0901      1.0618]\n",
            "\u001b[34m\u001b[1mval: \u001b[0mWARNING ⚠️ /content/datasets/hand-keypoints/val/images/IMG_00010836.jpg: ignoring corrupt image/label: non-normalized or out of bounds coordinates [      1.026      1.0303      1.0448]\n",
            "\u001b[34m\u001b[1mval: \u001b[0mWARNING ⚠️ /content/datasets/hand-keypoints/val/images/IMG_00010839.jpg: ignoring corrupt image/label: non-normalized or out of bounds coordinates [     1.0039]\n",
            "\u001b[34m\u001b[1mval: \u001b[0mWARNING ⚠️ /content/datasets/hand-keypoints/val/images/IMG_00011376.jpg: ignoring corrupt image/label: non-normalized or out of bounds coordinates [     1.0061      1.0061       1.005]\n",
            "\u001b[34m\u001b[1mval: \u001b[0mWARNING ⚠️ /content/datasets/hand-keypoints/val/images/IMG_00011443.jpg: ignoring corrupt image/label: non-normalized or out of bounds coordinates [     1.0294]\n",
            "\u001b[34m\u001b[1mval: \u001b[0mWARNING ⚠️ /content/datasets/hand-keypoints/val/images/IMG_00012734.jpg: ignoring corrupt image/label: non-normalized or out of bounds coordinates [     1.0361      1.0111]\n",
            "\u001b[34m\u001b[1mval: \u001b[0mWARNING ⚠️ /content/datasets/hand-keypoints/val/images/IMG_00013507.jpg: ignoring corrupt image/label: non-normalized or out of bounds coordinates [     1.0183]\n",
            "\u001b[34m\u001b[1mval: \u001b[0mWARNING ⚠️ /content/datasets/hand-keypoints/val/images/IMG_00013511.jpg: ignoring corrupt image/label: non-normalized or out of bounds coordinates [      1.019]\n",
            "\u001b[34m\u001b[1mval: \u001b[0mWARNING ⚠️ /content/datasets/hand-keypoints/val/images/IMG_00013513.jpg: ignoring corrupt image/label: non-normalized or out of bounds coordinates [     1.0222]\n",
            "\u001b[34m\u001b[1mval: \u001b[0mWARNING ⚠️ /content/datasets/hand-keypoints/val/images/IMG_00014530.jpg: ignoring corrupt image/label: non-normalized or out of bounds coordinates [     1.0015      1.0085      1.0071      1.0056      1.0083      1.0031      1.0062       1.009      1.0048      1.0017      1.0068      1.0056]\n",
            "\u001b[34m\u001b[1mval: \u001b[0mWARNING ⚠️ /content/datasets/hand-keypoints/val/images/IMG_00014544.jpg: ignoring corrupt image/label: non-normalized or out of bounds coordinates [     1.0019      1.0155      1.0136      1.0073      1.0122      1.0053      1.0068]\n",
            "\u001b[34m\u001b[1mval: \u001b[0mWARNING ⚠️ /content/datasets/hand-keypoints/val/images/IMG_00015180.jpg: ignoring corrupt image/label: non-normalized or out of bounds coordinates [     1.0035      1.0139       1.014       1.028      1.0373]\n",
            "\u001b[34m\u001b[1mval: \u001b[0mWARNING ⚠️ /content/datasets/hand-keypoints/val/images/IMG_00015227.jpg: ignoring corrupt image/label: non-normalized or out of bounds coordinates [     1.0179      1.0305      1.0362]\n",
            "\u001b[34m\u001b[1mval: \u001b[0mWARNING ⚠️ /content/datasets/hand-keypoints/val/images/IMG_00016736.jpg: ignoring corrupt image/label: non-normalized or out of bounds coordinates [     1.0208]\n",
            "\u001b[34m\u001b[1mval: \u001b[0mWARNING ⚠️ /content/datasets/hand-keypoints/val/images/IMG_00016737.jpg: ignoring corrupt image/label: non-normalized or out of bounds coordinates [     1.0265]\n",
            "\u001b[34m\u001b[1mval: \u001b[0mWARNING ⚠️ /content/datasets/hand-keypoints/val/images/IMG_00016738.jpg: ignoring corrupt image/label: non-normalized or out of bounds coordinates [     1.0408      1.0113]\n",
            "\u001b[34m\u001b[1mval: \u001b[0mWARNING ⚠️ /content/datasets/hand-keypoints/val/images/IMG_00016855.jpg: ignoring corrupt image/label: non-normalized or out of bounds coordinates [     1.0467      1.0238]\n",
            "\u001b[34m\u001b[1mval: \u001b[0mWARNING ⚠️ /content/datasets/hand-keypoints/val/images/IMG_00016859.jpg: ignoring corrupt image/label: non-normalized or out of bounds coordinates [     1.0646      1.0095]\n",
            "\u001b[34m\u001b[1mval: \u001b[0mWARNING ⚠️ /content/datasets/hand-keypoints/val/images/IMG_00017306.jpg: ignoring corrupt image/label: non-normalized or out of bounds coordinates [     1.0721      1.0198]\n",
            "\u001b[34m\u001b[1mval: \u001b[0mWARNING ⚠️ /content/datasets/hand-keypoints/val/images/IMG_00018650.jpg: ignoring corrupt image/label: non-normalized or out of bounds coordinates [     1.0335      1.0055]\n",
            "\u001b[34m\u001b[1mval: \u001b[0mWARNING ⚠️ /content/datasets/hand-keypoints/val/images/IMG_00018652.jpg: ignoring corrupt image/label: non-normalized or out of bounds coordinates [     1.0171]\n",
            "\u001b[34m\u001b[1mval: \u001b[0mWARNING ⚠️ /content/datasets/hand-keypoints/val/images/IMG_00018940.jpg: ignoring corrupt image/label: non-normalized or out of bounds coordinates [     1.0196]\n",
            "\u001b[34m\u001b[1mval: \u001b[0mWARNING ⚠️ /content/datasets/hand-keypoints/val/images/IMG_00019286.jpg: ignoring corrupt image/label: non-normalized or out of bounds coordinates [     1.0141]\n",
            "\u001b[34m\u001b[1mval: \u001b[0mWARNING ⚠️ /content/datasets/hand-keypoints/val/images/IMG_00019288.jpg: ignoring corrupt image/label: non-normalized or out of bounds coordinates [      1.012]\n",
            "\u001b[34m\u001b[1mval: \u001b[0mWARNING ⚠️ /content/datasets/hand-keypoints/val/images/IMG_00019979.jpg: ignoring corrupt image/label: non-normalized or out of bounds coordinates [     1.0063]\n",
            "\u001b[34m\u001b[1mval: \u001b[0mWARNING ⚠️ /content/datasets/hand-keypoints/val/images/IMG_00020313.jpg: ignoring corrupt image/label: non-normalized or out of bounds coordinates [     1.0136      1.0309]\n",
            "\u001b[34m\u001b[1mval: \u001b[0mWARNING ⚠️ /content/datasets/hand-keypoints/val/images/IMG_00020605.jpg: ignoring corrupt image/label: non-normalized or out of bounds coordinates [     1.0286      1.0169]\n",
            "\u001b[34m\u001b[1mval: \u001b[0mWARNING ⚠️ /content/datasets/hand-keypoints/val/images/IMG_00020610.jpg: ignoring corrupt image/label: non-normalized or out of bounds coordinates [     1.1015      1.0391]\n",
            "\u001b[34m\u001b[1mval: \u001b[0mWARNING ⚠️ /content/datasets/hand-keypoints/val/images/IMG_00021089.jpg: ignoring corrupt image/label: non-normalized or out of bounds coordinates [     1.0222]\n",
            "\u001b[34m\u001b[1mval: \u001b[0mWARNING ⚠️ /content/datasets/hand-keypoints/val/images/IMG_00021090.jpg: ignoring corrupt image/label: non-normalized or out of bounds coordinates [     1.0269]\n",
            "\u001b[34m\u001b[1mval: \u001b[0mWARNING ⚠️ /content/datasets/hand-keypoints/val/images/IMG_00021634.jpg: ignoring corrupt image/label: non-normalized or out of bounds coordinates [     1.0086]\n",
            "\u001b[34m\u001b[1mval: \u001b[0mWARNING ⚠️ /content/datasets/hand-keypoints/val/images/IMG_00022171.jpg: ignoring corrupt image/label: non-normalized or out of bounds coordinates [     1.0388      1.0178]\n",
            "\u001b[34m\u001b[1mval: \u001b[0mWARNING ⚠️ /content/datasets/hand-keypoints/val/images/IMG_00022316.jpg: ignoring corrupt image/label: non-normalized or out of bounds coordinates [     1.0503      1.0218]\n",
            "\u001b[34m\u001b[1mval: \u001b[0mWARNING ⚠️ /content/datasets/hand-keypoints/val/images/IMG_00022319.jpg: ignoring corrupt image/label: non-normalized or out of bounds coordinates [     1.0913      1.0549]\n",
            "\u001b[34m\u001b[1mval: \u001b[0mWARNING ⚠️ /content/datasets/hand-keypoints/val/images/IMG_00022320.jpg: ignoring corrupt image/label: non-normalized or out of bounds coordinates [      1.105      1.0617]\n",
            "\u001b[34m\u001b[1mval: \u001b[0mWARNING ⚠️ /content/datasets/hand-keypoints/val/images/IMG_00023069.jpg: ignoring corrupt image/label: non-normalized or out of bounds coordinates [     1.0035]\n",
            "\u001b[34m\u001b[1mval: \u001b[0mWARNING ⚠️ /content/datasets/hand-keypoints/val/images/IMG_00023757.jpg: ignoring corrupt image/label: non-normalized or out of bounds coordinates [     1.0078      1.0056]\n",
            "\u001b[34m\u001b[1mval: \u001b[0mWARNING ⚠️ /content/datasets/hand-keypoints/val/images/IMG_00023759.jpg: ignoring corrupt image/label: non-normalized or out of bounds coordinates [     1.0042      1.0125]\n",
            "\u001b[34m\u001b[1mval: \u001b[0mWARNING ⚠️ /content/datasets/hand-keypoints/val/images/IMG_00024545.jpg: ignoring corrupt image/label: non-normalized or out of bounds coordinates [     1.0049      1.0167]\n",
            "\u001b[34m\u001b[1mval: \u001b[0mWARNING ⚠️ /content/datasets/hand-keypoints/val/images/IMG_00024568.jpg: ignoring corrupt image/label: non-normalized or out of bounds coordinates [     1.0195]\n",
            "\u001b[34m\u001b[1mval: \u001b[0mWARNING ⚠️ /content/datasets/hand-keypoints/val/images/IMG_00024670.jpg: ignoring corrupt image/label: non-normalized or out of bounds coordinates [     1.0176      1.0662       1.115]\n",
            "\u001b[34m\u001b[1mval: \u001b[0mWARNING ⚠️ /content/datasets/hand-keypoints/val/images/IMG_00024674.jpg: ignoring corrupt image/label: non-normalized or out of bounds coordinates [     1.0295      1.0714      1.1099]\n",
            "\u001b[34m\u001b[1mval: \u001b[0mWARNING ⚠️ /content/datasets/hand-keypoints/val/images/IMG_00024715.jpg: ignoring corrupt image/label: non-normalized or out of bounds coordinates [     1.0325      1.0847]\n",
            "\u001b[34m\u001b[1mval: \u001b[0mWARNING ⚠️ /content/datasets/hand-keypoints/val/images/IMG_00024725.jpg: ignoring corrupt image/label: non-normalized or out of bounds coordinates [     1.0152       1.056]\n",
            "\u001b[34m\u001b[1mval: \u001b[0mWARNING ⚠️ /content/datasets/hand-keypoints/val/images/IMG_00024726.jpg: ignoring corrupt image/label: non-normalized or out of bounds coordinates [     1.0372      1.0936]\n",
            "\u001b[34m\u001b[1mval: \u001b[0mWARNING ⚠️ /content/datasets/hand-keypoints/val/images/IMG_00024843.jpg: ignoring corrupt image/label: non-normalized or out of bounds coordinates [     1.0065]\n",
            "\u001b[34m\u001b[1mval: \u001b[0mWARNING ⚠️ /content/datasets/hand-keypoints/val/images/IMG_00024915.jpg: ignoring corrupt image/label: non-normalized or out of bounds coordinates [     1.0348]\n",
            "\u001b[34m\u001b[1mval: \u001b[0mWARNING ⚠️ /content/datasets/hand-keypoints/val/images/IMG_00025165.jpg: ignoring corrupt image/label: non-normalized or out of bounds coordinates [     1.0215]\n",
            "\u001b[34m\u001b[1mval: \u001b[0mWARNING ⚠️ /content/datasets/hand-keypoints/val/images/IMG_00025227.jpg: ignoring corrupt image/label: non-normalized or out of bounds coordinates [     1.0277]\n",
            "\u001b[34m\u001b[1mval: \u001b[0mWARNING ⚠️ /content/datasets/hand-keypoints/val/images/IMG_00025240.jpg: ignoring corrupt image/label: non-normalized or out of bounds coordinates [     1.0029]\n",
            "\u001b[34m\u001b[1mval: \u001b[0mWARNING ⚠️ /content/datasets/hand-keypoints/val/images/IMG_00025243.jpg: ignoring corrupt image/label: non-normalized or out of bounds coordinates [     1.0294]\n",
            "\u001b[34m\u001b[1mval: \u001b[0mWARNING ⚠️ /content/datasets/hand-keypoints/val/images/IMG_00025367.jpg: ignoring corrupt image/label: non-normalized or out of bounds coordinates [     1.0035      1.0583      1.0963]\n",
            "\u001b[34m\u001b[1mval: \u001b[0mWARNING ⚠️ /content/datasets/hand-keypoints/val/images/IMG_00025411.jpg: ignoring corrupt image/label: non-normalized or out of bounds coordinates [     1.0004      1.0947      1.0339]\n",
            "\u001b[34m\u001b[1mval: \u001b[0mWARNING ⚠️ /content/datasets/hand-keypoints/val/images/IMG_00025492.jpg: ignoring corrupt image/label: non-normalized or out of bounds coordinates [     1.0107]\n",
            "\u001b[34m\u001b[1mval: \u001b[0mWARNING ⚠️ /content/datasets/hand-keypoints/val/images/IMG_00025493.jpg: ignoring corrupt image/label: non-normalized or out of bounds coordinates [     1.0198]\n",
            "\u001b[34m\u001b[1mval: \u001b[0mWARNING ⚠️ /content/datasets/hand-keypoints/val/images/IMG_00025501.jpg: ignoring corrupt image/label: non-normalized or out of bounds coordinates [     1.0143]\n",
            "\u001b[34m\u001b[1mval: \u001b[0mWARNING ⚠️ /content/datasets/hand-keypoints/val/images/IMG_00025503.jpg: ignoring corrupt image/label: non-normalized or out of bounds coordinates [     1.0087]\n",
            "\u001b[34m\u001b[1mval: \u001b[0mWARNING ⚠️ /content/datasets/hand-keypoints/val/images/IMG_00025610.jpg: ignoring corrupt image/label: non-normalized or out of bounds coordinates [       1.02      1.0758      1.1245]\n",
            "\u001b[34m\u001b[1mval: \u001b[0mWARNING ⚠️ /content/datasets/hand-keypoints/val/images/IMG_00025669.jpg: ignoring corrupt image/label: non-normalized or out of bounds coordinates [     1.0228]\n",
            "\u001b[34m\u001b[1mval: \u001b[0mWARNING ⚠️ /content/datasets/hand-keypoints/val/images/IMG_00025785.jpg: ignoring corrupt image/label: non-normalized or out of bounds coordinates [     1.0138]\n",
            "\u001b[34m\u001b[1mval: \u001b[0mWARNING ⚠️ /content/datasets/hand-keypoints/val/images/IMG_00025826.jpg: ignoring corrupt image/label: non-normalized or out of bounds coordinates [     1.0025]\n",
            "\u001b[34m\u001b[1mval: \u001b[0mWARNING ⚠️ /content/datasets/hand-keypoints/val/images/IMG_00025962.jpg: ignoring corrupt image/label: non-normalized or out of bounds coordinates [     1.0764]\n",
            "\u001b[34m\u001b[1mval: \u001b[0mWARNING ⚠️ /content/datasets/hand-keypoints/val/images/IMG_00026254.jpg: ignoring corrupt image/label: non-normalized or out of bounds coordinates [     1.0257]\n",
            "\u001b[34m\u001b[1mval: \u001b[0mWARNING ⚠️ /content/datasets/hand-keypoints/val/images/IMG_00026255.jpg: ignoring corrupt image/label: non-normalized or out of bounds coordinates [     1.0264]\n",
            "\u001b[34m\u001b[1mval: \u001b[0mWARNING ⚠️ /content/datasets/hand-keypoints/val/images/IMG_00026506.jpg: ignoring corrupt image/label: non-normalized or out of bounds coordinates [     1.0013]\n",
            "\u001b[34m\u001b[1mval: \u001b[0mWARNING ⚠️ /content/datasets/hand-keypoints/val/images/IMG_00026507.jpg: ignoring corrupt image/label: non-normalized or out of bounds coordinates [     1.0183]\n",
            "\u001b[34m\u001b[1mval: \u001b[0mWARNING ⚠️ /content/datasets/hand-keypoints/val/images/IMG_00026508.jpg: ignoring corrupt image/label: non-normalized or out of bounds coordinates [     1.0182]\n",
            "\u001b[34m\u001b[1mval: \u001b[0mWARNING ⚠️ /content/datasets/hand-keypoints/val/images/IMG_00026821.jpg: ignoring corrupt image/label: non-normalized or out of bounds coordinates [     1.0078      1.0395]\n",
            "\u001b[34m\u001b[1mval: \u001b[0mWARNING ⚠️ /content/datasets/hand-keypoints/val/images/IMG_00026823.jpg: ignoring corrupt image/label: non-normalized or out of bounds coordinates [     1.0004       1.032]\n",
            "\u001b[34m\u001b[1mval: \u001b[0mWARNING ⚠️ /content/datasets/hand-keypoints/val/images/IMG_00027075.jpg: ignoring corrupt image/label: non-normalized or out of bounds coordinates [     1.0074]\n",
            "\u001b[34m\u001b[1mval: \u001b[0mWARNING ⚠️ /content/datasets/hand-keypoints/val/images/IMG_00027080.jpg: ignoring corrupt image/label: non-normalized or out of bounds coordinates [     1.0135]\n",
            "\u001b[34m\u001b[1mval: \u001b[0mWARNING ⚠️ /content/datasets/hand-keypoints/val/images/IMG_00027704.jpg: ignoring corrupt image/label: non-normalized or out of bounds coordinates [     1.0027]\n",
            "\u001b[34m\u001b[1mval: \u001b[0mWARNING ⚠️ /content/datasets/hand-keypoints/val/images/IMG_00027976.jpg: ignoring corrupt image/label: non-normalized or out of bounds coordinates [     1.0408      1.0878]\n",
            "\u001b[34m\u001b[1mval: \u001b[0mWARNING ⚠️ /content/datasets/hand-keypoints/val/images/IMG_00027994.jpg: ignoring corrupt image/label: non-normalized or out of bounds coordinates [     1.0138]\n",
            "\u001b[34m\u001b[1mval: \u001b[0mWARNING ⚠️ /content/datasets/hand-keypoints/val/images/IMG_00034349.jpg: ignoring corrupt image/label: non-normalized or out of bounds coordinates [     1.0249]\n",
            "\u001b[34m\u001b[1mval: \u001b[0mWARNING ⚠️ /content/datasets/hand-keypoints/val/images/IMG_00034421.jpg: ignoring corrupt image/label: non-normalized or out of bounds coordinates [     1.0076]\n",
            "\u001b[34m\u001b[1mval: \u001b[0mWARNING ⚠️ /content/datasets/hand-keypoints/val/images/IMG_00034527.jpg: ignoring corrupt image/label: non-normalized or out of bounds coordinates [     1.0115]\n",
            "\u001b[34m\u001b[1mval: \u001b[0mWARNING ⚠️ /content/datasets/hand-keypoints/val/images/IMG_00034962.jpg: ignoring corrupt image/label: non-normalized or out of bounds coordinates [     1.0867]\n",
            "\u001b[34m\u001b[1mval: \u001b[0mWARNING ⚠️ /content/datasets/hand-keypoints/val/images/IMG_00035027.jpg: ignoring corrupt image/label: non-normalized or out of bounds coordinates [     1.0038]\n",
            "\u001b[34m\u001b[1mval: \u001b[0mWARNING ⚠️ /content/datasets/hand-keypoints/val/images/IMG_00035055.jpg: ignoring corrupt image/label: non-normalized or out of bounds coordinates [     1.0369]\n",
            "\u001b[34m\u001b[1mval: \u001b[0mWARNING ⚠️ /content/datasets/hand-keypoints/val/images/IMG_00035057.jpg: ignoring corrupt image/label: non-normalized or out of bounds coordinates [     1.0388]\n",
            "\u001b[34m\u001b[1mval: \u001b[0mWARNING ⚠️ /content/datasets/hand-keypoints/val/images/IMG_00035059.jpg: ignoring corrupt image/label: non-normalized or out of bounds coordinates [     1.0393]\n",
            "\u001b[34m\u001b[1mval: \u001b[0mWARNING ⚠️ /content/datasets/hand-keypoints/val/images/IMG_00035123.jpg: ignoring corrupt image/label: non-normalized or out of bounds coordinates [     1.0529]\n",
            "\u001b[34m\u001b[1mval: \u001b[0mWARNING ⚠️ /content/datasets/hand-keypoints/val/images/IMG_00035125.jpg: ignoring corrupt image/label: non-normalized or out of bounds coordinates [     1.0406]\n",
            "\u001b[34m\u001b[1mval: \u001b[0mWARNING ⚠️ /content/datasets/hand-keypoints/val/images/IMG_00035439.jpg: ignoring corrupt image/label: non-normalized or out of bounds coordinates [     1.0209]\n",
            "\u001b[34m\u001b[1mval: \u001b[0mWARNING ⚠️ /content/datasets/hand-keypoints/val/images/IMG_00035441.jpg: ignoring corrupt image/label: non-normalized or out of bounds coordinates [     1.0093]\n"
          ]
        },
        {
          "metadata": {
            "tags": null
          },
          "name": "stderr",
          "output_type": "stream",
          "text": [
            "\n"
          ]
        },
        {
          "metadata": {
            "tags": null
          },
          "name": "stdout",
          "output_type": "stream",
          "text": [
            "\u001b[34m\u001b[1mval: \u001b[0mNew cache created: /content/datasets/hand-keypoints/val/labels.cache\n",
            "Plotting labels to runs/pose/train/labels.jpg... \n",
            "\u001b[34m\u001b[1moptimizer:\u001b[0m 'optimizer=auto' found, ignoring 'lr0=0.01' and 'momentum=0.937' and determining best 'optimizer', 'lr0' and 'momentum' automatically... \n",
            "\u001b[34m\u001b[1moptimizer:\u001b[0m AdamW(lr=0.002, momentum=0.9) with parameter groups 87 weight(decay=0.0), 97 weight(decay=0.0005), 96 bias(decay=0.0)\n",
            "\u001b[34m\u001b[1mTensorBoard: \u001b[0mmodel graph visualization added ✅\n",
            "Image sizes 640 train, 640 val\n",
            "Using 8 dataloader workers\n",
            "Logging results to \u001b[1mruns/pose/train\u001b[0m\n",
            "Starting training for 30 epochs...\n",
            "\n",
            "      Epoch    GPU_mem   box_loss  pose_loss  kobj_loss   cls_loss   dfl_loss  Instances       Size\n"
          ]
        },
        {
          "metadata": {
            "tags": null
          },
          "name": "stderr",
          "output_type": "stream",
          "text": [
            "       1/30      2.76G      1.021       8.73     0.5721     0.7997      1.353         28        640: 100%|██████████| 1143/1143 [02:34<00:00,  7.41it/s]\n",
            "                 Class     Images  Instances      Box(P          R      mAP50  mAP50-95)     Pose(P          R      mAP50  mAP50-95): 100%|██████████| 244/244 [00:43<00:00,  5.59it/s]\n"
          ]
        },
        {
          "metadata": {
            "tags": null
          },
          "name": "stdout",
          "output_type": "stream",
          "text": [
            "                   all       7808       7808       0.93      0.889      0.955      0.735      0.731       0.44      0.391      0.112\n",
            "\n",
            "      Epoch    GPU_mem   box_loss  pose_loss  kobj_loss   cls_loss   dfl_loss  Instances       Size\n"
          ]
        },
        {
          "metadata": {
            "tags": null
          },
          "name": "stderr",
          "output_type": "stream",
          "text": [
            "       2/30       2.8G      0.982      6.981     0.4144     0.7072      1.308         26        640: 100%|██████████| 1143/1143 [02:26<00:00,  7.83it/s]\n",
            "                 Class     Images  Instances      Box(P          R      mAP50  mAP50-95)     Pose(P          R      mAP50  mAP50-95): 100%|██████████| 244/244 [00:44<00:00,  5.51it/s]\n"
          ]
        },
        {
          "metadata": {
            "tags": null
          },
          "name": "stdout",
          "output_type": "stream",
          "text": [
            "                   all       7808       7808      0.927      0.907      0.965      0.748      0.815      0.512      0.517      0.217\n",
            "\n",
            "      Epoch    GPU_mem   box_loss  pose_loss  kobj_loss   cls_loss   dfl_loss  Instances       Size\n"
          ]
        },
        {
          "metadata": {
            "tags": null
          },
          "name": "stderr",
          "output_type": "stream",
          "text": [
            "       3/30      2.79G     0.9494      6.284     0.3687     0.6805      1.282         29        640: 100%|██████████| 1143/1143 [02:21<00:00,  8.06it/s]\n",
            "                 Class     Images  Instances      Box(P          R      mAP50  mAP50-95)     Pose(P          R      mAP50  mAP50-95): 100%|██████████| 244/244 [00:43<00:00,  5.58it/s]\n"
          ]
        },
        {
          "metadata": {
            "tags": null
          },
          "name": "stdout",
          "output_type": "stream",
          "text": [
            "                   all       7808       7808      0.938      0.914      0.962      0.765      0.505      0.351      0.218     0.0906\n",
            "\n",
            "      Epoch    GPU_mem   box_loss  pose_loss  kobj_loss   cls_loss   dfl_loss  Instances       Size\n"
          ]
        },
        {
          "metadata": {
            "tags": null
          },
          "name": "stderr",
          "output_type": "stream",
          "text": [
            "       4/30       2.8G     0.9043      5.829     0.3389     0.6315      1.248         25        640: 100%|██████████| 1143/1143 [02:19<00:00,  8.17it/s]\n",
            "                 Class     Images  Instances      Box(P          R      mAP50  mAP50-95)     Pose(P          R      mAP50  mAP50-95): 100%|██████████| 244/244 [00:43<00:00,  5.61it/s]\n"
          ]
        },
        {
          "metadata": {
            "tags": null
          },
          "name": "stdout",
          "output_type": "stream",
          "text": [
            "                   all       7808       7808      0.952      0.937      0.974      0.784      0.849      0.587      0.623      0.355\n",
            "\n",
            "      Epoch    GPU_mem   box_loss  pose_loss  kobj_loss   cls_loss   dfl_loss  Instances       Size\n"
          ]
        },
        {
          "metadata": {
            "tags": null
          },
          "name": "stderr",
          "output_type": "stream",
          "text": [
            "       5/30      2.79G      0.871      5.428     0.3169     0.5982      1.224         34        640: 100%|██████████| 1143/1143 [02:20<00:00,  8.14it/s]\n",
            "                 Class     Images  Instances      Box(P          R      mAP50  mAP50-95)     Pose(P          R      mAP50  mAP50-95): 100%|██████████| 244/244 [00:42<00:00,  5.68it/s]\n"
          ]
        },
        {
          "metadata": {
            "tags": null
          },
          "name": "stdout",
          "output_type": "stream",
          "text": [
            "                   all       7808       7808      0.953      0.942      0.982      0.813      0.812      0.636      0.649      0.403\n",
            "\n",
            "      Epoch    GPU_mem   box_loss  pose_loss  kobj_loss   cls_loss   dfl_loss  Instances       Size\n"
          ]
        },
        {
          "metadata": {
            "tags": null
          },
          "name": "stderr",
          "output_type": "stream",
          "text": [
            "       6/30      2.76G     0.8403      5.107     0.3022     0.5647      1.201         29        640: 100%|██████████| 1143/1143 [02:18<00:00,  8.23it/s]\n",
            "                 Class     Images  Instances      Box(P          R      mAP50  mAP50-95)     Pose(P          R      mAP50  mAP50-95): 100%|██████████| 244/244 [00:43<00:00,  5.65it/s]\n"
          ]
        },
        {
          "metadata": {
            "tags": null
          },
          "name": "stdout",
          "output_type": "stream",
          "text": [
            "                   all       7808       7808      0.954      0.955      0.984      0.826      0.819      0.648      0.672      0.433\n",
            "\n",
            "      Epoch    GPU_mem   box_loss  pose_loss  kobj_loss   cls_loss   dfl_loss  Instances       Size\n"
          ]
        },
        {
          "metadata": {
            "tags": null
          },
          "name": "stderr",
          "output_type": "stream",
          "text": [
            "       7/30      2.76G     0.8182      4.892     0.2903     0.5496      1.188         31        640: 100%|██████████| 1143/1143 [02:19<00:00,  8.20it/s]\n",
            "                 Class     Images  Instances      Box(P          R      mAP50  mAP50-95)     Pose(P          R      mAP50  mAP50-95): 100%|██████████| 244/244 [00:43<00:00,  5.65it/s]\n"
          ]
        },
        {
          "metadata": {
            "tags": null
          },
          "name": "stdout",
          "output_type": "stream",
          "text": [
            "                   all       7808       7808      0.931      0.953      0.982      0.822      0.823      0.668      0.704      0.475\n",
            "\n",
            "      Epoch    GPU_mem   box_loss  pose_loss  kobj_loss   cls_loss   dfl_loss  Instances       Size\n"
          ]
        },
        {
          "metadata": {
            "tags": null
          },
          "name": "stderr",
          "output_type": "stream",
          "text": [
            "       8/30      2.76G     0.7977      4.669     0.2823     0.5284      1.174         28        640: 100%|██████████| 1143/1143 [02:18<00:00,  8.25it/s]\n",
            "                 Class     Images  Instances      Box(P          R      mAP50  mAP50-95)     Pose(P          R      mAP50  mAP50-95): 100%|██████████| 244/244 [00:43<00:00,  5.62it/s]\n"
          ]
        },
        {
          "metadata": {
            "tags": null
          },
          "name": "stdout",
          "output_type": "stream",
          "text": [
            "                   all       7808       7808       0.96      0.961      0.987      0.844      0.771      0.668      0.637       0.43\n",
            "\n",
            "      Epoch    GPU_mem   box_loss  pose_loss  kobj_loss   cls_loss   dfl_loss  Instances       Size\n"
          ]
        },
        {
          "metadata": {
            "tags": null
          },
          "name": "stderr",
          "output_type": "stream",
          "text": [
            "       9/30      2.77G     0.7825      4.511     0.2762     0.5084      1.166         33        640: 100%|██████████| 1143/1143 [02:20<00:00,  8.15it/s]\n",
            "                 Class     Images  Instances      Box(P          R      mAP50  mAP50-95)     Pose(P          R      mAP50  mAP50-95): 100%|██████████| 244/244 [00:43<00:00,  5.61it/s]\n"
          ]
        },
        {
          "metadata": {
            "tags": null
          },
          "name": "stdout",
          "output_type": "stream",
          "text": [
            "                   all       7808       7808      0.963       0.96      0.987      0.842      0.818      0.707      0.714      0.499\n",
            "\n",
            "      Epoch    GPU_mem   box_loss  pose_loss  kobj_loss   cls_loss   dfl_loss  Instances       Size\n"
          ]
        },
        {
          "metadata": {
            "tags": null
          },
          "name": "stderr",
          "output_type": "stream",
          "text": [
            "      10/30      2.77G     0.7783      4.428     0.2676     0.5067      1.162         32        640: 100%|██████████| 1143/1143 [02:19<00:00,  8.19it/s]\n",
            "                 Class     Images  Instances      Box(P          R      mAP50  mAP50-95)     Pose(P          R      mAP50  mAP50-95): 100%|██████████| 244/244 [00:43<00:00,  5.60it/s]\n"
          ]
        },
        {
          "metadata": {
            "tags": null
          },
          "name": "stdout",
          "output_type": "stream",
          "text": [
            "                   all       7808       7808      0.949      0.967      0.987      0.851      0.822      0.707      0.725      0.511\n",
            "\n",
            "      Epoch    GPU_mem   box_loss  pose_loss  kobj_loss   cls_loss   dfl_loss  Instances       Size\n"
          ]
        },
        {
          "metadata": {
            "tags": null
          },
          "name": "stderr",
          "output_type": "stream",
          "text": [
            "      11/30      2.77G     0.7653      4.311     0.2641     0.4921      1.151         17        640: 100%|██████████| 1143/1143 [02:19<00:00,  8.18it/s]\n",
            "                 Class     Images  Instances      Box(P          R      mAP50  mAP50-95)     Pose(P          R      mAP50  mAP50-95): 100%|██████████| 244/244 [00:43<00:00,  5.60it/s]\n"
          ]
        },
        {
          "metadata": {
            "tags": null
          },
          "name": "stdout",
          "output_type": "stream",
          "text": [
            "                   all       7808       7808       0.96      0.966      0.987      0.854      0.784      0.702      0.685      0.477\n",
            "\n",
            "      Epoch    GPU_mem   box_loss  pose_loss  kobj_loss   cls_loss   dfl_loss  Instances       Size\n"
          ]
        },
        {
          "metadata": {
            "tags": null
          },
          "name": "stderr",
          "output_type": "stream",
          "text": [
            "      12/30      2.76G     0.7499      4.186     0.2599     0.4839      1.148         27        640: 100%|██████████| 1143/1143 [02:19<00:00,  8.21it/s]\n",
            "                 Class     Images  Instances      Box(P          R      mAP50  mAP50-95)     Pose(P          R      mAP50  mAP50-95): 100%|██████████| 244/244 [00:43<00:00,  5.65it/s]\n"
          ]
        },
        {
          "metadata": {
            "tags": null
          },
          "name": "stdout",
          "output_type": "stream",
          "text": [
            "                   all       7808       7808      0.967      0.966      0.988      0.868      0.831      0.741       0.77      0.564\n",
            "\n",
            "      Epoch    GPU_mem   box_loss  pose_loss  kobj_loss   cls_loss   dfl_loss  Instances       Size\n"
          ]
        },
        {
          "metadata": {
            "tags": null
          },
          "name": "stderr",
          "output_type": "stream",
          "text": [
            "      13/30      2.76G      0.739      4.065     0.2558     0.4731      1.139         22        640: 100%|██████████| 1143/1143 [02:18<00:00,  8.24it/s]\n",
            "                 Class     Images  Instances      Box(P          R      mAP50  mAP50-95)     Pose(P          R      mAP50  mAP50-95): 100%|██████████| 244/244 [00:43<00:00,  5.62it/s]\n"
          ]
        },
        {
          "metadata": {
            "tags": null
          },
          "name": "stdout",
          "output_type": "stream",
          "text": [
            "                   all       7808       7808      0.959      0.973      0.988      0.863      0.842      0.735      0.764      0.563\n",
            "\n",
            "      Epoch    GPU_mem   box_loss  pose_loss  kobj_loss   cls_loss   dfl_loss  Instances       Size\n"
          ]
        },
        {
          "metadata": {
            "tags": null
          },
          "name": "stderr",
          "output_type": "stream",
          "text": [
            "      14/30      2.76G     0.7295      3.938     0.2501     0.4648      1.135         27        640: 100%|██████████| 1143/1143 [02:18<00:00,  8.25it/s]\n",
            "                 Class     Images  Instances      Box(P          R      mAP50  mAP50-95)     Pose(P          R      mAP50  mAP50-95): 100%|██████████| 244/244 [00:43<00:00,  5.67it/s]\n"
          ]
        },
        {
          "metadata": {
            "tags": null
          },
          "name": "stdout",
          "output_type": "stream",
          "text": [
            "                   all       7808       7808       0.97      0.971       0.99      0.871      0.834      0.747      0.771      0.579\n",
            "\n",
            "      Epoch    GPU_mem   box_loss  pose_loss  kobj_loss   cls_loss   dfl_loss  Instances       Size\n"
          ]
        },
        {
          "metadata": {
            "tags": null
          },
          "name": "stderr",
          "output_type": "stream",
          "text": [
            "      15/30      2.76G     0.7172      3.826     0.2461     0.4537      1.124         29        640: 100%|██████████| 1143/1143 [02:18<00:00,  8.26it/s]\n",
            "                 Class     Images  Instances      Box(P          R      mAP50  mAP50-95)     Pose(P          R      mAP50  mAP50-95): 100%|██████████| 244/244 [00:43<00:00,  5.66it/s]\n"
          ]
        },
        {
          "metadata": {
            "tags": null
          },
          "name": "stdout",
          "output_type": "stream",
          "text": [
            "                   all       7808       7808       0.97      0.969       0.99      0.874      0.814       0.75      0.748      0.561\n",
            "\n",
            "      Epoch    GPU_mem   box_loss  pose_loss  kobj_loss   cls_loss   dfl_loss  Instances       Size\n"
          ]
        },
        {
          "metadata": {
            "tags": null
          },
          "name": "stderr",
          "output_type": "stream",
          "text": [
            "      16/30      2.76G      0.704      3.806     0.2433     0.4463      1.119         22        640: 100%|██████████| 1143/1143 [02:18<00:00,  8.25it/s]\n",
            "                 Class     Images  Instances      Box(P          R      mAP50  mAP50-95)     Pose(P          R      mAP50  mAP50-95): 100%|██████████| 244/244 [00:42<00:00,  5.68it/s]\n"
          ]
        },
        {
          "metadata": {
            "tags": null
          },
          "name": "stdout",
          "output_type": "stream",
          "text": [
            "                   all       7808       7808      0.966      0.972       0.99      0.876      0.829      0.746      0.761      0.571\n",
            "\n",
            "      Epoch    GPU_mem   box_loss  pose_loss  kobj_loss   cls_loss   dfl_loss  Instances       Size\n"
          ]
        },
        {
          "metadata": {
            "tags": null
          },
          "name": "stderr",
          "output_type": "stream",
          "text": [
            "      17/30      2.76G     0.7081      3.733     0.2405     0.4468      1.119         29        640: 100%|██████████| 1143/1143 [02:18<00:00,  8.26it/s]\n",
            "                 Class     Images  Instances      Box(P          R      mAP50  mAP50-95)     Pose(P          R      mAP50  mAP50-95): 100%|██████████| 244/244 [00:42<00:00,  5.69it/s]\n"
          ]
        },
        {
          "metadata": {
            "tags": null
          },
          "name": "stdout",
          "output_type": "stream",
          "text": [
            "                   all       7808       7808       0.97      0.972       0.99      0.881      0.826       0.77       0.77      0.586\n",
            "\n",
            "      Epoch    GPU_mem   box_loss  pose_loss  kobj_loss   cls_loss   dfl_loss  Instances       Size\n"
          ]
        },
        {
          "metadata": {
            "tags": null
          },
          "name": "stderr",
          "output_type": "stream",
          "text": [
            "      18/30      2.76G     0.6936      3.614      0.238     0.4347      1.116         29        640: 100%|██████████| 1143/1143 [02:18<00:00,  8.26it/s]\n",
            "                 Class     Images  Instances      Box(P          R      mAP50  mAP50-95)     Pose(P          R      mAP50  mAP50-95): 100%|██████████| 244/244 [00:43<00:00,  5.65it/s]\n"
          ]
        },
        {
          "metadata": {
            "tags": null
          },
          "name": "stdout",
          "output_type": "stream",
          "text": [
            "                   all       7808       7808      0.971      0.971       0.99      0.881       0.84      0.781      0.789      0.607\n",
            "\n",
            "      Epoch    GPU_mem   box_loss  pose_loss  kobj_loss   cls_loss   dfl_loss  Instances       Size\n"
          ]
        },
        {
          "metadata": {
            "tags": null
          },
          "name": "stderr",
          "output_type": "stream",
          "text": [
            "      19/30      2.76G     0.6868      3.586     0.2338     0.4315      1.109         33        640: 100%|██████████| 1143/1143 [02:18<00:00,  8.27it/s]\n",
            "                 Class     Images  Instances      Box(P          R      mAP50  mAP50-95)     Pose(P          R      mAP50  mAP50-95): 100%|██████████| 244/244 [00:42<00:00,  5.68it/s]\n"
          ]
        },
        {
          "metadata": {
            "tags": null
          },
          "name": "stdout",
          "output_type": "stream",
          "text": [
            "                   all       7808       7808      0.968      0.975       0.99      0.886      0.848      0.786      0.807      0.627\n",
            "\n",
            "      Epoch    GPU_mem   box_loss  pose_loss  kobj_loss   cls_loss   dfl_loss  Instances       Size\n"
          ]
        },
        {
          "metadata": {
            "tags": null
          },
          "name": "stderr",
          "output_type": "stream",
          "text": [
            "      20/30      2.76G     0.6813      3.497     0.2347     0.4215      1.104         22        640: 100%|██████████| 1143/1143 [02:17<00:00,  8.28it/s]\n",
            "                 Class     Images  Instances      Box(P          R      mAP50  mAP50-95)     Pose(P          R      mAP50  mAP50-95): 100%|██████████| 244/244 [00:43<00:00,  5.67it/s]\n"
          ]
        },
        {
          "metadata": {
            "tags": null
          },
          "name": "stdout",
          "output_type": "stream",
          "text": [
            "                   all       7808       7808      0.969      0.973       0.99      0.887      0.838      0.786       0.79      0.615\n",
            "Closing dataloader mosaic\n",
            "\u001b[34m\u001b[1malbumentations: \u001b[0mBlur(p=0.01, blur_limit=(3, 7)), MedianBlur(p=0.01, blur_limit=(3, 7)), ToGray(p=0.01, num_output_channels=3, method='weighted_average'), CLAHE(p=0.01, clip_limit=(1.0, 4.0), tile_grid_size=(8, 8))\n",
            "\n",
            "      Epoch    GPU_mem   box_loss  pose_loss  kobj_loss   cls_loss   dfl_loss  Instances       Size\n"
          ]
        },
        {
          "metadata": {
            "tags": null
          },
          "name": "stderr",
          "output_type": "stream",
          "text": [
            "      21/30      2.76G     0.5816      2.789    0.08275      0.326      1.059         13        640: 100%|██████████| 1143/1143 [02:16<00:00,  8.36it/s]\n",
            "                 Class     Images  Instances      Box(P          R      mAP50  mAP50-95)     Pose(P          R      mAP50  mAP50-95): 100%|██████████| 244/244 [00:43<00:00,  5.65it/s]\n"
          ]
        },
        {
          "metadata": {
            "tags": null
          },
          "name": "stdout",
          "output_type": "stream",
          "text": [
            "                   all       7808       7808      0.971      0.976      0.991      0.889      0.849      0.798      0.822      0.653\n",
            "\n",
            "      Epoch    GPU_mem   box_loss  pose_loss  kobj_loss   cls_loss   dfl_loss  Instances       Size\n"
          ]
        },
        {
          "metadata": {
            "tags": null
          },
          "name": "stderr",
          "output_type": "stream",
          "text": [
            "      22/30      2.76G      0.557      2.663    0.07602     0.3119      1.043         13        640: 100%|██████████| 1143/1143 [02:16<00:00,  8.37it/s]\n",
            "                 Class     Images  Instances      Box(P          R      mAP50  mAP50-95)     Pose(P          R      mAP50  mAP50-95): 100%|██████████| 244/244 [00:43<00:00,  5.67it/s]\n"
          ]
        },
        {
          "metadata": {
            "tags": null
          },
          "name": "stdout",
          "output_type": "stream",
          "text": [
            "                   all       7808       7808      0.975      0.978      0.991      0.895      0.853      0.806       0.83      0.667\n",
            "\n",
            "      Epoch    GPU_mem   box_loss  pose_loss  kobj_loss   cls_loss   dfl_loss  Instances       Size\n"
          ]
        },
        {
          "metadata": {
            "tags": null
          },
          "name": "stderr",
          "output_type": "stream",
          "text": [
            "      23/30      2.76G     0.5451      2.576    0.07501     0.3025      1.035         13        640: 100%|██████████| 1143/1143 [02:15<00:00,  8.42it/s]\n",
            "                 Class     Images  Instances      Box(P          R      mAP50  mAP50-95)     Pose(P          R      mAP50  mAP50-95): 100%|██████████| 244/244 [00:43<00:00,  5.65it/s]\n"
          ]
        },
        {
          "metadata": {
            "tags": null
          },
          "name": "stdout",
          "output_type": "stream",
          "text": [
            "                   all       7808       7808      0.974      0.976      0.991        0.9      0.871      0.805      0.838      0.682\n",
            "\n",
            "      Epoch    GPU_mem   box_loss  pose_loss  kobj_loss   cls_loss   dfl_loss  Instances       Size\n"
          ]
        },
        {
          "metadata": {
            "tags": null
          },
          "name": "stderr",
          "output_type": "stream",
          "text": [
            "      24/30      2.76G     0.5296      2.467    0.07049     0.2917      1.023         13        640: 100%|██████████| 1143/1143 [02:15<00:00,  8.42it/s]\n",
            "                 Class     Images  Instances      Box(P          R      mAP50  mAP50-95)     Pose(P          R      mAP50  mAP50-95): 100%|██████████| 244/244 [00:42<00:00,  5.69it/s]\n"
          ]
        },
        {
          "metadata": {
            "tags": null
          },
          "name": "stdout",
          "output_type": "stream",
          "text": [
            "                   all       7808       7808      0.974       0.98      0.992      0.901      0.859      0.817      0.841       0.69\n",
            "\n",
            "      Epoch    GPU_mem   box_loss  pose_loss  kobj_loss   cls_loss   dfl_loss  Instances       Size\n"
          ]
        },
        {
          "output_type": "stream",
          "name": "stderr",
          "text": [
            "      25/30      2.76G     0.5189      2.389    0.06938     0.2856      1.016         13        640: 100%|██████████| 1143/1143 [02:15<00:00,  8.41it/s]\n",
            "                 Class     Images  Instances      Box(P          R      mAP50  mAP50-95)     Pose(P          R      mAP50  mAP50-95): 100%|██████████| 244/244 [00:43<00:00,  5.67it/s]\n"
          ]
        },
        {
          "output_type": "stream",
          "name": "stdout",
          "text": [
            "                   all       7808       7808      0.976      0.981      0.992      0.905      0.864      0.823      0.846      0.696\n",
            "\n",
            "      Epoch    GPU_mem   box_loss  pose_loss  kobj_loss   cls_loss   dfl_loss  Instances       Size\n"
          ]
        },
        {
          "output_type": "stream",
          "name": "stderr",
          "text": [
            "      26/30      2.76G     0.5054      2.323    0.06828     0.2741      1.007         13        640: 100%|██████████| 1143/1143 [02:15<00:00,  8.41it/s]\n",
            "                 Class     Images  Instances      Box(P          R      mAP50  mAP50-95)     Pose(P          R      mAP50  mAP50-95): 100%|██████████| 244/244 [00:42<00:00,  5.69it/s]\n"
          ]
        },
        {
          "output_type": "stream",
          "name": "stdout",
          "text": [
            "                   all       7808       7808      0.975       0.98      0.992      0.906      0.871      0.825      0.851        0.7\n",
            "\n",
            "      Epoch    GPU_mem   box_loss  pose_loss  kobj_loss   cls_loss   dfl_loss  Instances       Size\n"
          ]
        },
        {
          "output_type": "stream",
          "name": "stderr",
          "text": [
            "      27/30      2.76G     0.4937      2.252    0.06546     0.2656      1.001         13        640: 100%|██████████| 1143/1143 [02:16<00:00,  8.36it/s]\n",
            "                 Class     Images  Instances      Box(P          R      mAP50  mAP50-95)     Pose(P          R      mAP50  mAP50-95): 100%|██████████| 244/244 [00:43<00:00,  5.63it/s]\n"
          ]
        },
        {
          "output_type": "stream",
          "name": "stdout",
          "text": [
            "                   all       7808       7808      0.977      0.979      0.992      0.908      0.869      0.825      0.852      0.706\n",
            "\n",
            "      Epoch    GPU_mem   box_loss  pose_loss  kobj_loss   cls_loss   dfl_loss  Instances       Size\n"
          ]
        },
        {
          "output_type": "stream",
          "name": "stderr",
          "text": [
            "      28/30      2.76G     0.4845      2.194    0.06573     0.2582     0.9944         13        640: 100%|██████████| 1143/1143 [02:16<00:00,  8.35it/s]\n",
            "                 Class     Images  Instances      Box(P          R      mAP50  mAP50-95)     Pose(P          R      mAP50  mAP50-95): 100%|██████████| 244/244 [00:42<00:00,  5.69it/s]\n"
          ]
        },
        {
          "output_type": "stream",
          "name": "stdout",
          "text": [
            "                   all       7808       7808      0.979      0.976      0.992      0.909      0.879      0.829      0.859      0.711\n",
            "\n",
            "      Epoch    GPU_mem   box_loss  pose_loss  kobj_loss   cls_loss   dfl_loss  Instances       Size\n"
          ]
        },
        {
          "output_type": "stream",
          "name": "stderr",
          "text": [
            "      29/30      2.76G     0.4742      2.137    0.06436     0.2517     0.9889         13        640: 100%|██████████| 1143/1143 [02:15<00:00,  8.41it/s]\n",
            "                 Class     Images  Instances      Box(P          R      mAP50  mAP50-95)     Pose(P          R      mAP50  mAP50-95): 100%|██████████| 244/244 [00:43<00:00,  5.67it/s]\n"
          ]
        },
        {
          "output_type": "stream",
          "name": "stdout",
          "text": [
            "                   all       7808       7808      0.979      0.979      0.992       0.91      0.879      0.829       0.86      0.714\n",
            "\n",
            "      Epoch    GPU_mem   box_loss  pose_loss  kobj_loss   cls_loss   dfl_loss  Instances       Size\n"
          ]
        },
        {
          "output_type": "stream",
          "name": "stderr",
          "text": [
            "      30/30      2.76G     0.4667       2.11    0.06333     0.2469     0.9852         13        640: 100%|██████████| 1143/1143 [02:16<00:00,  8.39it/s]\n",
            "                 Class     Images  Instances      Box(P          R      mAP50  mAP50-95)     Pose(P          R      mAP50  mAP50-95): 100%|██████████| 244/244 [00:42<00:00,  5.71it/s]\n"
          ]
        },
        {
          "output_type": "stream",
          "name": "stdout",
          "text": [
            "                   all       7808       7808      0.978       0.98      0.992       0.91      0.878      0.833      0.862      0.718\n",
            "\n",
            "30 epochs completed in 1.527 hours.\n",
            "Optimizer stripped from runs/pose/train/weights/last.pt, 6.2MB\n",
            "Optimizer stripped from runs/pose/train/weights/best.pt, 6.2MB\n",
            "\n",
            "Validating runs/pose/train/weights/best.pt...\n",
            "Ultralytics 8.3.70 🚀 Python-3.11.11 torch-2.5.1+cu124 CUDA:0 (NVIDIA A100-SXM4-40GB, 40507MiB)\n",
            "YOLO11n-pose summary (fused): 257 layers, 2,956,000 parameters, 0 gradients, 7.8 GFLOPs\n"
          ]
        },
        {
          "output_type": "stream",
          "name": "stderr",
          "text": [
            "                 Class     Images  Instances      Box(P          R      mAP50  mAP50-95)     Pose(P          R      mAP50  mAP50-95): 100%|██████████| 244/244 [00:44<00:00,  5.53it/s]\n"
          ]
        },
        {
          "output_type": "stream",
          "name": "stdout",
          "text": [
            "                   all       7808       7808      0.978       0.98      0.992       0.91      0.878      0.833      0.862      0.718\n",
            "Speed: 0.1ms preprocess, 0.6ms inference, 0.0ms loss, 0.7ms postprocess per image\n",
            "Results saved to \u001b[1mruns/pose/train\u001b[0m\n"
          ]
        }
      ],
      "source": [
        "from ultralytics import YOLO\n",
        "\n",
        "model = YOLO(\"yolo11n-pose.pt\")\n",
        "\n",
        "results = model.train(data=\"hand-keypoints.yaml\", epochs=30, imgsz=640)"
      ]
    },
    {
      "cell_type": "code",
      "execution_count": 4,
      "metadata": {
        "id": "lXsXfrbO5xyI"
      },
      "outputs": [],
      "source": [
        "# !yolo pose train data=hand-keypoints.yaml model=yolo11n-pose.pt epochs=100 imgsz=640\n",
        "# model = YOLO(\"yolo11n-pose.pt\")"
      ]
    },
    {
      "cell_type": "code",
      "execution_count": 5,
      "metadata": {
        "id": "X-TQrBqg_A_n"
      },
      "outputs": [],
      "source": [
        "# results = model('/content/2332_R_1661231081863_enroll_0.png', save=True, save_txt=True)"
      ]
    },
    {
      "cell_type": "code",
      "execution_count": 9,
      "metadata": {
        "id": "4rEvj19e_YCL"
      },
      "outputs": [],
      "source": [
        "\n",
        "# results = model('/content/2332_R_1661231081863_enroll_0.png', save=True, save_txt=True)\n",
        "\n",
        "# Mostrar a imagem com as caixas e keypoints\n",
        "# results.show()\n",
        "\n",
        "# # Acessar as saídas (caixas e keypoints)\n",
        "# boxes = results.xywh[0]  # Coordenadas da caixa (x, y, largura, altura)\n",
        "# keypoints = result.keypoints[0]  # Posições dos keypoints da mão\n",
        "\n",
        "# # Exibir as coordenadas dos keypoints\n",
        "# for i, keypoint in enumerate(keypoints):\n",
        "#     x, y, conf = keypoint  # x, y são as coordenadas, conf é a confiança\n",
        "#     print(f\"Keypoint {i}: ({x:.2f}, {y:.2f}) com confiança {conf:.2f}\")"
      ]
    },
    {
      "cell_type": "code",
      "execution_count": 15,
      "metadata": {
        "id": "4yG-NFQGBgGb",
        "colab": {
          "base_uri": "https://localhost:8080/"
        },
        "outputId": "3c41d488-353a-4f89-a7cb-0e597eb44330"
      },
      "outputs": [
        {
          "output_type": "stream",
          "name": "stdout",
          "text": [
            "WARNING ⚠️ Environment does not support cv2.imshow() or PIL Image.show()\n",
            "\n",
            "\n",
            "Saving runs/pose/output/tests5/8hands/stage0_Conv_features.png... (16/16)\n",
            "Saving runs/pose/output/tests5/8hands/stage1_Conv_features.png... (32/32)\n",
            "Saving runs/pose/output/tests5/8hands/stage2_C3k2_features.png... (32/64)\n",
            "Saving runs/pose/output/tests5/8hands/stage3_Conv_features.png... (32/64)\n",
            "Saving runs/pose/output/tests5/8hands/stage4_C3k2_features.png... (32/128)\n",
            "Saving runs/pose/output/tests5/8hands/stage5_Conv_features.png... (32/128)\n",
            "Saving runs/pose/output/tests5/8hands/stage6_C3k2_features.png... (32/128)\n",
            "Saving runs/pose/output/tests5/8hands/stage7_Conv_features.png... (32/256)\n",
            "Saving runs/pose/output/tests5/8hands/stage8_C3k2_features.png... (32/256)\n",
            "Saving runs/pose/output/tests5/8hands/stage9_SPPF_features.png... (32/256)\n",
            "Saving runs/pose/output/tests5/8hands/stage10_C2PSA_features.png... (32/256)\n",
            "Saving runs/pose/output/tests5/8hands/stage11_Upsample_features.png... (32/256)\n",
            "Saving runs/pose/output/tests5/8hands/stage12_Concat_features.png... (32/384)\n",
            "Saving runs/pose/output/tests5/8hands/stage13_C3k2_features.png... (32/128)\n",
            "Saving runs/pose/output/tests5/8hands/stage14_Upsample_features.png... (32/128)\n",
            "Saving runs/pose/output/tests5/8hands/stage15_Concat_features.png... (32/256)\n",
            "Saving runs/pose/output/tests5/8hands/stage16_C3k2_features.png... (32/64)\n",
            "Saving runs/pose/output/tests5/8hands/stage17_Conv_features.png... (32/64)\n",
            "Saving runs/pose/output/tests5/8hands/stage18_Concat_features.png... (32/192)\n",
            "Saving runs/pose/output/tests5/8hands/stage19_C3k2_features.png... (32/128)\n",
            "Saving runs/pose/output/tests5/8hands/stage20_Conv_features.png... (32/128)\n",
            "Saving runs/pose/output/tests5/8hands/stage21_Concat_features.png... (32/384)\n",
            "Saving runs/pose/output/tests5/8hands/stage22_C3k2_features.png... (32/256)\n",
            "image 1/1 /content/8hands.jpg: 416x640 5 hands, 16526.6ms\n",
            "Speed: 2.5ms preprocess, 16526.6ms inference, 2.3ms postprocess per image at shape (1, 3, 416, 640)\n",
            "Results saved to \u001b[1mruns/pose/output/tests5\u001b[0m\n"
          ]
        }
      ],
      "source": [
        "image_path = '/content/8hands.jpg'\n",
        "\n",
        "# Carregar o modelo YOLO e realizar a predição na imagem\n",
        "model = YOLO('runs/pose/train/weights/best.pt')\n",
        "results = model.predict(source=image_path, show=True, save=True, project='runs/pose/output', name='tests', visualize=True)\n",
        "\n",
        "# Exibir os resultados\n",
        "# results.show()"
      ]
    },
    {
      "cell_type": "code",
      "source": [
        "results.show()"
      ],
      "metadata": {
        "colab": {
          "base_uri": "https://localhost:8080/",
          "height": 141
        },
        "id": "W-_EYdFuWXfz",
        "outputId": "05d55c3b-554c-4e38-e63e-e748cc97272f"
      },
      "execution_count": 14,
      "outputs": [
        {
          "output_type": "error",
          "ename": "AttributeError",
          "evalue": "'list' object has no attribute 'show'",
          "traceback": [
            "\u001b[0;31m---------------------------------------------------------------------------\u001b[0m",
            "\u001b[0;31mAttributeError\u001b[0m                            Traceback (most recent call last)",
            "\u001b[0;32m<ipython-input-14-db3c5f80454a>\u001b[0m in \u001b[0;36m<cell line: 0>\u001b[0;34m()\u001b[0m\n\u001b[0;32m----> 1\u001b[0;31m \u001b[0mresults\u001b[0m\u001b[0;34m.\u001b[0m\u001b[0mshow\u001b[0m\u001b[0;34m(\u001b[0m\u001b[0;34m)\u001b[0m\u001b[0;34m\u001b[0m\u001b[0;34m\u001b[0m\u001b[0m\n\u001b[0m",
            "\u001b[0;31mAttributeError\u001b[0m: 'list' object has no attribute 'show'"
          ]
        }
      ]
    },
    {
      "cell_type": "code",
      "source": [
        "from google.colab import drive\n",
        "drive.mount('/content/drive')"
      ],
      "metadata": {
        "colab": {
          "base_uri": "https://localhost:8080/"
        },
        "id": "ZRDIJCsDRpkh",
        "outputId": "54410328-02e8-406a-f3d0-e40006f220cd"
      },
      "execution_count": 10,
      "outputs": [
        {
          "output_type": "stream",
          "name": "stdout",
          "text": [
            "Mounted at /content/drive\n"
          ]
        }
      ]
    },
    {
      "cell_type": "code",
      "source": [
        "import shutil\n",
        "\n",
        "source_path = \"/content/runs\"  # Caminho da pasta na área de arquivos\n",
        "destination_path = \"/content/drive/MyDrive/003.Mestrado_UFU/projeto_pesquisa_palmprint/dados_pesquisa/runs\"  # Pasta de destino no Google Drive\n",
        "\n",
        "# Copiar a pasta inteira\n",
        "shutil.copytree(source_path, destination_path)\n",
        "print(\"Pasta copiada com sucesso!\")\n"
      ],
      "metadata": {
        "colab": {
          "base_uri": "https://localhost:8080/"
        },
        "id": "eW910X2pJv34",
        "outputId": "defb9554-d865-44a0-eaf0-99ad54ccdbb2"
      },
      "execution_count": 11,
      "outputs": [
        {
          "output_type": "stream",
          "name": "stdout",
          "text": [
            "Pasta copiada com sucesso!\n"
          ]
        }
      ]
    },
    {
      "cell_type": "code",
      "source": [],
      "metadata": {
        "id": "rcXAwQoySRAo"
      },
      "execution_count": null,
      "outputs": []
    }
  ],
  "metadata": {
    "accelerator": "GPU",
    "colab": {
      "gpuType": "A100",
      "provenance": [],
      "machine_shape": "hm",
      "authorship_tag": "ABX9TyOegeFEyLiIfNWhIOSs4PA1",
      "include_colab_link": true
    },
    "kernelspec": {
      "display_name": "Python 3",
      "name": "python3"
    },
    "language_info": {
      "name": "python"
    }
  },
  "nbformat": 4,
  "nbformat_minor": 0
}