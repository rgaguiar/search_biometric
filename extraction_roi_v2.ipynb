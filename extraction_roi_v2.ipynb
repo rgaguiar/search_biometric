{
  "nbformat": 4,
  "nbformat_minor": 0,
  "metadata": {
    "colab": {
      "provenance": [],
      "authorship_tag": "ABX9TyOJ3y4hsCMlnQIL0P0/Z0zg",
      "include_colab_link": true
    },
    "kernelspec": {
      "name": "python3",
      "display_name": "Python 3"
    },
    "language_info": {
      "name": "python"
    }
  },
  "cells": [
    {
      "cell_type": "markdown",
      "metadata": {
        "id": "view-in-github",
        "colab_type": "text"
      },
      "source": [
        "<a href=\"https://colab.research.google.com/github/rgaguiar/search_biometric/blob/main/extraction_roi_v2.ipynb\" target=\"_parent\"><img src=\"https://colab.research.google.com/assets/colab-badge.svg\" alt=\"Open In Colab\"/></a>"
      ]
    },
    {
      "cell_type": "code",
      "execution_count": 2,
      "metadata": {
        "colab": {
          "base_uri": "https://localhost:8080/"
        },
        "id": "NrNl-oW_r1WX",
        "outputId": "f829841d-13f8-447e-df1e-c874fcea902e"
      },
      "outputs": [
        {
          "output_type": "stream",
          "name": "stdout",
          "text": [
            "\u001b[2K   \u001b[90m━━━━━━━━━━━━━━━━━━━━━━━━━━━━━━━━━━━━━━━━\u001b[0m \u001b[32m35.6/35.6 MB\u001b[0m \u001b[31m8.6 MB/s\u001b[0m eta \u001b[36m0:00:00\u001b[0m\n",
            "\u001b[?25h"
          ]
        }
      ],
      "source": [
        "!pip install -q mediapipe"
      ]
    },
    {
      "cell_type": "code",
      "source": [
        "!wget -q https://storage.googleapis.com/mediapipe-models/hand_landmarker/hand_landmarker/float16/1/hand_landmarker.task"
      ],
      "metadata": {
        "id": "UxxgXevTsg6L"
      },
      "execution_count": 3,
      "outputs": []
    },
    {
      "cell_type": "code",
      "source": [
        "from google.colab import drive\n",
        "drive.mount('/content/drive')"
      ],
      "metadata": {
        "colab": {
          "base_uri": "https://localhost:8080/"
        },
        "id": "1QcQ-RHjtGOr",
        "outputId": "357e6959-8667-4376-e601-689c53f2e2fe"
      },
      "execution_count": 4,
      "outputs": [
        {
          "output_type": "stream",
          "name": "stdout",
          "text": [
            "Mounted at /content/drive\n"
          ]
        }
      ]
    },
    {
      "cell_type": "code",
      "source": [
        "from mediapipe import solutions\n",
        "from mediapipe.framework.formats import landmark_pb2\n",
        "import numpy as np\n",
        "\n",
        "import mediapipe as mp\n",
        "from mediapipe.tasks import python\n",
        "from mediapipe.tasks.python import vision\n",
        "import cv2\n",
        "from pathlib import Path\n",
        "import os\n",
        "\n"
      ],
      "metadata": {
        "id": "-YUeNf1qskL4"
      },
      "execution_count": 5,
      "outputs": []
    },
    {
      "cell_type": "code",
      "source": [
        "# STEP 2: Create an HandLandmarker object.\n",
        "base_options = python.BaseOptions(model_asset_path='hand_landmarker.task')\n",
        "\n",
        "options = vision.HandLandmarkerOptions(base_options=base_options,\n",
        "                                       num_hands=2,\n",
        "                                       min_hand_detection_confidence=0.0\n",
        "                                       )\n",
        "\n",
        "detector = vision.HandLandmarker.create_from_options(options)\n",
        "\n",
        "def coordinate(id, h, w, lm):\n",
        "    cx, cy = lm.x * w, lm.y * h\n",
        "    return cx, cy\n",
        "\n",
        "def extract_hand_roi(image_path, output_path, mirror=False):\n",
        "    \"\"\"\n",
        "    Função para extrair o ROI da impressão palmar a partir de uma imagem de mão usando MediaPipe Hands.\n",
        "\n",
        "    Parâmetros:\n",
        "    - image_path (str): Caminho para a imagem da mão.\n",
        "    - output_path (str): Caminho para salvar a imagem do ROI extraído.\n",
        "    - mirror (bool): Se True, espelha a imagem horizontalmente.\n",
        "    \"\"\"\n",
        "    img = cv2.imread(str(image_path))\n",
        "\n",
        "    if img is None:\n",
        "        print(f\"Erro ao carregar a imagem: {image_path}\")\n",
        "        return\n",
        "\n",
        "    if mirror:\n",
        "        img = cv2.flip(img, 1)\n",
        "\n",
        "    # Convert the image to MediaPipe Image format\n",
        "    image_mp = mp.Image(image_format=mp.ImageFormat.SRGB, data=img)\n",
        "\n",
        "    # Detect hand landmarks from the input image.\n",
        "    detection_result = detector.detect(image_mp)\n",
        "\n",
        "    h, w, c = img.shape\n",
        "\n",
        "    if detection_result.hand_landmarks:\n",
        "        for i, hand_landmarks in enumerate(detection_result.hand_landmarks):\n",
        "            confidence = detection_result.handedness[i][0].score\n",
        "            print(f\"Caminho: {image_path} - Confiança de detecção para a mão {i + 1}: {confidence}\")\n",
        "\n",
        "            # Posição dos marcos\n",
        "            x5, y5 = coordinate(5, h, w, hand_landmarks[5])\n",
        "            x9, y9 = coordinate(9, h, w, hand_landmarks[9])\n",
        "            x13, y13 = coordinate(13, h, w, hand_landmarks[13])\n",
        "            x17, y17 = coordinate(17, h, w, hand_landmarks[17])\n",
        "\n",
        "            x_avg_5_9 = (x5 + x9) / 2\n",
        "            y_avg_5_9 = (y5 + y9) / 2\n",
        "\n",
        "            x_avg_13_17 = (x13 + x17) / 2\n",
        "            y_avg_13_17 = (y13 + y17) / 2\n",
        "\n",
        "            angle = np.arctan2(y_avg_13_17 - y_avg_5_9, x_avg_13_17 - x_avg_5_9)\n",
        "            angle_deg = np.degrees(angle)\n",
        "\n",
        "            R = cv2.getRotationMatrix2D((w // 2, h // 2), angle_deg, 1)\n",
        "            img_r = cv2.warpAffine(img, R, (w, h))\n",
        "\n",
        "            v1 = np.array([x_avg_5_9, y_avg_5_9, 1])\n",
        "            v2 = np.array([x_avg_13_17, y_avg_13_17, 1])\n",
        "            v1_rot = (R[:, :2] @ v1[:2] + R[:, 2]).astype(int)\n",
        "            v2_rot = (R[:, :2] @ v2[:2] + R[:, 2]).astype(int)\n",
        "\n",
        "            ux, uy = v1_rot[0], v1_rot[1]\n",
        "            lx, ly = v2_rot[0], v2_rot[1] + 3 * (v2_rot[0] - v1_rot[0]) // 3\n",
        "\n",
        "            img_c = cv2.cvtColor(img_r, cv2.COLOR_BGR2GRAY)\n",
        "            img_c = cv2.cvtColor(img_c, cv2.COLOR_GRAY2BGR)\n",
        "\n",
        "            # Verifica se as coordenadas da ROI estão dentro dos limites da imagem\n",
        "            x_min = max(int(min(lx, ux)), 0)\n",
        "            x_max = min(int(max(lx, ux)), w)\n",
        "            y_min = max(int(min(ly, uy)), 0)\n",
        "            y_max = min(int(max(ly, uy)), h)\n",
        "\n",
        "            # Verifica se a ROI é válida\n",
        "            if x_max <= x_min or y_max <= y_min:\n",
        "                print(f\"ROI inválida para a imagem: {image_path}. Coordenadas: x_min={x_min}, x_max={x_max}, y_min={y_min}, y_max={y_max}\")\n",
        "                continue\n",
        "\n",
        "            roi = img_c[y_min:y_max, x_min:x_max]\n",
        "\n",
        "            # Verifica se a ROI não está vazia\n",
        "            if roi.size == 0:\n",
        "                print(f\"ROI vazia para a imagem: {image_path}\")\n",
        "                continue\n",
        "\n",
        "            # Salva a ROI\n",
        "            cv2.imwrite(str(output_path), roi)\n",
        "\n",
        "            # Limpeza explícita da memória\n",
        "            del img, img_r, img_c, roi, R\n",
        "            break\n",
        "    else:\n",
        "        print(f\"Mão não detectada na imagem: {image_path}\")\n",
        "\n",
        "def process_all_folders_sequentially(input_folders, output_base_path):\n",
        "    \"\"\"\n",
        "    Função para processar todas as subpastas de maneira sequencial, uma por vez.\n",
        "\n",
        "    Parâmetros:\n",
        "    - input_folders (list): Lista de caminhos para as pastas de entrada.\n",
        "    - output_base_path (str): Caminho base para salvar os ROIs extraídos.\n",
        "    \"\"\"\n",
        "    for input_folder in input_folders:\n",
        "        for root, dirs, files in os.walk(input_folder):\n",
        "            for file in files:\n",
        "                if file.lower().endswith(('.png', '.jpg', '.jpeg')):\n",
        "                    image_path = Path(root) / file\n",
        "                    relative_path = Path(root).relative_to(input_folder)\n",
        "                    output_folder = output_base_path / relative_path\n",
        "                    output_folder.mkdir(parents=True, exist_ok=True)\n",
        "\n",
        "                    output_path = output_folder / f'roi_{file}'\n",
        "                    mirror = 'R' in os.path.basename(root)  # Verifica se o nome da pasta contém a letra 'R'\n",
        "                    extract_hand_roi(image_path, output_path, mirror=mirror)  # Processa uma imagem por vez\n",
        "\n",
        "                    # Liberação explícita da memória para cada imagem processada\n",
        "                    del image_path, relative_path, output_folder, output_path\n",
        "\n",
        "# Lista de pastas principais contendo subpastas com as imagens\n",
        "input_folders = [\n",
        "    Path(\"/content/drive/MyDrive/003.Mestrado_UFU/projeto_pesquisa_palmprint/dados_pesquisa/ChildPalmDB_1/\")\n",
        "]\n",
        "\n",
        "# Pasta de saída onde os ROIs serão salvos\n",
        "output_base_path = Path(\"/content/drive/MyDrive/003.Mestrado_UFU/projeto_pesquisa_palmprint/dados_pesquisa/ChildPalmDB_rois/v5_ChildPalmDB_1_roi\")\n",
        "\n",
        "# Processar todas as pastas de maneira sequencial\n",
        "process_all_folders_sequentially(input_folders, output_base_path)"
      ],
      "metadata": {
        "colab": {
          "base_uri": "https://localhost:8080/",
          "height": 211
        },
        "id": "RUrHOAwosoZu",
        "outputId": "76f59b44-ae1c-4e48-bf4e-e28106a6d8b4"
      },
      "execution_count": 6,
      "outputs": [
        {
          "output_type": "error",
          "ename": "TypeError",
          "evalue": "HandLandmarkerOptions.__init__() got an unexpected keyword argument 'model_complexity'",
          "traceback": [
            "\u001b[0;31m---------------------------------------------------------------------------\u001b[0m",
            "\u001b[0;31mTypeError\u001b[0m                                 Traceback (most recent call last)",
            "\u001b[0;32m<ipython-input-6-cc8a9ea27677>\u001b[0m in \u001b[0;36m<cell line: 0>\u001b[0;34m()\u001b[0m\n\u001b[1;32m      2\u001b[0m \u001b[0mbase_options\u001b[0m \u001b[0;34m=\u001b[0m \u001b[0mpython\u001b[0m\u001b[0;34m.\u001b[0m\u001b[0mBaseOptions\u001b[0m\u001b[0;34m(\u001b[0m\u001b[0mmodel_asset_path\u001b[0m\u001b[0;34m=\u001b[0m\u001b[0;34m'hand_landmarker.task'\u001b[0m\u001b[0;34m)\u001b[0m\u001b[0;34m\u001b[0m\u001b[0;34m\u001b[0m\u001b[0m\n\u001b[1;32m      3\u001b[0m \u001b[0;34m\u001b[0m\u001b[0m\n\u001b[0;32m----> 4\u001b[0;31m options = vision.HandLandmarkerOptions(base_options=base_options,\n\u001b[0m\u001b[1;32m      5\u001b[0m                                        \u001b[0mnum_hands\u001b[0m\u001b[0;34m=\u001b[0m\u001b[0;36m2\u001b[0m\u001b[0;34m,\u001b[0m\u001b[0;34m\u001b[0m\u001b[0;34m\u001b[0m\u001b[0m\n\u001b[1;32m      6\u001b[0m                                        \u001b[0mmin_hand_detection_confidence\u001b[0m\u001b[0;34m=\u001b[0m\u001b[0;36m0.0\u001b[0m\u001b[0;34m,\u001b[0m\u001b[0;34m\u001b[0m\u001b[0;34m\u001b[0m\u001b[0m\n",
            "\u001b[0;31mTypeError\u001b[0m: HandLandmarkerOptions.__init__() got an unexpected keyword argument 'model_complexity'"
          ]
        }
      ]
    },
    {
      "cell_type": "code",
      "source": [],
      "metadata": {
        "id": "Lka9tDc4tA_0"
      },
      "execution_count": null,
      "outputs": []
    }
  ]
}